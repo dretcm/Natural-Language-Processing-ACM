{
  "nbformat": 4,
  "nbformat_minor": 0,
  "metadata": {
    "colab": {
      "name": "Algoritmos_Clasificacion_Texto.ipynb",
      "provenance": [],
      "collapsed_sections": [
        "uy87Tgjf_UFM",
        "CL9dCOrn9zTn",
        "mD0vB5hsXwic",
        "EIIi46WzYZvc",
        "m50bRKLlikbx",
        "TGACSQVb-k61",
        "otNmi5tIRzHf",
        "OedJMmrcRIi_",
        "apZTvqywabkM",
        "2M6eCQKcefqh",
        "YpqXyOQJRq9m",
        "lyy1P9dl1hj8",
        "9SNuWx-ScSTg",
        "YjnAshwzxrKZ",
        "BnLT12Qx5D78",
        "FN-Bgfk-pI0m",
        "TynVoGb8aHaf",
        "ArzgpXzKdsg-",
        "a08eJlW7sAy7",
        "UeQATCRY99fJ",
        "iti6tzjoouFR",
        "rT7mmVnvFAcm",
        "IqeR3SaF1vZj",
        "YeBvifrnr3GY",
        "czQgfpQV2mHV",
        "fSHovwBR1ZfA",
        "IXXlUjrJ7DjR",
        "EE9Aus71bdUx"
      ],
      "authorship_tag": "ABX9TyM6emzNiQ5WFG4o9mhKxBrr",
      "include_colab_link": true
    },
    "kernelspec": {
      "name": "python3",
      "display_name": "Python 3"
    }
  },
  "cells": [
    {
      "cell_type": "markdown",
      "metadata": {
        "id": "view-in-github",
        "colab_type": "text"
      },
      "source": [
        "<a href=\"https://colab.research.google.com/github/dretcm/Natural-Language-Processing-ACM/blob/main/Algoritmos_Clasificacion_Texto.ipynb\" target=\"_parent\"><img src=\"https://colab.research.google.com/assets/colab-badge.svg\" alt=\"Open In Colab\"/></a>"
      ]
    },
    {
      "cell_type": "markdown",
      "metadata": {
        "id": "uy87Tgjf_UFM"
      },
      "source": [
        "# 1. Algoritmos de Clasificación de Texto"
      ]
    },
    {
      "cell_type": "markdown",
      "metadata": {
        "id": "CL9dCOrn9zTn"
      },
      "source": [
        "## Introduction"
      ]
    },
    {
      "cell_type": "markdown",
      "metadata": {
        "id": "y2Emnxg591yw"
      },
      "source": [
        "[Link pdf del curso](https://static.platzi.com/media/public/uploads/slides-clasificacion-texto_a68b15df-a0c0-4cc2-a658-00387fd2456e.pdf)\n",
        "\n",
        "<h1>Por qué es tan dificil?</h1>\n",
        "\n",
        "* El lenguaje humano es es difuso, ambiguo, y requiere mucho contexto.\n",
        "\n",
        "![](https://github.com/dretcm/Natural-Language-Processing-ACM/blob/main/NL%20images/ambiguedad.png?raw=true)\n",
        "\n",
        "**Ejemplos:**\n",
        "\n",
        "* Debo ir al $banco$(sustantivo) para retirar dinero.\n",
        "* Te puedes sentar en ese $banco$(sustantivo) para descansar.\n",
        "\n",
        "* Mi hermano es una persona muy $noble$(adjetivo).\n",
        "\n",
        "* El $noble$(sustantivo) del castillo no quiere ayudar a su pueblo.\n",
        "\n",
        "Estas palabras hacen referencia a lo que se conoce en gramatica como Categorias Gramaticales (verbo, sustantivo, adjetivo, etc).\n",
        "\n",
        "![](https://mdm.usta.edu.co/remos_downloads/lectoescritura/2015/1gramatica/Diapositiva8.JPG)\n",
        "\n",
        "<h1>Ambiguedades del lenguaje</h1>\n",
        "\n",
        "* **Por Agrupamiento:**\n",
        "\n",
        "* * Pepe vio a Pablo enfurecido (que pepe esta enfurecido).\n",
        "* * Pepe vio a Pablo, enfurecido (que pablo esta enfurecido).\n",
        "\n",
        "* **Funcional:**\n",
        "\n",
        "* * La gallina está lista para comer (que el animal gallina esta lista para comer).\n",
        "* * La gallina está lista para comer (que gallina frita esta lista para comer).\n",
        "\n",
        "* **Léxica:**\n",
        "\n",
        "* * Mi hermano es una persona muy $noble$(adjetivo).\n",
        "\n",
        "* * El $noble$(sustantivo) del castillo no quiere ayudar a su pueblo.\n",
        "\n",
        "* * Homonimia(palabras que se escriben graficamente igual, pero diferente significado o sentido).\n",
        "\n",
        "* * * Yo Río de la emocion. / El Río chili es grande.\n",
        "\n",
        "* * Homofonía(palabras que suenan igual, pero con diferente significado y escritura).\n",
        "\n",
        "* *  * Botar / Votar, Hierba / Hierva.\n",
        "\n",
        "<h1>Aplicaciones de NLP</h1>\n",
        "\n",
        "* Mejoras en motores de búsqueda, e-commerce y web.\n",
        "* Automatización en manejo de CRMs(Customers Relashionship Management).\n",
        "* Censura en redes sociales.\n",
        "* Orden de datos no-estructurados."
      ]
    },
    {
      "cell_type": "markdown",
      "metadata": {
        "id": "mD0vB5hsXwic"
      },
      "source": [
        "## Etiquetado rápido en Python: español e inglés"
      ]
    },
    {
      "cell_type": "code",
      "metadata": {
        "id": "IVn2lP3ibofS"
      },
      "source": [
        "#@title Dependencias previas\n",
        "import nltk\n",
        "nltk.download('punkt')   # Tokenizador (tokenizer)\n",
        "nltk.download('averaged_perceptron_tagger') # etiquetador (tagger)\n",
        "from nltk import word_tokenize"
      ],
      "execution_count": null,
      "outputs": []
    },
    {
      "cell_type": "code",
      "metadata": {
        "id": "06mdS_Dhbqi5",
        "outputId": "c24939ff-413b-4c94-a4d5-5bb3c3e8f754",
        "colab": {
          "base_uri": "https://localhost:8080/",
          "height": 136
        }
      },
      "source": [
        "#@title Etiquetado en una línea ...\n",
        "text = word_tokenize(\"And now here I am enjoying today\")\n",
        "nltk.pos_tag(text)"
      ],
      "execution_count": null,
      "outputs": [
        {
          "output_type": "execute_result",
          "data": {
            "text/plain": [
              "[('And', 'CC'),\n",
              " ('now', 'RB'),\n",
              " ('here', 'RB'),\n",
              " ('I', 'PRP'),\n",
              " ('am', 'VBP'),\n",
              " ('enjoying', 'VBG'),\n",
              " ('today', 'NN')]"
            ]
          },
          "metadata": {
            "tags": []
          },
          "execution_count": 2
        }
      ]
    },
    {
      "cell_type": "code",
      "metadata": {
        "id": "qly39WUTgT_W",
        "outputId": "026a67bd-e525-4049-b67b-7fd879d39c73",
        "colab": {
          "base_uri": "https://localhost:8080/",
          "height": 527
        }
      },
      "source": [
        "#@title Categoria gramatical de cada etiqueta\n",
        "nltk.download('tagsets')\n",
        "for tag in ['CC', 'RB', 'PRP', 'VBP', 'VBG', 'NN']:\n",
        "  print(nltk.help.upenn_tagset(tag))"
      ],
      "execution_count": null,
      "outputs": [
        {
          "output_type": "stream",
          "text": [
            "[nltk_data] Downloading package tagsets to /root/nltk_data...\n",
            "[nltk_data]   Unzipping help/tagsets.zip.\n",
            "CC: conjunction, coordinating\n",
            "    & 'n and both but either et for less minus neither nor or plus so\n",
            "    therefore times v. versus vs. whether yet\n",
            "None\n",
            "RB: adverb\n",
            "    occasionally unabatingly maddeningly adventurously professedly\n",
            "    stirringly prominently technologically magisterially predominately\n",
            "    swiftly fiscally pitilessly ...\n",
            "None\n",
            "PRP: pronoun, personal\n",
            "    hers herself him himself hisself it itself me myself one oneself ours\n",
            "    ourselves ownself self she thee theirs them themselves they thou thy us\n",
            "None\n",
            "VBP: verb, present tense, not 3rd person singular\n",
            "    predominate wrap resort sue twist spill cure lengthen brush terminate\n",
            "    appear tend stray glisten obtain comprise detest tease attract\n",
            "    emphasize mold postpone sever return wag ...\n",
            "None\n",
            "VBG: verb, present participle or gerund\n",
            "    telegraphing stirring focusing angering judging stalling lactating\n",
            "    hankerin' alleging veering capping approaching traveling besieging\n",
            "    encrypting interrupting erasing wincing ...\n",
            "None\n",
            "NN: noun, common, singular or mass\n",
            "    common-carrier cabbage knuckle-duster Casino afghan shed thermostat\n",
            "    investment slide humour falloff slick wind hyena override subhumanity\n",
            "    machinist ...\n",
            "None\n"
          ],
          "name": "stdout"
        }
      ]
    },
    {
      "cell_type": "code",
      "metadata": {
        "id": "uVZDiDRIgWY8",
        "outputId": "d353c868-dacb-432c-a590-3809b89353bb",
        "colab": {
          "base_uri": "https://localhost:8080/",
          "height": 187
        }
      },
      "source": [
        "#@title Palabras homónimas\n",
        "text = word_tokenize(\"They do not permit other people to get residence permit\")\n",
        "nltk.pos_tag(text)"
      ],
      "execution_count": null,
      "outputs": [
        {
          "output_type": "execute_result",
          "data": {
            "text/plain": [
              "[('They', 'PRP'),\n",
              " ('do', 'VBP'),\n",
              " ('not', 'RB'),\n",
              " ('permit', 'VB'),\n",
              " ('other', 'JJ'),\n",
              " ('people', 'NNS'),\n",
              " ('to', 'TO'),\n",
              " ('get', 'VB'),\n",
              " ('residence', 'NN'),\n",
              " ('permit', 'NN')]"
            ]
          },
          "metadata": {
            "tags": []
          },
          "execution_count": 4
        }
      ]
    },
    {
      "cell_type": "markdown",
      "metadata": {
        "id": "EIIi46WzYZvc"
      },
      "source": [
        "## Etiquetado en Español "
      ]
    },
    {
      "cell_type": "markdown",
      "metadata": {
        "id": "NxvtZAYXi8rU"
      },
      "source": [
        "Para el ingles, NLTK tiene tokenizador y etiquetador pre-entrenados por defecto. En cambio, para otros idiomas es preciso entrenarlo previamente. \n",
        "\n",
        "* usamos el corpus `cess_esp` https://mailman.uib.no/public/corpora/2007-October/005448.html\n",
        "\n",
        "* el cual usa una convención de etiquetas gramaticales dada por el grupo EAGLES https://www.cs.upc.edu/~nlp/tools/parole-sp.html"
      ]
    },
    {
      "cell_type": "code",
      "metadata": {
        "id": "1uLX4KgDX-cs"
      },
      "source": [
        "nltk.download('cess_esp')\n",
        "from nltk.corpus import cess_esp as cess\n",
        "from nltk import UnigramTagger as ut\n",
        "from nltk import BigramTagger as bt"
      ],
      "execution_count": null,
      "outputs": []
    },
    {
      "cell_type": "code",
      "metadata": {
        "id": "mFi7BLojYw-F",
        "outputId": "fb8c6029-4e0d-44f7-ff4a-fa1bd3e7a9a8",
        "colab": {
          "base_uri": "https://localhost:8080/",
          "height": 34
        }
      },
      "source": [
        "#@title Entrenamiendo del tagger por unigramas\n",
        "cess_sents = cess.tagged_sents()\n",
        "fraction = int(len(cess_sents)*90/100) # 90% train\n",
        "uni_tagger = ut(cess_sents[:fraction])\n",
        "uni_tagger.evaluate(cess_sents[fraction:]) # 10% test"
      ],
      "execution_count": null,
      "outputs": [
        {
          "output_type": "execute_result",
          "data": {
            "text/plain": [
              "0.8068832283915284"
            ]
          },
          "metadata": {
            "tags": []
          },
          "execution_count": 8
        }
      ]
    },
    {
      "cell_type": "code",
      "metadata": {
        "id": "HHA32_xVg81K",
        "outputId": "605a1bc1-fe2c-4ae9-8712-729828c31941",
        "colab": {
          "base_uri": "https://localhost:8080/",
          "height": 119
        }
      },
      "source": [
        "uni_tagger.tag(\"Yo soy una persona muy amable\".split(\" \"))"
      ],
      "execution_count": null,
      "outputs": [
        {
          "output_type": "execute_result",
          "data": {
            "text/plain": [
              "[('Yo', 'pp1csn00'),\n",
              " ('soy', 'vsip1s0'),\n",
              " ('una', 'di0fs0'),\n",
              " ('persona', 'ncfs000'),\n",
              " ('muy', 'rg'),\n",
              " ('amable', None)]"
            ]
          },
          "metadata": {
            "tags": []
          },
          "execution_count": 9
        }
      ]
    },
    {
      "cell_type": "code",
      "metadata": {
        "id": "WwbwtxURh5aF",
        "outputId": "787a7ccc-5072-4d52-a23b-f0943aa6358d",
        "colab": {
          "base_uri": "https://localhost:8080/",
          "height": 119
        }
      },
      "source": [
        "for tag in ['pp1csn00', 'vsip1s0', 'di0fs0']:\n",
        "  print(nltk.help.upenn_tagset(tag))# como no hay definiciones de modelos en español, no hay una definicon concreta de que son esas categorias Gramaticales.\n",
        "  # pero el modelo supo distinguir una diferencia según con la data entrenada."
      ],
      "execution_count": null,
      "outputs": [
        {
          "output_type": "stream",
          "text": [
            "No matching tags found.\n",
            "None\n",
            "No matching tags found.\n",
            "None\n",
            "No matching tags found.\n",
            "None\n"
          ],
          "name": "stdout"
        }
      ]
    },
    {
      "cell_type": "code",
      "metadata": {
        "id": "kDIt1k1ubB9D",
        "outputId": "13ef17ee-4152-47e1-b6cf-e48c3c6b53d2",
        "colab": {
          "base_uri": "https://localhost:8080/",
          "height": 34
        }
      },
      "source": [
        "#@title Entrenamiento del tagger por bigramas\n",
        "fraction = int(len(cess_sents)*90/100)\n",
        "bi_tagger = bt(cess_sents[:fraction])\n",
        "bi_tagger.evaluate(cess_sents[fraction:])"
      ],
      "execution_count": null,
      "outputs": [
        {
          "output_type": "execute_result",
          "data": {
            "text/plain": [
              "0.10983113909559244"
            ]
          },
          "metadata": {
            "tags": []
          },
          "execution_count": 13
        }
      ]
    },
    {
      "cell_type": "code",
      "metadata": {
        "id": "nLCTRHeHfiY3",
        "outputId": "ea021077-db39-4833-cb99-c7a5e23dc7fd",
        "colab": {
          "base_uri": "https://localhost:8080/",
          "height": 119
        }
      },
      "source": [
        "bi_tagger.tag(\"Yo soy una persona muy amable\".split(\" \"))"
      ],
      "execution_count": null,
      "outputs": [
        {
          "output_type": "execute_result",
          "data": {
            "text/plain": [
              "[('Yo', 'pp1csn00'),\n",
              " ('soy', 'vsip1s0'),\n",
              " ('una', None),\n",
              " ('persona', None),\n",
              " ('muy', None),\n",
              " ('amable', None)]"
            ]
          },
          "metadata": {
            "tags": []
          },
          "execution_count": 14
        }
      ]
    },
    {
      "cell_type": "markdown",
      "metadata": {
        "id": "m50bRKLlikbx"
      },
      "source": [
        "## Etiquetado mejorado con Stanza (StanfordNLP)"
      ]
    },
    {
      "cell_type": "markdown",
      "metadata": {
        "id": "oU_ZCWxlmoIo"
      },
      "source": [
        "**Description**\n",
        "\n",
        "The Part-of-Speech (POS) & morphological features tagging module labels words with their universal POS (UPOS) tags, treebank-specific POS (XPOS) tags, and universal morphological features (UFeats). This is jointly performed by the POSProcessor in Stanza, and can be invoked with the name pos.\n",
        "\n",
        "**¿Que es Stanza?**\n",
        "\n",
        "* El grupo de investigacion en NLP de Stanford tenía una suite de librerias que ejecutaban varias tareas de NLP, esta suite se unifico en un solo servicio que llamaron **CoreNLP** con base en codigo java: https://stanfordnlp.github.io/CoreNLP/index.html\n",
        "\n",
        "* Para python existe **StanfordNLP**: https://stanfordnlp.github.io/stanfordnlp/index.html\n",
        "\n",
        "* Sin embargo, **StanfordNLP** ha sido deprecado y las nuevas versiones de la suite de NLP reciben mantenimiento bajo el nombre de **Stanza**: https://stanfordnlp.github.io/stanza/"
      ]
    },
    {
      "cell_type": "code",
      "metadata": {
        "id": "WY_YTM6TirMd"
      },
      "source": [
        "!pip install stanza"
      ],
      "execution_count": null,
      "outputs": []
    },
    {
      "cell_type": "code",
      "metadata": {
        "id": "HG-Sdn6QmHgR"
      },
      "source": [
        "# esta parte puede demorar un poco ....\n",
        "import stanza\n",
        "stanza.download('es')"
      ],
      "execution_count": null,
      "outputs": []
    },
    {
      "cell_type": "code",
      "metadata": {
        "id": "B2sKNXawmWH7",
        "outputId": "addfbb71-2a38-44df-b31b-a3711f4d1f16",
        "colab": {
          "base_uri": "https://localhost:8080/",
          "height": 221
        }
      },
      "source": [
        "nlp = stanza.Pipeline('es', processors='tokenize,pos')  # language, then tokenize, and finally pos(Part-Of-Speech)or grammatical categories.\n",
        "doc = nlp('yo soy una persona muy amable')  # instance of nlp or Pipeline.\n",
        "# Package: \"ancora\" es un corpus famoso en español."
      ],
      "execution_count": null,
      "outputs": [
        {
          "output_type": "stream",
          "text": [
            "2020-10-05 16:50:53 INFO: Loading these models for language: es (Spanish):\n",
            "=======================\n",
            "| Processor | Package |\n",
            "-----------------------\n",
            "| tokenize  | ancora  |\n",
            "| pos       | ancora  |\n",
            "=======================\n",
            "\n",
            "2020-10-05 16:50:53 INFO: Use device: gpu\n",
            "2020-10-05 16:50:53 INFO: Loading: tokenize\n",
            "2020-10-05 16:51:01 INFO: Loading: pos\n",
            "2020-10-05 16:51:02 INFO: Done loading processors!\n"
          ],
          "name": "stderr"
        }
      ]
    },
    {
      "cell_type": "code",
      "metadata": {
        "id": "86rL3IJRm1oI",
        "outputId": "2905fe2d-f124-437a-81ee-70fc1d0f9815",
        "colab": {
          "base_uri": "https://localhost:8080/",
          "height": 119
        }
      },
      "source": [
        "for sentence in doc.sentences:\n",
        "  for word in sentence.words:\n",
        "    print(word.text, word.pos)"
      ],
      "execution_count": null,
      "outputs": [
        {
          "output_type": "stream",
          "text": [
            "yo PRON\n",
            "soy AUX\n",
            "una DET\n",
            "persona NOUN\n",
            "muy ADV\n",
            "amable ADJ\n"
          ],
          "name": "stdout"
        }
      ]
    },
    {
      "cell_type": "markdown",
      "metadata": {
        "id": "-QndLEidnQAy"
      },
      "source": [
        "<h1>Referencias adicionales:</h1>\n",
        "\n",
        "* Etiquetado POS con Stanza https://stanfordnlp.github.io/stanza/pos.html#accessing-pos-and-morphological-feature-for-word\n",
        "\n",
        "* Stanza | Github: https://github.com/stanfordnlp/stanza\n",
        "\n",
        "* Articulo en ArXiv: https://arxiv.org/pdf/2003.07082.pdf"
      ]
    },
    {
      "cell_type": "markdown",
      "metadata": {
        "id": "TGACSQVb-k61"
      },
      "source": [
        "# 2. Modelos Markovianos Latentes (HMM)"
      ]
    },
    {
      "cell_type": "markdown",
      "metadata": {
        "id": "otNmi5tIRzHf"
      },
      "source": [
        "## Introduction"
      ]
    },
    {
      "cell_type": "markdown",
      "metadata": {
        "id": "XxmDA4IyEzMN"
      },
      "source": [
        "<h1>Desambiguación y etiquetado de palabras</h1>\n",
        "\n",
        "![](https://static.platzi.com/media/user_upload/markov-79db2c67-8051-423e-8e5a-deafd107d6d9.jpg)"
      ]
    },
    {
      "cell_type": "markdown",
      "metadata": {
        "id": "qyNguD5xQhSU"
      },
      "source": [
        "<h1>Hidden Markov Models (HMM) and Chain Markov</h1>"
      ]
    },
    {
      "cell_type": "markdown",
      "metadata": {
        "id": "EGxOp1JHFqZL"
      },
      "source": [
        "* HMM o Modelos Markovianos Latentes esta basado en las cadenas de markov(Markov Chain):\n",
        "\n",
        "![](https://static.platzi.com/media/user_upload/markov_chain-dd154438-c3a4-40aa-9bac-e19fc3a3a41c.jpg)\n",
        "\n",
        "* **Probabilidades de transición:** como se ve de caliente a frio solo hay 2 transiciones, entonces la probabilidad de que de un día caliente pase a un día frio es de  \"2/4\".\n",
        "\n",
        "* **matriz de transición:** Una matriz de todas las transiciones ya calculadas.\n",
        "\n",
        "* **Distribucion inicial de estado:** hacemos un producto matricial de nuestra matriz de transición y la matriz de estado$^{(0)}$ donde contiene las probabilidades inciales de que un dia sea frio, caliente, o tibio, y obtenemos como resultado una nueva matriz de estado$^{(1)}$ con nuevas probabilidades de frio, caliente, y tibio; Quiere decir que las probabilidades van cambiando a medida que el sistema Evoluciona(estado 0 $->$ estado 1 $->$ estado 2 $->$ .... ).\n",
        "\n",
        "**Nota:**\n",
        "\n",
        "* La cadena de Markov es una serie de eventos, en la que la probabilidad de que ocurra un evento depende del evento anterior. Este tipo de cadenas tienen memoria."
      ]
    },
    {
      "cell_type": "markdown",
      "metadata": {
        "id": "PQ-hfmP8neWI"
      },
      "source": [
        "![](https://static.platzi.com/media/user_upload/P_condicional-22761a82-0327-4238-afb6-4fa909c7e148.jpg)\n",
        "\n",
        "[Video para reforzar P.Condicional](https://www.youtube.com/watch?v=rN6IWbanhy0)\n",
        "\n",
        "<h1>Formula General de las Cadenas de Markov</h1>\n",
        "\n",
        "![](https://static.platzi.com/media/user_upload/form_chain_markov-f2ba3e94-8edc-4766-b364-dca8f206c5bd.jpg)"
      ]
    },
    {
      "cell_type": "markdown",
      "metadata": {
        "id": "2yg0np6YzJBc"
      },
      "source": [
        "<h1>Modelo Markoviano Latente</h1>\n",
        "\n",
        "* por una lado una secuencia de palabras y por el otro lado una secuencia latente de etiquetas o categorias gramaticales.\n",
        "\n",
        "![](https://github.com/dretcm/Natural-Language-Processing-ACM/blob/main/NL%20images/HMM_w_t.PNG?raw=true)\n",
        "\n",
        "* lo que viene ahora es, dada una categoria gramatical cual es la probabilidad de que le corresponda a una cierta palabra, a esto se le llama \"probabilidades de emision\".\n",
        "\n",
        "![](https://github.com/dretcm/Natural-Language-Processing-ACM/blob/main/NL%20images/P_e.PNG?raw=true)\n",
        "\n",
        "* Y todo lo anterior ya mensionado se le conoce como Modelo Markoviano Latente.\n",
        "\n",
        "![](https://github.com/dretcm/Natural-Language-Processing-ACM/blob/main/NL%20images/ingrediente_HMM.PNG?raw=true)\n",
        "\n",
        "* El objetivo de una HMM es encontrar \"Dada una secuencia de palabras, cual es la secuencia de etiquetas que le corresponte por mayor probabilidad\".\n",
        "\n",
        "<h1>Matematicas de Probabilidades de Emision:</h1>\n",
        "\n",
        "![](https://static.platzi.com/media/user_upload/mates_B_emision-9dedde55-66a0-4406-8253-6799c7c8f472.jpg)"
      ]
    },
    {
      "cell_type": "markdown",
      "metadata": {
        "id": "lQagqoamByT7"
      },
      "source": [
        "**Hipotesis Independiente:**\n",
        "\n",
        "* nos dice que las probabilidades de palabras a etiquetas solamente dependen de la misma posición.\n",
        "\n",
        "**Hipotesis Markoviana:**\n",
        "\n",
        "* nos dice que un estado depende del estado inmediatamente del estado anterior, recordemos el ejemplo de los climas, donde para que una día sea caliente, frio, o tibio dependian del estado anterior.\n",
        "\n",
        "**Entrenar el Modelo de HMM**\n",
        "\n",
        "* A: Matriz de transición.\n",
        "* B: Probabilidades de Emision.\n",
        "* $MODELO(A, B)$"
      ]
    },
    {
      "cell_type": "markdown",
      "metadata": {
        "id": "OedJMmrcRIi_"
      },
      "source": [
        "## Fase de entrenamiento de una HMM"
      ]
    },
    {
      "cell_type": "markdown",
      "metadata": {
        "id": "apZTvqywabkM"
      },
      "source": [
        "### Corpus de español: \n",
        "\n",
        "* AnCora | Github: https://github.com/UniversalDependencies/UD_Spanish-AnCora\n",
        "\n",
        "* usamos el conllu parser para leer el corpus: https://pypi.org/project/conllu/\n",
        "\n",
        "* Etiquetas Universal POS (Documentación): https://universaldependencies.org/u/pos/"
      ]
    },
    {
      "cell_type": "code",
      "metadata": {
        "id": "7SyjRpNdXx6l"
      },
      "source": [
        "#@title dependencias previas\n",
        "!pip install conllu\n",
        "!git clone https://github.com/UniversalDependencies/UD_Spanish-AnCora.git"
      ],
      "execution_count": null,
      "outputs": []
    },
    {
      "cell_type": "code",
      "metadata": {
        "id": "2KxqUFhyXozz"
      },
      "source": [
        "#@title leyendo el corpus AnCora\n",
        "from conllu import parse_incr \n",
        "wordList = []\n",
        "data_file = open(\"UD_Spanish-AnCora/es_ancora-ud-dev.conllu\", \"r\", encoding=\"utf-8\")\n",
        "for tokenlist in parse_incr(data_file):\n",
        "    print(tokenlist.serialize())"
      ],
      "execution_count": null,
      "outputs": []
    },
    {
      "cell_type": "code",
      "metadata": {
        "id": "J7C526FMRAfk",
        "outputId": "c9cd6037-fd9f-46e4-f6e2-0c470109676f",
        "colab": {
          "base_uri": "https://localhost:8080/",
          "height": 34
        }
      },
      "source": [
        "tokenlist"
      ],
      "execution_count": null,
      "outputs": [
        {
          "output_type": "execute_result",
          "data": {
            "text/plain": [
              "TokenList<Lo, cierto, es, que, a, mí, ,, me, da, un, poco, de, pena, .>"
            ]
          },
          "metadata": {
            "tags": []
          },
          "execution_count": 3
        }
      ]
    },
    {
      "cell_type": "code",
      "metadata": {
        "id": "atcsH_bm9L6T",
        "outputId": "0ff67214-a610-4113-fc33-a5fbd4a62f52",
        "colab": {
          "base_uri": "https://localhost:8080/",
          "height": 187
        }
      },
      "source": [
        "#@title Estructura de los tokens etiquetados del corpus\n",
        "tokenlist[1]"
      ],
      "execution_count": null,
      "outputs": [
        {
          "output_type": "execute_result",
          "data": {
            "text/plain": [
              "{'deprel': 'nsubj',\n",
              " 'deps': None,\n",
              " 'feats': {'Gender': 'Masc', 'Number': 'Sing'},\n",
              " 'form': 'cierto',\n",
              " 'head': 3,\n",
              " 'id': 2,\n",
              " 'lemma': 'cierto',\n",
              " 'misc': None,\n",
              " 'upos': 'ADJ',\n",
              " 'xpos': 'ADJ'}"
            ]
          },
          "metadata": {
            "tags": []
          },
          "execution_count": 4
        }
      ]
    },
    {
      "cell_type": "code",
      "metadata": {
        "id": "Ia8ZEUJmaQdw",
        "outputId": "53ab2213-d7f0-4ff1-91c1-b783d93a6ea2",
        "colab": {
          "base_uri": "https://localhost:8080/",
          "height": 35
        }
      },
      "source": [
        "tokenlist[1]['form']+'|'+tokenlist[1]['upos']"
      ],
      "execution_count": null,
      "outputs": [
        {
          "output_type": "execute_result",
          "data": {
            "application/vnd.google.colaboratory.intrinsic+json": {
              "type": "string"
            },
            "text/plain": [
              "'cierto|ADJ'"
            ]
          },
          "metadata": {
            "tags": []
          },
          "execution_count": 5
        }
      ]
    },
    {
      "cell_type": "markdown",
      "metadata": {
        "id": "g2F4mvQqN5Tm"
      },
      "source": [
        "### Entrenamiento del modelo - Calculo de conteos:\n",
        "\n",
        "* tags (tags) `tagCountDict`: $C(tag)$\n",
        "* emisiones (word|tag) `emissionProbDict`: $C(word|tag)$\n",
        "* transiciones (tag|prevtag) `transitionDict`: $C(tag|prevtag)$"
      ]
    },
    {
      "cell_type": "code",
      "metadata": {
        "id": "N04oYlQgeAW9"
      },
      "source": [
        "tagCountDict = {} \n",
        "emissionDict = {}\n",
        "transitionDict = {}\n",
        "\n",
        "tagtype = 'upos'\n",
        "data_file = open(\"UD_Spanish-AnCora/es_ancora-ud-dev.conllu\", \"r\", encoding=\"utf-8\")\n",
        "\n",
        "# Calculando conteos (pre-probabilidades)\n",
        "for tokenlist in parse_incr(data_file):\n",
        "  prevtag = None\n",
        "  for token in tokenlist:\n",
        "\n",
        "    # C(tag)\n",
        "    tag = token[tagtype]\n",
        "    if tag in tagCountDict.keys():\n",
        "      tagCountDict[tag] += 1\n",
        "    else:\n",
        "      tagCountDict[tag] = 1\n",
        "\n",
        "    # C(word|tag) -> probabilidades emision\n",
        "    wordtag = token['form'].lower()+'|'+token[tagtype] # (word|tag)\n",
        "    if wordtag in emissionDict.keys():\n",
        "      emissionDict[wordtag] = emissionDict[wordtag] + 1\n",
        "    else:\n",
        "      emissionDict[wordtag] = 1\n",
        "\n",
        "    #  C(tag|tag_previo) -> probabilidades transición\n",
        "    if prevtag is None:\n",
        "      prevtag = tag\n",
        "      continue\n",
        "    transitiontags = tag+'|'+prevtag\n",
        "    if transitiontags in transitionDict.keys():\n",
        "      transitionDict[transitiontags] = transitionDict[transitiontags] + 1\n",
        "    else:\n",
        "      transitionDict[transitiontags] = 1\n",
        "    prevtag = tag\n",
        "    \n",
        "#transitionDict\n",
        "#emissionDict\n",
        "#tagCountDict"
      ],
      "execution_count": null,
      "outputs": []
    },
    {
      "cell_type": "markdown",
      "metadata": {
        "id": "XIXcZxSdOO__"
      },
      "source": [
        "### Entrenamiento del modelo - calculo de probabilidades\n",
        "* probabilidades de transición:\n",
        "$$P(tag|prevtag) = \\frac{C(prevtag, tag)}{C(prevtag)}$$\n",
        "\n",
        "* probabilidades de emisión:\n",
        " $$P(word|tag) = \\frac{C(word|tag)}{C(tag)}$$"
      ]
    },
    {
      "cell_type": "code",
      "metadata": {
        "id": "KznFFp2COzf7",
        "outputId": "e9668978-b20c-4903-8938-3e7b8b87a6d6",
        "colab": {
          "base_uri": "https://localhost:8080/",
          "height": 34
        }
      },
      "source": [
        "transitionProbDict = {} # matriz A  hipo.markoviana\n",
        "emissionProbDict = {} # matriz B  hipo.idependiente\n",
        "\n",
        "# transition Probabilities \n",
        "for key in transitionDict.keys():\n",
        "  tag, prevtag = key.split('|')\n",
        "  if tagCountDict[prevtag]>0:\n",
        "    transitionProbDict[key] = transitionDict[key]/(tagCountDict[prevtag])\n",
        "  else:\n",
        "    print(key)\n",
        "\n",
        "# emission Probabilities \n",
        "for key in emissionDict.keys():\n",
        "  word, tag = key.split('|')\n",
        "  if emissionDict[key]>0:\n",
        "    emissionProbDict[key] = emissionDict[key]/tagCountDict[tag]\n",
        "  else:\n",
        "    print(key)\n",
        "\n",
        "transitionProbDict['ADJ|ADJ']\n",
        "#emissionProbDict"
      ],
      "execution_count": null,
      "outputs": [
        {
          "output_type": "execute_result",
          "data": {
            "text/plain": [
              "0.030225988700564973"
            ]
          },
          "metadata": {
            "tags": []
          },
          "execution_count": 7
        }
      ]
    },
    {
      "cell_type": "code",
      "metadata": {
        "id": "2XhiIvykeG6L"
      },
      "source": [
        "transitionProbDict"
      ],
      "execution_count": null,
      "outputs": []
    },
    {
      "cell_type": "code",
      "metadata": {
        "id": "IUWzipLDeLBc"
      },
      "source": [
        "emissionProbDict"
      ],
      "execution_count": null,
      "outputs": []
    },
    {
      "cell_type": "code",
      "metadata": {
        "id": "ogm-fVE8jF8F"
      },
      "source": [
        "# para hacer un sort sobre estos diccionarios basados en los valores de las probabilidades encontradas.\n",
        "# transition sorted\n",
        "sorted_transitionprobs = sorted(transitionProbDict.items(), key = lambda x: x[1], reverse=True)\n",
        "sorted_transitionprobs\n",
        "\n",
        "\n",
        "# Emission sorted\n",
        "sorted_emissionprobs = sorted(emissionProbDict.items(), key = lambda x: x[1], reverse=True)\n",
        "sorted_emissionprobs\n"
      ],
      "execution_count": null,
      "outputs": []
    },
    {
      "cell_type": "markdown",
      "metadata": {
        "id": "_AyYqw1FZZ89"
      },
      "source": [
        "## Guardar parámetros del modelo"
      ]
    },
    {
      "cell_type": "code",
      "metadata": {
        "id": "Ido5QcAkY4OK",
        "outputId": "04b31b65-1ea7-4ce8-e827-87fb76f0665f",
        "colab": {
          "base_uri": "https://localhost:8080/",
          "height": 34
        }
      },
      "source": [
        "import numpy as np\n",
        "np.save('transitionHMM.npy', transitionProbDict)\n",
        "np.save('emissionHMM.npy', emissionProbDict)\n",
        "transitionProbdict = np.load('transitionHMM.npy', allow_pickle='TRUE').item()\n",
        "transitionProbDict['ADJ|ADJ']"
      ],
      "execution_count": null,
      "outputs": [
        {
          "output_type": "execute_result",
          "data": {
            "text/plain": [
              "0.030225988700564973"
            ]
          },
          "metadata": {
            "tags": []
          },
          "execution_count": 12
        }
      ]
    },
    {
      "cell_type": "markdown",
      "metadata": {
        "id": "2M6eCQKcefqh"
      },
      "source": [
        "# 3. Algoritmo de Viterbi"
      ]
    },
    {
      "cell_type": "markdown",
      "metadata": {
        "id": "YpqXyOQJRq9m"
      },
      "source": [
        "## introduction"
      ]
    },
    {
      "cell_type": "markdown",
      "metadata": {
        "id": "6UL0KC2iRudM"
      },
      "source": [
        "<h1>Etiquetado con HMM</h1>\n",
        "\n",
        "* **Entrenamiento del HMM:**\n",
        "\n",
        "* *  El modelo aprende las probabilidades de transición y emisión.\n",
        "\n",
        "* **Decodificacion:**\n",
        "\n",
        "* * Viterbi lo que hace es calculara un probabilidad para cada secuencia de etiquetas eligiendo la más probable o mayor, las cuales son las etiquetas correctas para nuestra secuencia de palabras.\n",
        "\n",
        "* * <h1>$t^{ñ} = arg max_{(t^n)} \\Pi_{i}^{n} \\underbrace{[P(w_i | t_i)}_{\\text{Emisión}} \\underbrace{P(t_i | t_{i-1})}_{\\text{Transición}}]$</h1>\n",
        "\n",
        "![img](https://github.com/dretcm/Natural-Language-Processing-ACM/blob/main/NL%20images/niveles_HMM.PNG?raw=true)"
      ]
    },
    {
      "cell_type": "markdown",
      "metadata": {
        "id": "3fAikjJbDx8Q"
      },
      "source": [
        "* los plonos son los que tiene probabilidad cero de que sean la etiqueta de \"castillo\" y los azules son los que tienen probabilidad de ser la equita.\n",
        "\n",
        "* cada azul tendra un camino de posibles etiquetas para la oración.\n",
        "\n",
        "* ahora tendremos que elegir la secuencia de etiquetas más probable para nuestra oración.\n",
        "\n",
        "![](https://github.com/dretcm/Natural-Language-Processing-ACM/blob/main/NL%20images/viterbi_1.PNG?raw=true)\n",
        "\n",
        "* selecionamos un camino para ver la posibilidad inicial de que sea \"Sustantivo Propio(Prop)\"\n",
        "\n",
        "![](https://github.com/dretcm/Natural-Language-Processing-ACM/blob/main/NL%20images/viterbi_2.PNG?raw=true)\n",
        "\n",
        "* $P^{(0)}_{prop}$ =  Cual es la probabilidad inicial de que PROP este como la primera categoria gramatical en una secuencia de palabras en un corpus de palabras.\n",
        "\n",
        "* $P(castillo|PROP)$ = la probabilidad de que dado un PROP le corresponda la palabra castillo."
      ]
    },
    {
      "cell_type": "markdown",
      "metadata": {
        "id": "A5hiYaINF8bo"
      },
      "source": [
        "* calculamos tambien la probabilidad del \"sustantivo(Noun)\", y ahora ya tenemos todas las probabilidades de la primera columna.\n",
        "\n",
        "![](https://github.com/dretcm/Natural-Language-Processing-ACM/blob/main/NL%20images/viterbi_3.PNG?raw=true)\n",
        "\n",
        "* ahora calculamos la probabilidad de la segunda columna, donde se calculara la mayor probabilidad entre \"a1 y a2\".\n",
        "\n",
        "![](https://github.com/dretcm/Natural-Language-Processing-ACM/blob/main/NL%20images/viterbi_4.PNG?raw=true)\n",
        "\n",
        "* y hacemos el mismo proceso con todos los nodos posibles que sean azules.\n",
        "\n",
        "* lo que hace el algoritmo de viterbi es buscar en un espacio de muchas posibilidades el camino más posible de etiquetas para nuestra oración."
      ]
    },
    {
      "cell_type": "markdown",
      "metadata": {
        "id": "X9qZgW3bDetE"
      },
      "source": [
        "**Cálculo de las probabilidades de Viterbi**\n",
        "\n",
        "---\n",
        "\n",
        "\n",
        "\n",
        "![](https://github.com/dretcm/Natural-Language-Processing-ACM/blob/main/NL%20images/viterbi_5.PNG?raw=true)\n",
        "\n",
        "![](https://github.com/dretcm/Natural-Language-Processing-ACM/blob/main/NL%20images/viterbi_6.png?raw=true)"
      ]
    },
    {
      "cell_type": "markdown",
      "metadata": {
        "id": "lyy1P9dl1hj8"
      },
      "source": [
        "## Carga del modelo HMM y distribución inicial"
      ]
    },
    {
      "cell_type": "code",
      "metadata": {
        "id": "O0nb65e02O1C"
      },
      "source": [
        "# cargamos las probabilidades del modelo HMM\n",
        "import numpy as np\n",
        "transitionProbdict = np.load('transitionHMM.npy', allow_pickle='TRUE').item()\n",
        "emissionProbdict = np.load('emissionHMM.npy', allow_pickle='TRUE').item()"
      ],
      "execution_count": null,
      "outputs": []
    },
    {
      "cell_type": "code",
      "metadata": {
        "id": "P830h1e32se8",
        "outputId": "868846b9-3f51-4f84-d873-b404b66fca7f",
        "colab": {
          "base_uri": "https://localhost:8080/",
          "height": 34
        }
      },
      "source": [
        "# identificamos las categorias gramaticales 'upos' unicas en el corpus\n",
        "stateSet = set([w.split('|')[1] for w in list(emissionProbdict.keys())])\n",
        "print(stateSet)"
      ],
      "execution_count": null,
      "outputs": [
        {
          "output_type": "stream",
          "text": [
            "{'PUNCT', 'PRON', 'VERB', 'SCONJ', 'NOUN', 'ADP', 'CCONJ', 'AUX', '_', 'PROPN', 'ADV', 'INTJ', 'DET', 'ADJ', 'SYM', 'PART', 'NUM'}\n"
          ],
          "name": "stdout"
        }
      ]
    },
    {
      "cell_type": "code",
      "metadata": {
        "id": "u-CPC-402yDl",
        "outputId": "f12d551d-7e37-479d-da3d-aa698ca41fb2",
        "colab": {
          "base_uri": "https://localhost:8080/",
          "height": 71
        }
      },
      "source": [
        "# enumeramos las categorias con numeros para asignar a \n",
        "# las columnas de la matriz de Viterbi\n",
        "tagStateDict = {}\n",
        "for i, state in enumerate(stateSet):\n",
        "  tagStateDict[state] = i\n",
        "\n",
        "print(tagStateDict)\n",
        "len(tagStateDict), min(tagStateDict.values()), max(tagStateDict.values())"
      ],
      "execution_count": null,
      "outputs": [
        {
          "output_type": "stream",
          "text": [
            "{'PUNCT': 0, 'PRON': 1, 'VERB': 2, 'SCONJ': 3, 'NOUN': 4, 'ADP': 5, 'CCONJ': 6, 'AUX': 7, '_': 8, 'PROPN': 9, 'ADV': 10, 'INTJ': 11, 'DET': 12, 'ADJ': 13, 'SYM': 14, 'PART': 15, 'NUM': 16}\n"
          ],
          "name": "stdout"
        },
        {
          "output_type": "execute_result",
          "data": {
            "text/plain": [
              "(17, 0, 16)"
            ]
          },
          "metadata": {
            "tags": []
          },
          "execution_count": 35
        }
      ]
    },
    {
      "cell_type": "code",
      "metadata": {
        "id": "GJuGzZId3HPc",
        "outputId": "c0e16345-2fd5-4e0b-809a-f2b189185eda",
        "colab": {
          "base_uri": "https://localhost:8080/",
          "height": 68
        }
      },
      "source": [
        "test = {1:100,2:200,3:300}\n",
        "print(test.keys())\n",
        "print(test.values())\n",
        "d = [3,3,2,1,5,5,4,3,2,1,1,7]\n",
        "print(set(d))  # elementos unicos y ordena"
      ],
      "execution_count": null,
      "outputs": [
        {
          "output_type": "stream",
          "text": [
            "dict_keys([1, 2, 3])\n",
            "dict_values([100, 200, 300])\n",
            "{1, 2, 3, 4, 5, 7}\n"
          ],
          "name": "stdout"
        }
      ]
    },
    {
      "cell_type": "markdown",
      "metadata": {
        "id": "9SNuWx-ScSTg"
      },
      "source": [
        "## Distribucion inicial de estados latentes"
      ]
    },
    {
      "cell_type": "code",
      "metadata": {
        "id": "put9Dyk1Yl2A",
        "outputId": "f8b74082-0701-48cb-bd81-fbd0b0966293",
        "colab": {
          "base_uri": "https://localhost:8080/",
          "height": 306
        }
      },
      "source": [
        "# Calculamos distribución inicial de estados\n",
        "initTagStateProb = {} # \\rho_i^{(0)}\n",
        "from conllu import parse_incr \n",
        "wordList = []\n",
        "data_file = open(\"UD_Spanish-AnCora/es_ancora-ud-dev.conllu\", \"r\", encoding=\"utf-8\")\n",
        "count = 0 # cuenta la longitud del corpus\n",
        "for tokenlist in parse_incr(data_file):\n",
        "  count += 1\n",
        "  tag = tokenlist[0]['upos']\n",
        "  if tag in initTagStateProb.keys():\n",
        "    initTagStateProb[tag] += 1\n",
        "  else:\n",
        "    initTagStateProb[tag] = 1\n",
        "\n",
        "for key in initTagStateProb.keys():\n",
        "  initTagStateProb[key] /= count\n",
        "\n",
        "initTagStateProb"
      ],
      "execution_count": null,
      "outputs": [
        {
          "output_type": "execute_result",
          "data": {
            "text/plain": [
              "{'ADJ': 0.010882708585247884,\n",
              " 'ADP': 0.16384522370012092,\n",
              " 'ADV': 0.06287787182587666,\n",
              " 'AUX': 0.022370012091898428,\n",
              " 'CCONJ': 0.03325272067714631,\n",
              " 'DET': 0.3633615477629988,\n",
              " 'INTJ': 0.0006045949214026602,\n",
              " 'NOUN': 0.02720677146311971,\n",
              " 'NUM': 0.01995163240628779,\n",
              " 'PART': 0.0018137847642079807,\n",
              " 'PRON': 0.034461910519951636,\n",
              " 'PROPN': 0.1124546553808948,\n",
              " 'PUNCT': 0.07799274486094317,\n",
              " 'SCONJ': 0.02418379685610641,\n",
              " 'SYM': 0.0006045949214026602,\n",
              " 'VERB': 0.04353083434099154,\n",
              " '_': 0.0006045949214026602}"
            ]
          },
          "metadata": {
            "tags": []
          },
          "execution_count": 40
        }
      ]
    },
    {
      "cell_type": "code",
      "metadata": {
        "id": "J5Rltqj6bbcV",
        "outputId": "1ebfa204-4b0a-4b2d-d96a-8fc820bce8ef",
        "colab": {
          "base_uri": "https://localhost:8080/",
          "height": 102
        }
      },
      "source": [
        "# verificamos que la suma de las probabilidades es 1 (100%)\n",
        "print(np.array([initTagStateProb[k] for k in initTagStateProb.keys()]).sum())\n",
        "print(np.array(list(initTagStateProb.values())).sum())\n",
        "print(sum(list(initTagStateProb.values())))\n",
        "print(sum([initTagStateProb[i] for i in initTagStateProb]))\n",
        "print(sum(initTagStateProb.values()))"
      ],
      "execution_count": null,
      "outputs": [
        {
          "output_type": "stream",
          "text": [
            "1.0\n",
            "1.0\n",
            "1.0\n",
            "1.0\n",
            "1.0\n"
          ],
          "name": "stdout"
        }
      ]
    },
    {
      "cell_type": "markdown",
      "metadata": {
        "id": "YjnAshwzxrKZ"
      },
      "source": [
        "## Construcción del algoritmo de Viterbi\n",
        "\n",
        "\n",
        "\n",
        "\n"
      ]
    },
    {
      "cell_type": "markdown",
      "metadata": {
        "id": "zX-_MnPexnm0"
      },
      "source": [
        "Dada una secuencia de palabras $\\{p_1, p_2, \\dots, p_n \\}$, y un conjunto de categorias gramaticales dadas por la convención `upos`, se considera la matriz de probabilidades de Viterbi así:\n",
        "\n",
        "$$\n",
        "\\begin{array}{c c}\n",
        "\\begin{array}{c c c c}\n",
        "\\text{ADJ} \\\\\n",
        "\\text{ADV}\\\\\n",
        "\\text{PRON} \\\\\n",
        "\\vdots \\\\\n",
        "{}\n",
        "\\end{array} \n",
        "&\n",
        "\\left[\n",
        "\\begin{array}{c c c c}\n",
        "\\nu_1(\\text{ADJ}) & \\nu_2(\\text{ADJ}) & \\dots  & \\nu_n(\\text{ADJ})\\\\\n",
        "\\nu_1(\\text{ADV}) & \\nu_2(\\text{ADV}) & \\dots  & \\nu_n(\\text{ADV})\\\\ \n",
        "\\nu_1(\\text{PRON}) & \\nu_2(\\text{PRON}) & \\dots  & \\nu_n(\\text{PRON})\\\\\n",
        "\\vdots & \\vdots & \\dots & \\vdots \\\\ \\hdashline\n",
        "p_1 & p_2 & \\dots & p_n \n",
        "\\end{array}\n",
        "\\right] \n",
        "\\end{array}\n",
        "$$\n",
        "\n",
        "Donde las probabilidades de la primera columna (para una categoria $i$) están dadas por: \n",
        "\n",
        "$$\n",
        "\\nu_1(i) = \\underbrace{\\rho_i^{(0)}}_{\\text{probabilidad inicial}} \\times \\underbrace{P(p_1 \\vert i)}_{\\text{emisión}}\n",
        "$$\n",
        "\n",
        "luego, para la segunda columna (dada una categoria $j$) serán: \n",
        "\n",
        "$$\n",
        "\\nu_2(j) = \\max_i \\{ \\nu_1(i) \\times \\underbrace{P(j \\vert i)}_{\\text{transición}} \\times \\underbrace{P(p_2 \\vert j)}_{\\text{emisión}} \\}\n",
        "$$\n",
        "\n",
        "así, en general las probabilidades para la columna $t$ estarán dadas por: \n",
        "\n",
        "$$\n",
        "\\nu_{t}(j) = \\max_i \\{ \\overbrace{\\nu_{t-1}(i)}^{\\text{estado anterior}} \\times \\underbrace{P(j \\vert i)}_{\\text{transición}} \\times \\underbrace{P(p_t \\vert j)}_{\\text{emisión}} \\}\n",
        "$$"
      ]
    },
    {
      "cell_type": "code",
      "metadata": {
        "id": "rAyO788xPKra"
      },
      "source": [
        "import nltk\n",
        "nltk.download('punkt')\n",
        "from nltk import word_tokenize"
      ],
      "execution_count": null,
      "outputs": []
    },
    {
      "cell_type": "code",
      "metadata": {
        "id": "9sJhQ35m5ASB",
        "outputId": "910759e4-f0b3-43bd-925e-1a7029db9561",
        "colab": {
          "base_uri": "https://localhost:8080/",
          "height": 306
        }
      },
      "source": [
        "def ViterbiMatrix(secuencia, transitionProbdict=transitionProbdict, emissionProbdict=emissionProbdict, \n",
        "            tagStateDict=tagStateDict, initTagStateProb=initTagStateProb):\n",
        "  seq = word_tokenize(secuencia)\n",
        "  viterbiProb = np.zeros((17, len(seq)))  # upos tiene 17 categorias\n",
        "\n",
        "  # inicialización primera columna\n",
        "  for key in tagStateDict.keys():\n",
        "    tag_row = tagStateDict[key]\n",
        "    word_tag = seq[0].lower()+'|'+key\n",
        "    if word_tag in emissionProbdict.keys():\n",
        "      viterbiProb[tag_row, 0] = initTagStateProb[key]*emissionProbdict[word_tag]\n",
        "\n",
        "  # computo de las siguientes columnas\n",
        "  for col in range(1, len(seq)):\n",
        "    for key in tagStateDict.keys():\n",
        "      tag_row = tagStateDict[key]\n",
        "      word_tag = seq[col].lower()+'|'+key\n",
        "      if word_tag in emissionProbdict.keys():\n",
        "        # miramos estados de la col anterior\n",
        "        possible_probs = []\n",
        "        for key2 in tagStateDict.keys(): \n",
        "          tag_row2 = tagStateDict[key2]\n",
        "          tag_prevtag = key+'|'+key2\n",
        "          if tag_prevtag in transitionProbdict.keys():\n",
        "            if viterbiProb[tag_row2, col-1]>0:\n",
        "              possible_probs.append(\n",
        "                  viterbiProb[tag_row2, col-1]*transitionProbdict[tag_prevtag]*emissionProbdict[word_tag])\n",
        "        viterbiProb[tag_row, col] = max(possible_probs) if possible_probs else 0\n",
        "  \n",
        "  return viterbiProb\n",
        "\n",
        "matrix = ViterbiMatrix('el mundo es pequeño')\n",
        "matrix"
      ],
      "execution_count": null,
      "outputs": [
        {
          "output_type": "execute_result",
          "data": {
            "text/plain": [
              "array([[0.00000000e+00, 0.00000000e+00, 0.00000000e+00, 0.00000000e+00],\n",
              "       [0.00000000e+00, 0.00000000e+00, 0.00000000e+00, 0.00000000e+00],\n",
              "       [0.00000000e+00, 0.00000000e+00, 0.00000000e+00, 0.00000000e+00],\n",
              "       [0.00000000e+00, 0.00000000e+00, 0.00000000e+00, 0.00000000e+00],\n",
              "       [0.00000000e+00, 1.47448483e-04, 2.91245828e-10, 0.00000000e+00],\n",
              "       [0.00000000e+00, 0.00000000e+00, 0.00000000e+00, 0.00000000e+00],\n",
              "       [0.00000000e+00, 0.00000000e+00, 5.02871314e-09, 0.00000000e+00],\n",
              "       [0.00000000e+00, 0.00000000e+00, 4.97926792e-07, 0.00000000e+00],\n",
              "       [0.00000000e+00, 0.00000000e+00, 0.00000000e+00, 0.00000000e+00],\n",
              "       [0.00000000e+00, 2.00411724e-05, 0.00000000e+00, 0.00000000e+00],\n",
              "       [0.00000000e+00, 0.00000000e+00, 0.00000000e+00, 0.00000000e+00],\n",
              "       [0.00000000e+00, 0.00000000e+00, 0.00000000e+00, 0.00000000e+00],\n",
              "       [8.76142797e-02, 0.00000000e+00, 0.00000000e+00, 0.00000000e+00],\n",
              "       [0.00000000e+00, 0.00000000e+00, 0.00000000e+00, 1.01922433e-10],\n",
              "       [0.00000000e+00, 0.00000000e+00, 0.00000000e+00, 0.00000000e+00],\n",
              "       [0.00000000e+00, 0.00000000e+00, 0.00000000e+00, 0.00000000e+00],\n",
              "       [0.00000000e+00, 0.00000000e+00, 0.00000000e+00, 0.00000000e+00]])"
            ]
          },
          "metadata": {
            "tags": []
          },
          "execution_count": 71
        }
      ]
    },
    {
      "cell_type": "code",
      "metadata": {
        "id": "QPEERKgsScnr",
        "outputId": "01617c00-5228-48ae-fc66-8923ae109278",
        "colab": {
          "base_uri": "https://localhost:8080/",
          "height": 306
        }
      },
      "source": [
        "ViterbiMatrix('castillo el noble trabajador')\n",
        "# li = [3,5]\n",
        "# if li:\n",
        "#   print('aea')\n",
        "# else:\n",
        "#   print('bu')"
      ],
      "execution_count": null,
      "outputs": [
        {
          "output_type": "execute_result",
          "data": {
            "text/plain": [
              "array([[0.00000000e+00, 0.00000000e+00, 0.00000000e+00, 0.00000000e+00],\n",
              "       [0.00000000e+00, 0.00000000e+00, 0.00000000e+00, 0.00000000e+00],\n",
              "       [0.00000000e+00, 0.00000000e+00, 0.00000000e+00, 0.00000000e+00],\n",
              "       [0.00000000e+00, 0.00000000e+00, 0.00000000e+00, 0.00000000e+00],\n",
              "       [0.00000000e+00, 0.00000000e+00, 0.00000000e+00, 0.00000000e+00],\n",
              "       [0.00000000e+00, 0.00000000e+00, 0.00000000e+00, 0.00000000e+00],\n",
              "       [0.00000000e+00, 0.00000000e+00, 0.00000000e+00, 0.00000000e+00],\n",
              "       [0.00000000e+00, 0.00000000e+00, 0.00000000e+00, 0.00000000e+00],\n",
              "       [0.00000000e+00, 0.00000000e+00, 0.00000000e+00, 0.00000000e+00],\n",
              "       [5.55606005e-05, 0.00000000e+00, 0.00000000e+00, 0.00000000e+00],\n",
              "       [0.00000000e+00, 0.00000000e+00, 0.00000000e+00, 0.00000000e+00],\n",
              "       [0.00000000e+00, 0.00000000e+00, 0.00000000e+00, 0.00000000e+00],\n",
              "       [0.00000000e+00, 1.62165489e-07, 0.00000000e+00, 0.00000000e+00],\n",
              "       [0.00000000e+00, 0.00000000e+00, 0.00000000e+00, 0.00000000e+00],\n",
              "       [0.00000000e+00, 0.00000000e+00, 0.00000000e+00, 0.00000000e+00],\n",
              "       [0.00000000e+00, 0.00000000e+00, 0.00000000e+00, 0.00000000e+00],\n",
              "       [0.00000000e+00, 0.00000000e+00, 0.00000000e+00, 0.00000000e+00]])"
            ]
          },
          "metadata": {
            "tags": []
          },
          "execution_count": 72
        }
      ]
    },
    {
      "cell_type": "code",
      "metadata": {
        "id": "-cWNgmZkZYbt",
        "outputId": "b4b5b629-f014-4366-f030-f340b59b4eb4",
        "colab": {
          "base_uri": "https://localhost:8080/",
          "height": 34
        }
      },
      "source": [
        "tesst = [0,0,0]\n",
        "max(tesst)"
      ],
      "execution_count": null,
      "outputs": [
        {
          "output_type": "execute_result",
          "data": {
            "text/plain": [
              "0"
            ]
          },
          "metadata": {
            "tags": []
          },
          "execution_count": 76
        }
      ]
    },
    {
      "cell_type": "code",
      "metadata": {
        "id": "J9CYMtNpuoKq",
        "outputId": "13c2a11a-a802-440e-8f3c-18c602423191",
        "colab": {
          "base_uri": "https://localhost:8080/",
          "height": 102
        }
      },
      "source": [
        "def ViterbiTags(secuencia, transitionProbdict=transitionProbdict, emissionProbdict=emissionProbdict, \n",
        "            tagStateDict=tagStateDict, initTagStateProb=initTagStateProb):\n",
        "  seq = word_tokenize(secuencia)\n",
        "  viterbiProb = np.zeros((17, len(seq)))  # upos tiene 17 categorias\n",
        "\n",
        "  # inicialización primera columna\n",
        "  for key in tagStateDict.keys():\n",
        "    tag_row = tagStateDict[key]\n",
        "    word_tag = seq[0].lower()+'|'+key\n",
        "    if word_tag in emissionProbdict.keys():\n",
        "      viterbiProb[tag_row, 0] = initTagStateProb[key]*emissionProbdict[word_tag]\n",
        "\n",
        "  # computo de las siguientes columnas\n",
        "  for col in range(1, len(seq)):\n",
        "    for key in tagStateDict.keys():\n",
        "      tag_row = tagStateDict[key]\n",
        "      word_tag = seq[col].lower()+'|'+key\n",
        "      if word_tag in emissionProbdict.keys():\n",
        "        # miramos estados de la col anterior\n",
        "        possible_probs = []\n",
        "        for key2 in tagStateDict.keys(): \n",
        "          tag_row2 = tagStateDict[key2]\n",
        "          tag_prevtag = key+'|'+key2\n",
        "          if tag_prevtag in transitionProbdict.keys():\n",
        "            if viterbiProb[tag_row2, col-1]>0:\n",
        "              possible_probs.append(\n",
        "                  viterbiProb[tag_row2, col-1]*transitionProbdict[tag_prevtag]*emissionProbdict[word_tag])\n",
        "        viterbiProb[tag_row, col] = max(possible_probs) if possible_probs else 0\n",
        "\n",
        "    # contruccion de secuencia de tags\n",
        "    res = []\n",
        "    for i, p in enumerate(seq):\n",
        "      for tag in tagStateDict.keys():\n",
        "        if tagStateDict[tag] == np.argmax(viterbiProb[:, i]):\n",
        "          res.append((p, tag))\n",
        "      \n",
        "  return res\n",
        "\n",
        "ViterbiTags('el mundo es muy pequeño')"
      ],
      "execution_count": null,
      "outputs": [
        {
          "output_type": "execute_result",
          "data": {
            "text/plain": [
              "[('el', 'DET'),\n",
              " ('mundo', 'NOUN'),\n",
              " ('es', 'AUX'),\n",
              " ('muy', 'ADV'),\n",
              " ('pequeño', 'ADJ')]"
            ]
          },
          "metadata": {
            "tags": []
          },
          "execution_count": 73
        }
      ]
    },
    {
      "cell_type": "code",
      "metadata": {
        "id": "FwOk8ABlx13k",
        "outputId": "1bbcc682-ac86-4b30-9ee0-434386dfbe7b",
        "colab": {
          "base_uri": "https://localhost:8080/",
          "height": 102
        }
      },
      "source": [
        "ViterbiTags('estos instrumentos han de rasgar')"
      ],
      "execution_count": null,
      "outputs": [
        {
          "output_type": "execute_result",
          "data": {
            "text/plain": [
              "[('estos', 'DET'),\n",
              " ('instrumentos', 'NOUN'),\n",
              " ('han', 'AUX'),\n",
              " ('de', 'ADP'),\n",
              " ('rasgar', 'VERB')]"
            ]
          },
          "metadata": {
            "tags": []
          },
          "execution_count": 74
        }
      ]
    },
    {
      "cell_type": "code",
      "metadata": {
        "id": "6qcjHXFuTxl-",
        "outputId": "d8d64dfa-da7e-4df5-ed41-b8d3fe2f40f5",
        "colab": {
          "base_uri": "https://localhost:8080/",
          "height": 85
        }
      },
      "source": [
        "ViterbiTags('castillo el noble trabajador')"
      ],
      "execution_count": null,
      "outputs": [
        {
          "output_type": "execute_result",
          "data": {
            "text/plain": [
              "[('castillo', 'PROPN'),\n",
              " ('el', 'DET'),\n",
              " ('noble', 'PUNCT'),\n",
              " ('trabajador', 'PUNCT')]"
            ]
          },
          "metadata": {
            "tags": []
          },
          "execution_count": 75
        }
      ]
    },
    {
      "cell_type": "code",
      "metadata": {
        "id": "ktC-8wJ3ZkXk",
        "outputId": "3bd705cb-ae21-4e9f-dcf3-88a291090da5",
        "colab": {
          "base_uri": "https://localhost:8080/",
          "height": 102
        }
      },
      "source": [
        "ViterbiTags('el perro grande es feo')"
      ],
      "execution_count": null,
      "outputs": [
        {
          "output_type": "execute_result",
          "data": {
            "text/plain": [
              "[('el', 'DET'),\n",
              " ('perro', 'NOUN'),\n",
              " ('grande', 'ADJ'),\n",
              " ('es', 'AUX'),\n",
              " ('feo', 'PUNCT')]"
            ]
          },
          "metadata": {
            "tags": []
          },
          "execution_count": 79
        }
      ]
    },
    {
      "cell_type": "markdown",
      "metadata": {
        "id": "BnLT12Qx5D78"
      },
      "source": [
        "## Entrenamiento directo de HMM con NLTK\n",
        "\n",
        "* clase en python (NLTK) de HMM: https://www.nltk.org/_modules/nltk/tag/hmm.html"
      ]
    },
    {
      "cell_type": "code",
      "metadata": {
        "id": "NVyCuawh5Eqj"
      },
      "source": [
        "#@title ejemplo con el Corpus Treebank en ingles\n",
        "import nltk\n",
        "nltk.download('treebank')\n",
        "from nltk.corpus import treebank\n",
        "train_data = treebank.tagged_sents()[:3900]"
      ],
      "execution_count": null,
      "outputs": []
    },
    {
      "cell_type": "code",
      "metadata": {
        "id": "C_DomEIM5Hif",
        "outputId": "504f22e8-f8d1-401d-b6bf-2327f59f5863",
        "colab": {
          "base_uri": "https://localhost:8080/",
          "height": 34
        }
      },
      "source": [
        "#@title estructura de la data de entrenamiento\n",
        "print(train_data[0][:10])"
      ],
      "execution_count": null,
      "outputs": [
        {
          "output_type": "stream",
          "text": [
            "[('Pierre', 'NNP'), ('Vinken', 'NNP'), (',', ','), ('61', 'CD'), ('years', 'NNS'), ('old', 'JJ'), (',', ','), ('will', 'MD'), ('join', 'VB'), ('the', 'DT')]\n"
          ],
          "name": "stdout"
        }
      ]
    },
    {
      "cell_type": "code",
      "metadata": {
        "id": "WtknnYIi5KdG",
        "outputId": "cfb6396f-dc99-40ee-f935-3b2cd399cc7a",
        "colab": {
          "base_uri": "https://localhost:8080/",
          "height": 34
        }
      },
      "source": [
        "#@title HMM pre-construido en NLTK\n",
        "from nltk.tag import hmm\n",
        "tagger = hmm.HiddenMarkovModelTrainer().train_supervised(train_data)\n",
        "tagger"
      ],
      "execution_count": null,
      "outputs": [
        {
          "output_type": "execute_result",
          "data": {
            "text/plain": [
              "<HiddenMarkovModelTagger 46 states and 12385 output symbols>"
            ]
          },
          "metadata": {
            "tags": []
          },
          "execution_count": 82
        }
      ]
    },
    {
      "cell_type": "code",
      "metadata": {
        "id": "tLG-QzKc5OM4",
        "outputId": "1a7ec674-2fb6-4cef-a30d-4f0f1f13b235",
        "colab": {
          "base_uri": "https://localhost:8080/",
          "height": 102
        }
      },
      "source": [
        "tagger.tag(\"Pierre Vinken will get old\".split())"
      ],
      "execution_count": null,
      "outputs": [
        {
          "output_type": "execute_result",
          "data": {
            "text/plain": [
              "[('Pierre', 'NNP'),\n",
              " ('Vinken', 'NNP'),\n",
              " ('will', 'MD'),\n",
              " ('get', 'VB'),\n",
              " ('old', 'JJ')]"
            ]
          },
          "metadata": {
            "tags": []
          },
          "execution_count": 95
        }
      ]
    },
    {
      "cell_type": "code",
      "metadata": {
        "id": "aGLYRUBb5Wni",
        "outputId": "f6ad5f25-ba54-4e7f-d328-dd901a405e87",
        "colab": {
          "base_uri": "https://localhost:8080/",
          "height": 34
        }
      },
      "source": [
        "#@title training accuracy\n",
        "tagger.evaluate(treebank.tagged_sents()[:3900])"
      ],
      "execution_count": null,
      "outputs": [
        {
          "output_type": "execute_result",
          "data": {
            "text/plain": [
              "0.9815403947224078"
            ]
          },
          "metadata": {
            "tags": []
          },
          "execution_count": 89
        }
      ]
    },
    {
      "cell_type": "markdown",
      "metadata": {
        "id": "FN-Bgfk-pI0m"
      },
      "source": [
        "### Ejercicio de práctica\n",
        "\n",
        "**Objetivo:** Entrena un HMM usando la clase `hmm.HiddenMarkovModelTrainer()` sobre el dataset `UD_Spanish_AnCora`."
      ]
    },
    {
      "cell_type": "markdown",
      "metadata": {
        "id": "ZrtTL4ihxfiq"
      },
      "source": [
        "1. **Pre-procesamiento:** En el ejemplo anterior usamos el dataset en ingles `treebank`, el cual viene con una estructura diferente a la de `AnCora`, en esta parte escribe código para transformar la estructura de `AnCora` de manera que quede igual al `treebank` que usamos así:\n",
        "\n",
        "$$\\left[ \\left[ (\\text{'El'}, \\text{'DET'}), (\\dots), \\dots\\right], \\left[\\dots \\right] \\right]$$"
      ]
    },
    {
      "cell_type": "code",
      "metadata": {
        "id": "1X8qg5Fc5ahS",
        "outputId": "b455a5c5-8935-45cb-f6b8-1a52ac7013e2",
        "colab": {
          "base_uri": "https://localhost:8080/",
          "height": 51
        }
      },
      "source": [
        "# desarrolla tu código aquí \n",
        "!pip install conllu\n",
        "!git clone https://github.com/UniversalDependencies/UD_Spanish-AnCora.git\n",
        "from conllu import parse_incr "
      ],
      "execution_count": null,
      "outputs": [
        {
          "output_type": "stream",
          "text": [
            "Requirement already satisfied: conllu in /usr/local/lib/python3.6/dist-packages (4.2)\n",
            "fatal: destination path 'UD_Spanish-AnCora' already exists and is not an empty directory.\n"
          ],
          "name": "stdout"
        }
      ]
    },
    {
      "cell_type": "code",
      "metadata": {
        "id": "OqwV3q4Awd-c"
      },
      "source": [
        "data_file = open(\"UD_Spanish-AnCora/es_ancora-ud-train.conllu\", \"r\", encoding=\"utf-8\")\n",
        "data_array = []\n",
        "for tokenlist in parse_incr(data_file):\n",
        "  tokenized_text = []\n",
        "  for token in tokenlist: \n",
        "    tokenized_text.append((token['form'], token['upos']))\n",
        "  data_array.append(tokenized_text)"
      ],
      "execution_count": null,
      "outputs": []
    },
    {
      "cell_type": "code",
      "metadata": {
        "id": "Hq82JRaAyOkz",
        "outputId": "e3fbf5c0-e867-4632-b360-de58839f0114",
        "colab": {
          "base_uri": "https://localhost:8080/",
          "height": 187
        }
      },
      "source": [
        "data_array[0][:10]  # ahora es un corpus"
      ],
      "execution_count": null,
      "outputs": [
        {
          "output_type": "execute_result",
          "data": {
            "text/plain": [
              "[('El', 'DET'),\n",
              " ('presidente', 'NOUN'),\n",
              " ('del', 'ADP'),\n",
              " ('órgano', 'NOUN'),\n",
              " ('regulador', 'ADJ'),\n",
              " ('de', 'ADP'),\n",
              " ('las', 'DET'),\n",
              " ('Telecomunicaciones', 'PROPN'),\n",
              " ('se', 'PRON'),\n",
              " ('mostró', 'VERB')]"
            ]
          },
          "metadata": {
            "tags": []
          },
          "execution_count": 112
        }
      ]
    },
    {
      "cell_type": "code",
      "metadata": {
        "id": "FuDxXf-eyrcC",
        "outputId": "42bc3400-383b-45f2-a4ad-b9b137082d36",
        "colab": {
          "base_uri": "https://localhost:8080/",
          "height": 34
        }
      },
      "source": [
        "len(data_array)"
      ],
      "execution_count": null,
      "outputs": [
        {
          "output_type": "execute_result",
          "data": {
            "text/plain": [
              "14305"
            ]
          },
          "metadata": {
            "tags": []
          },
          "execution_count": 113
        }
      ]
    },
    {
      "cell_type": "markdown",
      "metadata": {
        "id": "W_OYeCVQrZAK"
      },
      "source": [
        "2. **Entrenamiento:** Una vez que el dataset esta con la estructura correcta, utiliza la clase `hmm.HiddenMarkovModelTrainer()` para entrenar con el $80 \\%$ del dataset como conjunto de `entrenamiento` y $20 \\%$ para el conjunto de `test`.\n",
        "\n",
        "**Ayuda:** Para la separacion entre conjuntos de entrenamiento y test, puedes usar la funcion de Scikit Learn: \n",
        "\n",
        "https://scikit-learn.org/stable/modules/generated/sklearn.model_selection.train_test_split.html\n",
        "\n",
        "En este punto el curso de Machine Learning con Scikit Learn es un buen complemento para entender mejor las funcionalidades de Scikit Learn: https://platzi.com/cursos/scikitlearn-ml/ "
      ]
    },
    {
      "cell_type": "code",
      "metadata": {
        "id": "7DyJQJPjzQdz",
        "outputId": "c3c28dc0-e272-4195-cdf0-3182174f1311",
        "colab": {
          "base_uri": "https://localhost:8080/",
          "height": 34
        }
      },
      "source": [
        "train = int(len(data_array)*0.80)\n",
        "test = len(data_array) - train\n",
        "train + test"
      ],
      "execution_count": null,
      "outputs": [
        {
          "output_type": "execute_result",
          "data": {
            "text/plain": [
              "14305"
            ]
          },
          "metadata": {
            "tags": []
          },
          "execution_count": 130
        }
      ]
    },
    {
      "cell_type": "code",
      "metadata": {
        "id": "DZpAIB87sTqL",
        "outputId": "012a6561-9218-4fb8-b27b-4a2327f44214",
        "colab": {
          "base_uri": "https://localhost:8080/",
          "height": 34
        }
      },
      "source": [
        "# desarrolla tu código aquí\n",
        "from sklearn.model_selection import train_test_split\n",
        "train_data, test_data = train_test_split(data_array, test_size=0.2, random_state=42)\n",
        "\n",
        "from nltk.tag import hmm\n",
        "tagger = hmm.HiddenMarkovModelTrainer().train_supervised(train_data)\n",
        "tagger"
      ],
      "execution_count": null,
      "outputs": [
        {
          "output_type": "execute_result",
          "data": {
            "text/plain": [
              "<HiddenMarkovModelTagger 18 states and 34205 output symbols>"
            ]
          },
          "metadata": {
            "tags": []
          },
          "execution_count": 136
        }
      ]
    },
    {
      "cell_type": "code",
      "metadata": {
        "id": "7gQr0ABZ02Lz",
        "outputId": "3857f867-cedd-42f6-a5ef-949d098227ac",
        "colab": {
          "base_uri": "https://localhost:8080/",
          "height": 34
        }
      },
      "source": [
        "tagger.tag(\"el perro es grande\".split())"
      ],
      "execution_count": null,
      "outputs": [
        {
          "output_type": "execute_result",
          "data": {
            "text/plain": [
              "[('el', 'DET'), ('perro', 'NOUN'), ('es', 'AUX'), ('grande', 'ADJ')]"
            ]
          },
          "metadata": {
            "tags": []
          },
          "execution_count": 137
        }
      ]
    },
    {
      "cell_type": "markdown",
      "metadata": {
        "id": "LLS54wqsu9OK"
      },
      "source": [
        "3. **Validación del modelo:** Un vez entrenado el `tagger`, calcula el rendimiento del modelo (usando `tagger.evaluate()`) para los conjuntos de `entrenamiento` y `test`.\n",
        "\n"
      ]
    },
    {
      "cell_type": "code",
      "metadata": {
        "id": "JEwZIG8Du98v",
        "outputId": "1428d12d-7028-495f-b155-1fa7414bf185",
        "colab": {
          "base_uri": "https://localhost:8080/",
          "height": 34
        }
      },
      "source": [
        "#desarrolla tu código aquí\n",
        "tagger.evaluate(test_data)"
      ],
      "execution_count": null,
      "outputs": [
        {
          "output_type": "execute_result",
          "data": {
            "text/plain": [
              "0.5023193277310924"
            ]
          },
          "metadata": {
            "tags": []
          },
          "execution_count": 138
        }
      ]
    },
    {
      "cell_type": "markdown",
      "metadata": {
        "id": "E9fCt849Vvic"
      },
      "source": [
        "<h1>Observaciones importantes</h1>\n",
        "\n",
        "* Si usas el dataset `es_ancora-ud-dev.conllu` notarás que es muy pequeño, puedes intentar con el `es_ancora-ud-train.conllu`.\n",
        "\n",
        "* En la práctica, se acostumbra a entrenar el modelo con `es_ancora-ud-train.conllu` y se valida el test con `es_ancora-ud-test.conllu`, el archivo `es_ancora-ud-dev.conllu` es tipicamente para prototipado rápido del modelo. "
      ]
    },
    {
      "cell_type": "markdown",
      "metadata": {
        "id": "TynVoGb8aHaf"
      },
      "source": [
        "# 4. Modelos Markovianos de Máxima Entropía (MEMM)"
      ]
    },
    {
      "cell_type": "markdown",
      "metadata": {
        "id": "ArzgpXzKdsg-"
      },
      "source": [
        "## Introduction"
      ]
    },
    {
      "cell_type": "markdown",
      "metadata": {
        "id": "yW1O2wjb1hqu"
      },
      "source": [
        "**MEMM(Max Entropy Markovian Model)**\n",
        "\n",
        "El Modelo de Markov de Máxima Entropía es un modelo gráfico discriminativo, basado en regresión logística multinomial, que permite el etiquetado de secuencias y es utilizado para el POS Tagging. … Fi(o,q) indica una función característica sobre una propiedad de la observación.\n",
        "\n",
        "* $P(t_i | w_i, t_{i-1}) = $ La probabilidad de que dada una PALABRA en $'i'$ y una ETIQUETA en $'i-1'$, cual sera la ETIQUETA en la posicion $'i'$.\n",
        "\n",
        "![](https://github.com/dretcm/Natural-Language-Processing-ACM/blob/main/NL%20images/HMM_and_MEMM.png?raw=true)\n",
        "\n",
        "* Dada $t_{i-1}, t_{i+1}, w_{i-1}, w_i, w_{i+1}$ cual es la etiqueta en $t_i$ \n",
        "\n",
        "![](https://github.com/dretcm/Natural-Language-Processing-ACM/blob/main/NL%20images/MEMM_multi_var.PNG?raw=true)"
      ]
    },
    {
      "cell_type": "markdown",
      "metadata": {
        "id": "rc4Q-o3XehpP"
      },
      "source": [
        "**Decodificacion de viterbi para MEMM:**\n",
        "\n",
        "![](https://github.com/dretcm/Natural-Language-Processing-ACM/blob/main/NL%20images/viterbi_for_MEMM.png?raw=true)"
      ]
    },
    {
      "cell_type": "markdown",
      "metadata": {
        "id": "nAiOVVqzj5Zf"
      },
      "source": [
        "## Entrenamiento"
      ]
    },
    {
      "cell_type": "markdown",
      "metadata": {
        "id": "CsecXQYfkfB6"
      },
      "source": [
        "### Carga del Corpus"
      ]
    },
    {
      "cell_type": "code",
      "metadata": {
        "id": "FWL5CeL7kj6v"
      },
      "source": [
        "!pip install conllu\n",
        "!git clone https://github.com/UniversalDependencies/UD_Spanish-AnCora.git"
      ],
      "execution_count": null,
      "outputs": []
    },
    {
      "cell_type": "code",
      "metadata": {
        "id": "ygvVXAPZkl3d"
      },
      "source": [
        "from conllu import parse_incr \n",
        "wordList = []\n",
        "data_file = open(\"UD_Spanish-AnCora/es_ancora-ud-dev.conllu\", \"r\", encoding=\"utf-8\")\n",
        "for tokenlist in parse_incr(data_file):\n",
        "  pass\n",
        "#     print(tokenlist.serialize())"
      ],
      "execution_count": null,
      "outputs": []
    },
    {
      "cell_type": "code",
      "metadata": {
        "id": "Z3KEdfFCkvNi",
        "outputId": "2e76738b-d1a9-4d1d-da2b-a44e056779f6",
        "colab": {
          "base_uri": "https://localhost:8080/",
          "height": 238
        }
      },
      "source": [
        "tokenlist[10]"
      ],
      "execution_count": null,
      "outputs": [
        {
          "output_type": "execute_result",
          "data": {
            "text/plain": [
              "{'deprel': 'obj',\n",
              " 'deps': None,\n",
              " 'feats': {'Gender': 'Masc',\n",
              "  'NumType': 'Card',\n",
              "  'Number': 'Sing',\n",
              "  'PronType': 'Ind'},\n",
              " 'form': 'poco',\n",
              " 'head': 9,\n",
              " 'id': 11,\n",
              " 'lemma': 'poco',\n",
              " 'misc': None,\n",
              " 'upos': 'PRON',\n",
              " 'xpos': 'PRON'}"
            ]
          },
          "metadata": {
            "tags": []
          },
          "execution_count": 41
        }
      ]
    },
    {
      "cell_type": "code",
      "metadata": {
        "id": "zsZA1uCfl36o",
        "outputId": "0182d0d2-58fe-40f5-dea4-13c3a0f06866",
        "colab": {
          "base_uri": "https://localhost:8080/",
          "height": 204
        }
      },
      "source": [
        "for i in range(0,11):\n",
        "  print(tokenlist[i]['form']+'|'+tokenlist[i]['upos'])"
      ],
      "execution_count": null,
      "outputs": [
        {
          "output_type": "stream",
          "text": [
            "Lo|PRON\n",
            "cierto|ADJ\n",
            "es|AUX\n",
            "que|SCONJ\n",
            "a|ADP\n",
            "mí|PRON\n",
            ",|PUNCT\n",
            "me|PRON\n",
            "da|VERB\n",
            "un|DET\n",
            "poco|PRON\n"
          ],
          "name": "stdout"
        }
      ]
    },
    {
      "cell_type": "markdown",
      "metadata": {
        "id": "GAGJIHV0mcPs"
      },
      "source": [
        "### Calculo de conteos:\n",
        "\n",
        "* CONTEO `uniqueFeatureDict`: $C(Word|PreviousTag)$\n",
        "* CONTEO `contextDict`: $C(Word|PreviousTag,Tag)$\n",
        "\n",
        "\n"
      ]
    },
    {
      "cell_type": "code",
      "metadata": {
        "id": "SZXPuF6jnME5",
        "outputId": "5499e3ca-48ed-4a05-d2cb-8ae838eaae2d",
        "colab": {
          "base_uri": "https://localhost:8080/",
          "height": 34
        }
      },
      "source": [
        "from conllu import parse_incr\n",
        "\n",
        "uniqueFeatureDict = {}\n",
        "contextDict = {}\n",
        "\n",
        "tagtype = 'upos'\n",
        "data_file = open(\"UD_Spanish-AnCora/es_ancora-ud-train.conllu\", \"r\", encoding=\"utf-8\")\n",
        "\n",
        "# Calculando conteos (pre-probabilidades)\n",
        "for tokenlist in parse_incr(data_file):\n",
        "  prevtag = \"None\"\n",
        "  for token in tokenlist:\n",
        "    tag = token[tagtype]\n",
        "    word = token['form'].lower()\n",
        "    #C(tag|word,prevtag)\n",
        "    largeKey = tag+'|'+word+','+prevtag\n",
        "    if largeKey in uniqueFeatureDict.keys():\n",
        "      uniqueFeatureDict[largeKey]+=1\n",
        "    else:\n",
        "      uniqueFeatureDict[largeKey]=1\n",
        "    key = word+','+prevtag\n",
        "    if key in contextDict.keys():\n",
        "      contextDict[key]+=1\n",
        "    else:\n",
        "      contextDict[key]=1\n",
        "    #print(largeKey, key, '\\n')\n",
        "    prevtag=tag\n",
        "\n",
        "len(contextDict),len(uniqueFeatureDict) # hay más w|ptag,tag porque mientras menos se parescan unas de las otras habra más grupos"
      ],
      "execution_count": null,
      "outputs": [
        {
          "output_type": "execute_result",
          "data": {
            "text/plain": [
              "(69847, 72780)"
            ]
          },
          "metadata": {
            "tags": []
          },
          "execution_count": 43
        }
      ]
    },
    {
      "cell_type": "markdown",
      "metadata": {
        "id": "Wj0FIySgtrNb"
      },
      "source": [
        "### calculo de probabilidades\n",
        "\n",
        "\n",
        "$$P(Tag | Word, PreviousTag) = \\frac{C(Word, PreviousTag, Tag)}{C(Word, PreviousTag)}$$\n"
      ]
    },
    {
      "cell_type": "code",
      "metadata": {
        "id": "_DN0lQ2au5kC"
      },
      "source": [
        "posteriorProbDict = {}\n",
        "\n",
        "for key in uniqueFeatureDict.keys():\n",
        "  if len(key.split('|'))==3:\n",
        "    posteriorProbDict[key] = uniqueFeatureDict[key]/contextDict['|'+key.split('|')[-1]]\n",
        "  else:\n",
        "    posteriorProbDict[key] = uniqueFeatureDict[key]/contextDict[key.split('|')[1]]\n",
        "\n",
        "posteriorProbDict"
      ],
      "execution_count": null,
      "outputs": []
    },
    {
      "cell_type": "code",
      "metadata": {
        "id": "_NEXwrBkyrw8",
        "outputId": "a905e505-ae8e-4e2c-b24f-85257c58f693",
        "colab": {
          "base_uri": "https://localhost:8080/",
          "height": 306
        }
      },
      "source": [
        "# identificamos las categorias gramaticales 'upos' unicas en el corpus\n",
        "stateSet = {'ADJ',\n",
        " 'ADP',\n",
        " 'ADV',\n",
        " 'AUX',\n",
        " 'CCONJ',\n",
        " 'DET',\n",
        " 'INTJ',\n",
        " 'NOUN',\n",
        " 'NUM',\n",
        " 'PART',\n",
        " 'PRON',\n",
        " 'PROPN',\n",
        " 'PUNCT',\n",
        " 'SCONJ',\n",
        " 'SYM',\n",
        " 'VERB',\n",
        " '_'}\n",
        "# enumeramos las categorias con numeros para asignar a \n",
        "# las columnas de la matriz de Viterbi\n",
        "tagStateDict = {}\n",
        "for i, state in enumerate(stateSet):\n",
        "  tagStateDict[state] = i\n",
        "tagStateDict"
      ],
      "execution_count": null,
      "outputs": [
        {
          "output_type": "execute_result",
          "data": {
            "text/plain": [
              "{'ADJ': 2,\n",
              " 'ADP': 1,\n",
              " 'ADV': 7,\n",
              " 'AUX': 8,\n",
              " 'CCONJ': 4,\n",
              " 'DET': 0,\n",
              " 'INTJ': 10,\n",
              " 'NOUN': 3,\n",
              " 'NUM': 9,\n",
              " 'PART': 14,\n",
              " 'PRON': 15,\n",
              " 'PROPN': 12,\n",
              " 'PUNCT': 5,\n",
              " 'SCONJ': 11,\n",
              " 'SYM': 6,\n",
              " 'VERB': 16,\n",
              " '_': 13}"
            ]
          },
          "metadata": {
            "tags": []
          },
          "execution_count": 45
        }
      ]
    },
    {
      "cell_type": "code",
      "metadata": {
        "id": "lric_soUywID",
        "outputId": "9a95c5af-af2d-4849-bdd3-c2ce5da8963c",
        "colab": {
          "base_uri": "https://localhost:8080/",
          "height": 306
        }
      },
      "source": [
        "initTagStateProb = {} # \\rho_i^{(0)}\n",
        "from conllu import parse_incr \n",
        "wordList = []\n",
        "data_file = open(\"UD_Spanish-AnCora/es_ancora-ud-train.conllu\", \"r\", encoding=\"utf-8\")\n",
        "count = 0 # cuenta la longitud del corpus\n",
        "for tokenlist in parse_incr(data_file):\n",
        "  count += 1\n",
        "  tag = tokenlist[0]['upos'] # [0] porque es el tagger principal\n",
        "  if tag in initTagStateProb.keys():\n",
        "    initTagStateProb[tag] += 1\n",
        "  else:\n",
        "    initTagStateProb[tag] = 1\n",
        "\n",
        "for key in initTagStateProb.keys():\n",
        "  initTagStateProb[key] /= count\n",
        "\n",
        "initTagStateProb"
      ],
      "execution_count": null,
      "outputs": [
        {
          "output_type": "execute_result",
          "data": {
            "text/plain": [
              "{'ADJ': 0.010136315973435861,\n",
              " 'ADP': 0.1574274729115694,\n",
              " 'ADV': 0.07577770010485844,\n",
              " 'AUX': 0.022789234533379936,\n",
              " 'CCONJ': 0.036980076896190144,\n",
              " 'DET': 0.34799021321216356,\n",
              " 'INTJ': 0.0020272631946871723,\n",
              " 'NOUN': 0.025026214610276126,\n",
              " 'NUM': 0.0068507514854945824,\n",
              " 'PART': 0.002446696959105208,\n",
              " 'PRON': 0.04173365955959455,\n",
              " 'PROPN': 0.10506815798671792,\n",
              " 'PUNCT': 0.09143656064313177,\n",
              " 'SCONJ': 0.027123383432366307,\n",
              " 'SYM': 0.0004893393918210416,\n",
              " 'VERB': 0.04557846906675987,\n",
              " '_': 0.0011184900384480952}"
            ]
          },
          "metadata": {
            "tags": []
          },
          "execution_count": 46
        }
      ]
    },
    {
      "cell_type": "markdown",
      "metadata": {
        "id": "DUUZU7_5xXY0"
      },
      "source": [
        "### Construcción del algoritmo de Viterbi\n",
        "\n",
        "Dada una secuencia de palabras $\\{p_1, p_2, \\dots, p_n \\}$, y un conjunto de categorias gramaticales dadas por la convención `upos`, se considera la matriz de probabilidades de Viterbi así:\n",
        "\n",
        "$$\n",
        "\\begin{array}{c c}\n",
        "\\begin{array}{c c c c}\n",
        "\\text{ADJ} \\\\\n",
        "\\text{ADV}\\\\\n",
        "\\text{PRON} \\\\\n",
        "\\vdots \\\\\n",
        "{}\n",
        "\\end{array} \n",
        "&\n",
        "\\left[\n",
        "\\begin{array}{c c c c}\n",
        "\\nu_1(\\text{ADJ}) & \\nu_2(\\text{ADJ}) & \\dots  & \\nu_n(\\text{ADJ})\\\\\n",
        "\\nu_1(\\text{ADV}) & \\nu_2(\\text{ADV}) & \\dots  & \\nu_n(\\text{ADV})\\\\ \n",
        "\\nu_1(\\text{PRON}) & \\nu_2(\\text{PRON}) & \\dots  & \\nu_n(\\text{PRON})\\\\\n",
        "\\vdots & \\vdots & \\dots & \\vdots \\\\ \\hdashline\n",
        "p_1 & p_2 & \\dots & p_n \n",
        "\\end{array}\n",
        "\\right] \n",
        "\\end{array}\n",
        "$$\n",
        "\n",
        "Donde las probabilidades de Viterbi en la primera columna (para una categoria $i$) están dadas por: \n",
        "\n",
        "$$\n",
        "\\nu_1(i) = \\underbrace{\\rho_i^{(0)}}_{\\text{probabilidad inicial}} \\times P(i \\vert p_1, \\text{\"None\"})\n",
        "$$\n",
        "\n",
        "y para las siguientes columnas: \n",
        "\n",
        "$$\n",
        "\\nu_{t}(j) = \\max_i \\{ \\overbrace{\\nu_{t-1}(i)}^{\\text{estado anterior}} \\times P(j \\vert p_t, i) \\}\n",
        "$$\n"
      ]
    },
    {
      "cell_type": "code",
      "metadata": {
        "id": "jAF33dC_hDln"
      },
      "source": [
        "!pip install stanza"
      ],
      "execution_count": null,
      "outputs": []
    },
    {
      "cell_type": "code",
      "metadata": {
        "id": "V_laHkf0hBNr"
      },
      "source": [
        "import numpy as np \n",
        "import stanza\n",
        "stanza.download('es')\n",
        "nlp = stanza.Pipeline('es', processors='tokenize')"
      ],
      "execution_count": null,
      "outputs": []
    },
    {
      "cell_type": "code",
      "metadata": {
        "id": "KjNHJ0Y1hJR_",
        "outputId": "43e1a755-d98a-48f0-a20f-db074e9adfd0",
        "colab": {
          "base_uri": "https://localhost:8080/",
          "height": 306
        }
      },
      "source": [
        "def ViterbiMatrix(secuencia, posteriorProbDict=posteriorProbDict, initTagStateProb=initTagStateProb):\n",
        "  doc = nlp(secuencia)\n",
        "  if len(doc.sentences)>1:\n",
        "    raise ValueError('secuencia must be a string!')\n",
        "  seq = [word.text for word in doc.sentences[0].words]\n",
        "  viterbiProb = np.zeros((17, len(seq)))\n",
        "  \n",
        "  # inicialización primera columna\n",
        "  for tag in tagStateDict.keys():\n",
        "    tag_row = tagStateDict[tag]\n",
        "    key = tag+'|'+seq[0].lower()+','+\"None\"\n",
        "    try:\n",
        "      viterbiProb[tag_row, 0] = initTagStateProb[tag]*posteriorProbDict[key]\n",
        "    except: \n",
        "      pass\n",
        "  \n",
        "  # computo de las siguientes columnas\n",
        "  for col in range(1, len(seq)):\n",
        "    for tag in tagStateDict.keys():\n",
        "      tag_row = tagStateDict[tag]\n",
        "      possible_probs = []\n",
        "      for prevtag in tagStateDict.keys(): \n",
        "        prevtag_row = tagStateDict[prevtag]\n",
        "        key = tag+'|'+seq[col].lower()+','+prevtag\n",
        "        try:\n",
        "          possible_probs.append(\n",
        "              viterbiProb[prevtag_row, col-1]*posteriorProbDict[key])\n",
        "        except:\n",
        "          possible_probs.append(0)\n",
        "      viterbiProb[tag_row, col] = max(possible_probs)\n",
        "\n",
        "  return viterbiProb\n",
        "\n",
        "ViterbiMatrix('el mundo es pequeño')"
      ],
      "execution_count": null,
      "outputs": [
        {
          "output_type": "execute_result",
          "data": {
            "text/plain": [
              "array([[3.47990213e-01, 0.00000000e+00, 0.00000000e+00, 0.00000000e+00],\n",
              "       [0.00000000e+00, 0.00000000e+00, 0.00000000e+00, 0.00000000e+00],\n",
              "       [0.00000000e+00, 0.00000000e+00, 0.00000000e+00, 3.33820692e-01],\n",
              "       [0.00000000e+00, 3.39769972e-01, 5.94927966e-03, 0.00000000e+00],\n",
              "       [0.00000000e+00, 0.00000000e+00, 0.00000000e+00, 0.00000000e+00],\n",
              "       [0.00000000e+00, 0.00000000e+00, 0.00000000e+00, 0.00000000e+00],\n",
              "       [0.00000000e+00, 0.00000000e+00, 0.00000000e+00, 0.00000000e+00],\n",
              "       [0.00000000e+00, 0.00000000e+00, 0.00000000e+00, 0.00000000e+00],\n",
              "       [0.00000000e+00, 0.00000000e+00, 3.33820692e-01, 0.00000000e+00],\n",
              "       [0.00000000e+00, 0.00000000e+00, 0.00000000e+00, 0.00000000e+00],\n",
              "       [0.00000000e+00, 0.00000000e+00, 0.00000000e+00, 0.00000000e+00],\n",
              "       [0.00000000e+00, 0.00000000e+00, 0.00000000e+00, 0.00000000e+00],\n",
              "       [0.00000000e+00, 8.22024126e-03, 1.13643888e-04, 0.00000000e+00],\n",
              "       [0.00000000e+00, 0.00000000e+00, 0.00000000e+00, 0.00000000e+00],\n",
              "       [0.00000000e+00, 0.00000000e+00, 0.00000000e+00, 0.00000000e+00],\n",
              "       [0.00000000e+00, 0.00000000e+00, 0.00000000e+00, 0.00000000e+00],\n",
              "       [0.00000000e+00, 0.00000000e+00, 0.00000000e+00, 0.00000000e+00]])"
            ]
          },
          "metadata": {
            "tags": []
          },
          "execution_count": 52
        }
      ]
    },
    {
      "cell_type": "code",
      "metadata": {
        "id": "LIneETwUhKdA",
        "outputId": "84cbf3b0-95e0-4247-a9a7-114732da651c",
        "colab": {
          "base_uri": "https://localhost:8080/",
          "height": 34
        }
      },
      "source": [
        "def ViterbiTags(secuencia, posteriorProbDict=posteriorProbDict, initTagStateProb=initTagStateProb):\n",
        "  doc = nlp(secuencia)\n",
        "  if len(doc.sentences)>1:\n",
        "    raise ValueError('secuencia must be a string!')\n",
        "  seq = [word.text for word in doc.sentences[0].words]\n",
        "  viterbiProb = np.zeros((17, len(seq)))\n",
        "  \n",
        "  # inicialización primera columna\n",
        "  for tag in tagStateDict.keys():\n",
        "    tag_row = tagStateDict[tag]\n",
        "    key = tag+'|'+seq[0].lower()+','+\"None\"\n",
        "    try:\n",
        "      viterbiProb[tag_row, 0] = initTagStateProb[tag]*posteriorProbDict[key]\n",
        "    except: \n",
        "      pass\n",
        "\n",
        "  \n",
        "  # computo de las siguientes columnas\n",
        "  for col in range(1, len(seq)):\n",
        "    for tag in tagStateDict.keys():\n",
        "      tag_row = tagStateDict[tag]\n",
        "      possible_probs = []\n",
        "      for prevtag in tagStateDict.keys(): \n",
        "        prevtag_row = tagStateDict[prevtag]\n",
        "        key = tag+'|'+seq[col].lower()+','+prevtag\n",
        "        try:\n",
        "          possible_probs.append(\n",
        "              viterbiProb[prevtag_row, col-1]*posteriorProbDict[key])\n",
        "        except:\n",
        "          possible_probs.append(0)\n",
        "      viterbiProb[tag_row, col] = max(possible_probs)\n",
        "\n",
        "  # contruccion de secuencia de tags\n",
        "  res = []\n",
        "  for i, p in enumerate(seq):\n",
        "    for tag in tagStateDict.keys():\n",
        "      if tagStateDict[tag] == np.argmax(viterbiProb[:, i]):\n",
        "        res.append((p, tag))\n",
        "\n",
        "\n",
        "  return res\n",
        "\n",
        "ViterbiTags('el mundo es pequeño')"
      ],
      "execution_count": null,
      "outputs": [
        {
          "output_type": "execute_result",
          "data": {
            "text/plain": [
              "[('el', 'DET'), ('mundo', 'NOUN'), ('es', 'AUX'), ('pequeño', 'ADJ')]"
            ]
          },
          "metadata": {
            "tags": []
          },
          "execution_count": 55
        }
      ]
    },
    {
      "cell_type": "code",
      "metadata": {
        "id": "KmY-n7YWm0Sv",
        "outputId": "b0d95740-fa8b-4b6b-acc3-8ce00c4ea729",
        "colab": {
          "base_uri": "https://localhost:8080/",
          "height": 102
        }
      },
      "source": [
        "ViterbiTags('yo soy un muchacho malo')"
      ],
      "execution_count": null,
      "outputs": [
        {
          "output_type": "execute_result",
          "data": {
            "text/plain": [
              "[('yo', 'PRON'),\n",
              " ('soy', 'AUX'),\n",
              " ('un', 'DET'),\n",
              " ('muchacho', 'NOUN'),\n",
              " ('malo', 'ADJ')]"
            ]
          },
          "metadata": {
            "tags": []
          },
          "execution_count": 64
        }
      ]
    },
    {
      "cell_type": "markdown",
      "metadata": {
        "id": "-mmOau3BLHQl"
      },
      "source": [
        "### ¿ Siguientes Pasos ? "
      ]
    },
    {
      "cell_type": "markdown",
      "metadata": {
        "id": "C7bNl1y0LA04"
      },
      "source": [
        "El modelo construido, aunque es la base de un MEMM, no explota todo el potencial del concepto  que estos modelos representan, en nuestro caso sencillo consideramos solo un **feature** para predecir la categoría gramatical: $<w_i, t_{i-1}>$. Es decir, las probabilidades de una cierta etiqueta $t_i$ dada una observación $<w_i, t_{i-1}>$ se calculan contando eventos donde se observe que $<w_i, t_{i-1}>$ sucede simultáneamente con $t_i$. \n",
        "\n",
        "La generalización de esto (donde puedo considerar multiples observaciones o **features**, y a partir de estos inferir la categoría gramatical) se hace construyendo las llamadas **feature-functions**, donde estas funciones toman valores de 0 o 1, cuando se cumplan las condiciones de la observación o feature en cuestion. En general podemos considerar una **feature-function** como : \n",
        "\n",
        "$$f_a(t, o) = f_a(\\text{tag}, \\text{observation}) = \n",
        "\\begin{cases}\n",
        "  1 , & \\text{se cumple condición } a \\\\\n",
        "  0, & \\text{en caso contrario}\n",
        "\\end{cases}\n",
        "$$\n",
        "\n",
        "donde la condición $a$ es una relacion entre los valores que tome $\\text{tag}$ y $\\text{context}$, por ejemplo:\n",
        "\n",
        "$$f_a(t, o) = f_a(\\text{tag}, \\text{observation}) = \n",
        "\\begin{cases}\n",
        "  1 , & (t_i, t_{i-1}) = \\text{('VERB', 'ADJ')} \\\\\n",
        "  0, & \\text{en caso contrario}\n",
        "\\end{cases}\n",
        "$$\n",
        "\n",
        "Al considerar varias funciones, y por lo tanto varios features observables, consideramos una combinacion lineal de estos por medio de un coeficiente que multiplique a cada función: \n",
        "\n",
        "$$\n",
        "\\theta_1 f_1(t, o) + \\theta_2 f_2(t, o) + \\dots\n",
        "$$\n",
        "\n",
        "donde los coeficientes indicarán cuales features son más relevantes y por lo tanto pesan más para la decisión del resultado del modelo. De esta manera los coeficientes $\\theta_j$ se vuelven parámetros del modelo que deben ser optimizados (esto puede realizarse con cualquier técnica de optimizacion como el Gradiente Descendente). Ahora, las probabilidades que pueden obtener usando un softmax sobre estas combinaciones lineales de features: \n",
        "\n",
        "$$\n",
        "P = \\prod_i \\frac{\\exp{\\left(\\sum_j \\theta_j f_j(t_i, o)\\right)}}{\\sum_{t'}\\exp{\\left(\\sum_j \\theta_j f_j(t', o)\\right)}}\n",
        "$$\n",
        "\n",
        "Así, lo que buscamos con el algoritmo de optimización es encontrar los parámetros $\\theta_j$ que maximizan la probabilidad anterior. En NLTK encontramos la implementación completa de un clasificador de máxima entropia que no esta restringido a relaciones markovianas: https://www.nltk.org/_modules/nltk/classify/maxent.html"
      ]
    },
    {
      "cell_type": "markdown",
      "metadata": {
        "id": "a08eJlW7sAy7"
      },
      "source": [
        "# 5. Clasificación de texto con NLTK"
      ]
    },
    {
      "cell_type": "markdown",
      "metadata": {
        "id": "UeQATCRY99fJ"
      },
      "source": [
        "## Clasificación de Texto"
      ]
    },
    {
      "cell_type": "markdown",
      "metadata": {
        "id": "7KOOB4axk9Co"
      },
      "source": [
        "![](https://github.com/dretcm/Natural-Language-Processing-ACM/blob/main/NL%20images/supervised_learning.PNG?raw=true)\n",
        "\n",
        "**Tecnicas de clasificación:**\n",
        "\n",
        "* basadas en la teoría de la probabilidad.\n",
        "* basadaas en la teoría de la información.\n",
        "* basada en espacios vectoriales.\n",
        "\n",
        "**Clasificación de palabras:**\n",
        "\n",
        "* Identificación de género de nombres\n",
        "* Etiquetado POS (categorías\n",
        "gramaticales)\n",
        "* Bloqueo de palabras ofensivas\n",
        "\n",
        "**Clasificación de documentos:**\n",
        "* Análisis de sentimiento\n",
        "* Tópicos de conversación(deportes, comida, etc).\n",
        "* Priorización en CRMs(la gestion de relación con nuestros clientes)."
      ]
    },
    {
      "cell_type": "markdown",
      "metadata": {
        "id": "iti6tzjoouFR"
      },
      "source": [
        "## Names Clasification "
      ]
    },
    {
      "cell_type": "code",
      "metadata": {
        "id": "Dr2mvoxBo0g4"
      },
      "source": [
        "import nltk, random\n",
        "from nltk.corpus import names"
      ],
      "execution_count": null,
      "outputs": []
    },
    {
      "cell_type": "code",
      "metadata": {
        "id": "x4IcOL20pbAB",
        "outputId": "d69c97ee-a2b4-493b-e440-2c9c5171f2d5",
        "colab": {
          "base_uri": "https://localhost:8080/",
          "height": 224
        }
      },
      "source": [
        "def atributos(palabra):\n",
        "  return {'letra_f': palabra[-1].lower()}\n",
        "\n",
        "'''\n",
        "def atributos(palabra):   # ya no solo con la letra final sino añadiendo más dimesiones para un mejor performance \n",
        "  ’???’\n",
        "  return {‘atr_1’: ?,‘atr_2’: ?, ...}\n",
        "'''\n",
        "names_f = []\n",
        "names_m = []\n",
        "\n",
        "# for i in names.open('/root/nltk_data/corpora/names/female.txt'):\n",
        "#   names_f += [(i[:-1],'Female')]\n",
        "# for i in names.open('/root/nltk_data/corpora/names/male.txt'):\n",
        "#   names_m += [(i[:-1],'Male')]\n",
        "# tagset = names_f + names_m\n",
        "\n",
        "tagset = ([(name, 'Female') for name in names.words('female.txt')] + [(name, 'Male') for name in names.words('male.txt')])\n",
        "\n",
        "print(tagset[:10]) # sin random\n",
        "random.shuffle(tagset) # aleatorisamos la data\n",
        "tagset[:10] # con random"
      ],
      "execution_count": null,
      "outputs": [
        {
          "output_type": "stream",
          "text": [
            "[('Abagael', 'Female'), ('Abagail', 'Female'), ('Abbe', 'Female'), ('Abbey', 'Female'), ('Abbi', 'Female'), ('Abbie', 'Female'), ('Abby', 'Female'), ('Abigael', 'Female'), ('Abigail', 'Female'), ('Abigale', 'Female')]\n"
          ],
          "name": "stdout"
        },
        {
          "output_type": "execute_result",
          "data": {
            "text/plain": [
              "[('Arlen', 'Female'),\n",
              " ('Vinny', 'Female'),\n",
              " ('Danelle', 'Female'),\n",
              " ('Nicole', 'Female'),\n",
              " ('Aleck', 'Male'),\n",
              " ('Jackson', 'Male'),\n",
              " ('Claudetta', 'Female'),\n",
              " ('Nicola', 'Female'),\n",
              " ('Wendall', 'Male'),\n",
              " ('Kiri', 'Female')]"
            ]
          },
          "metadata": {
            "tags": []
          },
          "execution_count": 107
        }
      ]
    },
    {
      "cell_type": "code",
      "metadata": {
        "id": "UslbrWawvNF2",
        "outputId": "4d6c539b-a3bc-4328-d655-6fe0a26dceb0",
        "colab": {
          "base_uri": "https://localhost:8080/",
          "height": 221
        }
      },
      "source": [
        "from sklearn.model_selection import train_test_split\n",
        "\n",
        "fset = [(atributos(n),g) for (n, g) in tagset]\n",
        "# print(fset)\n",
        "\n",
        "length = len(fset)\n",
        "num = int(length*0.9) # 90% for train\n",
        "print('len: {}  train: {}  test: {} '.format(length, num, length-num))\n",
        "train, test = fset[:num], fset[num:]\n",
        "\n",
        "# train, test = train_test_split(fset, train_size=0.8) # aleatoriza y separa\n",
        "\n",
        "classifier = nltk.NaiveBayesClassifier.train(train)\n",
        "classifier.show_most_informative_features()"
      ],
      "execution_count": null,
      "outputs": [
        {
          "output_type": "stream",
          "text": [
            "len: 7944  train: 7149  test: 795 \n",
            "Most Informative Features\n",
            "                 letra_f = 'a'            Female : Male   =     38.0 : 1.0\n",
            "                 letra_f = 'k'              Male : Female =     30.1 : 1.0\n",
            "                 letra_f = 'f'              Male : Female =     25.7 : 1.0\n",
            "                 letra_f = 'p'              Male : Female =     11.3 : 1.0\n",
            "                 letra_f = 'd'              Male : Female =      9.7 : 1.0\n",
            "                 letra_f = 'v'              Male : Female =      9.2 : 1.0\n",
            "                 letra_f = 'o'              Male : Female =      7.8 : 1.0\n",
            "                 letra_f = 'm'              Male : Female =      7.7 : 1.0\n",
            "                 letra_f = 'r'              Male : Female =      7.0 : 1.0\n",
            "                 letra_f = 'g'              Male : Female =      5.9 : 1.0\n"
          ],
          "name": "stdout"
        }
      ]
    },
    {
      "cell_type": "code",
      "metadata": {
        "id": "2PCC5FPo3ewb",
        "outputId": "db938463-4e6b-4133-95cf-8cff1cf51337",
        "colab": {
          "base_uri": "https://localhost:8080/",
          "height": 51
        }
      },
      "source": [
        "print(classifier.classify(atributos('alexandra')))\n",
        "print(nltk.classify.accuracy(classifier, test))"
      ],
      "execution_count": null,
      "outputs": [
        {
          "output_type": "stream",
          "text": [
            "Female\n",
            "0.7635220125786164\n"
          ],
          "name": "stdout"
        }
      ]
    },
    {
      "cell_type": "markdown",
      "metadata": {
        "id": "-qL-WfOrCMY-"
      },
      "source": [
        "**Mejores Atributos**"
      ]
    },
    {
      "cell_type": "code",
      "metadata": {
        "id": "qsEl6_CrCQHB"
      },
      "source": [
        "def mas_atributos(nombre):\n",
        "  atrib = {}\n",
        "  atrib[\"primera_letra\"] = nombre[0].lower()\n",
        "  atrib[\"ultima_letra\"] = nombre[-1].lower()\n",
        "  for letra in 'abcdefghijklmnopqrstuvwxyz':\n",
        "    atrib[\"count({})\".format(letra)] = nombre.lower().count(letra)\n",
        "    atrib[\"has({})\".format(letra)] = (letra in nombre.lower())\n",
        "  return atrib"
      ],
      "execution_count": null,
      "outputs": []
    },
    {
      "cell_type": "code",
      "metadata": {
        "id": "00QGK0sMCkS0",
        "outputId": "d0bb8298-874a-49a8-f2f2-22314780d92e",
        "colab": {
          "base_uri": "https://localhost:8080/",
          "height": 935
        }
      },
      "source": [
        "mas_atributos('jhon')"
      ],
      "execution_count": null,
      "outputs": [
        {
          "output_type": "execute_result",
          "data": {
            "text/plain": [
              "{'count(a)': 0,\n",
              " 'count(b)': 0,\n",
              " 'count(c)': 0,\n",
              " 'count(d)': 0,\n",
              " 'count(e)': 0,\n",
              " 'count(f)': 0,\n",
              " 'count(g)': 0,\n",
              " 'count(h)': 1,\n",
              " 'count(i)': 0,\n",
              " 'count(j)': 1,\n",
              " 'count(k)': 0,\n",
              " 'count(l)': 0,\n",
              " 'count(m)': 0,\n",
              " 'count(n)': 1,\n",
              " 'count(o)': 1,\n",
              " 'count(p)': 0,\n",
              " 'count(q)': 0,\n",
              " 'count(r)': 0,\n",
              " 'count(s)': 0,\n",
              " 'count(t)': 0,\n",
              " 'count(u)': 0,\n",
              " 'count(v)': 0,\n",
              " 'count(w)': 0,\n",
              " 'count(x)': 0,\n",
              " 'count(y)': 0,\n",
              " 'count(z)': 0,\n",
              " 'has(a)': False,\n",
              " 'has(b)': False,\n",
              " 'has(c)': False,\n",
              " 'has(d)': False,\n",
              " 'has(e)': False,\n",
              " 'has(f)': False,\n",
              " 'has(g)': False,\n",
              " 'has(h)': True,\n",
              " 'has(i)': False,\n",
              " 'has(j)': True,\n",
              " 'has(k)': False,\n",
              " 'has(l)': False,\n",
              " 'has(m)': False,\n",
              " 'has(n)': True,\n",
              " 'has(o)': True,\n",
              " 'has(p)': False,\n",
              " 'has(q)': False,\n",
              " 'has(r)': False,\n",
              " 'has(s)': False,\n",
              " 'has(t)': False,\n",
              " 'has(u)': False,\n",
              " 'has(v)': False,\n",
              " 'has(w)': False,\n",
              " 'has(x)': False,\n",
              " 'has(y)': False,\n",
              " 'has(z)': False,\n",
              " 'primera_letra': 'j',\n",
              " 'ultima_letra': 'n'}"
            ]
          },
          "metadata": {
            "tags": []
          },
          "execution_count": 115
        }
      ]
    },
    {
      "cell_type": "code",
      "metadata": {
        "id": "s5-dcZcJCl4d",
        "outputId": "f52cb71b-0c5a-4a9d-9013-2978de33ae0d",
        "colab": {
          "base_uri": "https://localhost:8080/",
          "height": 204
        }
      },
      "source": [
        "fset = [(mas_atributos(n), g) for (n, g) in tagset]\n",
        "train, test = fset[500:], fset[:500]\n",
        "classifier2 = nltk.NaiveBayesClassifier.train(train)\n",
        "classifier2.show_most_informative_features()"
      ],
      "execution_count": null,
      "outputs": [
        {
          "output_type": "stream",
          "text": [
            "Most Informative Features\n",
            "            ultima_letra = 'a'            Female : Male   =     34.3 : 1.0\n",
            "            ultima_letra = 'k'              Male : Female =     31.8 : 1.0\n",
            "            ultima_letra = 'f'              Male : Female =     14.6 : 1.0\n",
            "            ultima_letra = 'p'              Male : Female =     12.6 : 1.0\n",
            "            ultima_letra = 'v'              Male : Female =     11.2 : 1.0\n",
            "            ultima_letra = 'd'              Male : Female =      9.5 : 1.0\n",
            "                count(v) = 2              Female : Male   =      9.2 : 1.0\n",
            "            ultima_letra = 'm'              Male : Female =      9.2 : 1.0\n",
            "            ultima_letra = 'o'              Male : Female =      8.0 : 1.0\n",
            "            ultima_letra = 'w'              Male : Female =      6.6 : 1.0\n"
          ],
          "name": "stdout"
        }
      ]
    },
    {
      "cell_type": "code",
      "metadata": {
        "id": "mwRxfSYCCqUf",
        "outputId": "a661eb92-0094-40b9-aa74-93b0bf408d5f",
        "colab": {
          "base_uri": "https://localhost:8080/",
          "height": 34
        }
      },
      "source": [
        "print(nltk.classify.accuracy(classifier2, test))"
      ],
      "execution_count": null,
      "outputs": [
        {
          "output_type": "stream",
          "text": [
            "0.792\n"
          ],
          "name": "stdout"
        }
      ]
    },
    {
      "cell_type": "markdown",
      "metadata": {
        "id": "rT7mmVnvFAcm"
      },
      "source": [
        "### Ejercicio de práctica\n",
        "\n",
        "**Objetivo:** Construye un classificador de nombres en español usando el siguiente dataset: \n",
        "https://github.com/jvalhondo/spanish-names-surnames"
      ]
    },
    {
      "cell_type": "markdown",
      "metadata": {
        "id": "NphJqahkFnjO"
      },
      "source": [
        "1. **Preparación de los datos**: con un `git clone` puedes traer el dataset indicado a tu directorio en Colab, luego asegurate de darle el formato adecuado a los datos y sus features para que tenga la misma estructura del ejemplo anterior con el dataset `names` de nombres en ingles. \n",
        "\n",
        "* **Piensa y analiza**: ¿los features en ingles aplican de la misma manera para los nombres en español?"
      ]
    },
    {
      "cell_type": "code",
      "metadata": {
        "id": "OhbOT6_zFGHM"
      },
      "source": [
        "!git clone https://github.com/jvalhondo/spanish-names-surnames"
      ],
      "execution_count": null,
      "outputs": []
    },
    {
      "cell_type": "code",
      "metadata": {
        "id": "pd2Eo3hwbm6W"
      },
      "source": [
        "import numpy as np\n",
        "from sklearn.model_selection import train_test_split\n",
        "from sklearn.model_selection import ShuffleSplit\n",
        "import pandas as pd\n",
        "import random\n",
        "import nltk\n",
        "import string"
      ],
      "execution_count": null,
      "outputs": []
    },
    {
      "cell_type": "code",
      "metadata": {
        "id": "5nYMihOdbqUr"
      },
      "source": [
        "data_f = pd.read_csv('/content/spanish-names-surnames/female_names.csv')\n",
        "data_m = pd.read_csv('/content/spanish-names-surnames/male_names.csv')\n",
        "# for i in data_f['name']:\n",
        "#   print(i)"
      ],
      "execution_count": null,
      "outputs": []
    },
    {
      "cell_type": "code",
      "metadata": {
        "id": "wdWdxcgmcJcb",
        "outputId": "54ff648e-1859-46ce-8abb-c25a0f1df57c",
        "colab": {
          "base_uri": "https://localhost:8080/",
          "height": 187
        }
      },
      "source": [
        "tagset = [(name, 'Femenino') for name in data_f['name']] + [(name, 'Masculino') for name in data_m['name']]\n",
        "tagset[:10]"
      ],
      "execution_count": null,
      "outputs": [
        {
          "output_type": "execute_result",
          "data": {
            "text/plain": [
              "[('MARIA CARMEN', 'Femenino'),\n",
              " ('MARIA', 'Femenino'),\n",
              " ('CARMEN', 'Femenino'),\n",
              " ('JOSEFA', 'Femenino'),\n",
              " ('ISABEL', 'Femenino'),\n",
              " ('ANA MARIA', 'Femenino'),\n",
              " ('MARIA PILAR', 'Femenino'),\n",
              " ('MARIA DOLORES', 'Femenino'),\n",
              " ('MARIA TERESA', 'Femenino'),\n",
              " ('ANA', 'Femenino')]"
            ]
          },
          "metadata": {
            "tags": []
          },
          "execution_count": 73
        }
      ]
    },
    {
      "cell_type": "code",
      "metadata": {
        "id": "V2MdAtGLffNz",
        "outputId": "c35de741-e621-47e6-c647-298865c62a23",
        "colab": {
          "base_uri": "https://localhost:8080/",
          "height": 187
        }
      },
      "source": [
        "random.shuffle(tagset)\n",
        "tagset[:10]"
      ],
      "execution_count": null,
      "outputs": [
        {
          "output_type": "execute_result",
          "data": {
            "text/plain": [
              "[('DANIELA MONICA', 'Femenino'),\n",
              " ('TERESA RAMONA', 'Femenino'),\n",
              " ('NICOLETA CARMEN', 'Femenino'),\n",
              " ('BAUTISTA JOSE', 'Masculino'),\n",
              " ('NAZARENA', 'Femenino'),\n",
              " ('OSCAR AURELIO', 'Masculino'),\n",
              " ('HELMUT', 'Masculino'),\n",
              " ('MARY ALEXANDRA', 'Femenino'),\n",
              " ('CARLOS IGNACIO', 'Masculino'),\n",
              " ('RUI JORGE', 'Masculino')]"
            ]
          },
          "metadata": {
            "tags": []
          },
          "execution_count": 74
        }
      ]
    },
    {
      "cell_type": "code",
      "metadata": {
        "id": "DPZx-KymL5YQ",
        "outputId": "fddd9b12-72a9-41fa-bd89-d172969278e4",
        "colab": {
          "base_uri": "https://localhost:8080/",
          "height": 34
        }
      },
      "source": [
        "for (n,g) in tagset:\n",
        "  try:\n",
        "    n.lower()\n",
        "  except:\n",
        "    idx = tagset.index((n,g))\n",
        "    print(idx)"
      ],
      "execution_count": null,
      "outputs": [
        {
          "output_type": "stream",
          "text": [
            "9930\n"
          ],
          "name": "stdout"
        }
      ]
    },
    {
      "cell_type": "code",
      "metadata": {
        "id": "p-21weaVMtHZ",
        "outputId": "93e0ad1d-aca8-4510-a65b-7b140a885cbf",
        "colab": {
          "base_uri": "https://localhost:8080/",
          "height": 34
        }
      },
      "source": [
        "tagset.pop(idx)"
      ],
      "execution_count": null,
      "outputs": [
        {
          "output_type": "execute_result",
          "data": {
            "text/plain": [
              "(nan, 'Femenino')"
            ]
          },
          "metadata": {
            "tags": []
          },
          "execution_count": 76
        }
      ]
    },
    {
      "cell_type": "code",
      "metadata": {
        "id": "2rYAGR0OHc57",
        "outputId": "934ce7c7-c8f1-4fe1-b26a-1da565c755d4",
        "colab": {
          "base_uri": "https://localhost:8080/",
          "height": 34
        }
      },
      "source": [
        "def atributos(name):\n",
        "  attribute = {}\n",
        "  name = name.lower()\n",
        "  attribute['last_word'] = name[-1]\n",
        "  attribute['penultimate_word'] = name[-2]\n",
        "  return attribute\n",
        "\n",
        "atributos('alexander')"
      ],
      "execution_count": null,
      "outputs": [
        {
          "output_type": "execute_result",
          "data": {
            "text/plain": [
              "{'last_word': 'r', 'penultimate_word': 'e'}"
            ]
          },
          "metadata": {
            "tags": []
          },
          "execution_count": 96
        }
      ]
    },
    {
      "cell_type": "code",
      "metadata": {
        "id": "TjNEujvDKtNx",
        "outputId": "86ca60e1-0ab3-41c6-b13f-6244d3c71c6c",
        "colab": {
          "base_uri": "https://localhost:8080/",
          "height": 187
        }
      },
      "source": [
        "tagset = [(atributos(str(n)), g) for (n, g) in tagset]\n",
        "tagset[:10]"
      ],
      "execution_count": null,
      "outputs": [
        {
          "output_type": "execute_result",
          "data": {
            "text/plain": [
              "[({'last_word': 'z', 'penultimate_word': 'u'}, 'Femenino'),\n",
              " ({'last_word': 'n', 'penultimate_word': 'a'}, 'Masculino'),\n",
              " ({'last_word': 'a', 'penultimate_word': 'c'}, 'Femenino'),\n",
              " ({'last_word': 'l', 'penultimate_word': 'e'}, 'Masculino'),\n",
              " ({'last_word': 's', 'penultimate_word': 'o'}, 'Femenino'),\n",
              " ({'last_word': 'o', 'penultimate_word': 'i'}, 'Masculino'),\n",
              " ({'last_word': 'a', 'penultimate_word': 'l'}, 'Femenino'),\n",
              " ({'last_word': 'o', 'penultimate_word': 'f'}, 'Masculino'),\n",
              " ({'last_word': 'e', 'penultimate_word': 'a'}, 'Masculino'),\n",
              " ({'last_word': 'l', 'penultimate_word': 'e'}, 'Femenino')]"
            ]
          },
          "metadata": {
            "tags": []
          },
          "execution_count": 62
        }
      ]
    },
    {
      "cell_type": "code",
      "metadata": {
        "id": "gSQLWUtuGmzr",
        "outputId": "a087578e-bf81-4e86-bd54-87dab75a62c8",
        "colab": {
          "base_uri": "https://localhost:8080/",
          "height": 34
        }
      },
      "source": [
        "len(tagset)"
      ],
      "execution_count": null,
      "outputs": [
        {
          "output_type": "execute_result",
          "data": {
            "text/plain": [
              "49339"
            ]
          },
          "metadata": {
            "tags": []
          },
          "execution_count": 63
        }
      ]
    },
    {
      "cell_type": "code",
      "metadata": {
        "id": "4Aqs_wtQGcTr",
        "outputId": "37acdcda-abb8-4140-9e85-600fe83b1a16",
        "colab": {
          "base_uri": "https://localhost:8080/",
          "height": 34
        }
      },
      "source": [
        "# otra forma para aleatorizar y repartir la data\n",
        "train, test = train_test_split(tagset, train_size = 0.90) # 90% for data train.\n",
        "len(train), len(test)"
      ],
      "execution_count": null,
      "outputs": [
        {
          "output_type": "execute_result",
          "data": {
            "text/plain": [
              "(44405, 4934)"
            ]
          },
          "metadata": {
            "tags": []
          },
          "execution_count": 64
        }
      ]
    },
    {
      "cell_type": "markdown",
      "metadata": {
        "id": "KuY1Ux30F9uZ"
      },
      "source": [
        "2. **Entrenamiento y performance del modelo**: usando el classificador de Naive Bayes de NLTK entrena un modelo sencillo usando el mismo feature de la última letra del nombre, prueba algunas predicciones y calcula el performance del modelo. "
      ]
    },
    {
      "cell_type": "code",
      "metadata": {
        "id": "CvHwHTS8GT9I",
        "outputId": "3b12a413-6fa1-4f59-e045-59d3f2bef307",
        "colab": {
          "base_uri": "https://localhost:8080/",
          "height": 204
        }
      },
      "source": [
        "model = nltk.NaiveBayesClassifier.train(train)\n",
        "model.show_most_informative_features()"
      ],
      "execution_count": null,
      "outputs": [
        {
          "output_type": "stream",
          "text": [
            "Most Informative Features\n",
            "               last_word = 'v'            Mascul : Femeni =     27.9 : 1.0\n",
            "               last_word = 'a'            Femeni : Mascul =     20.0 : 1.0\n",
            "        penultimate_word = 'ñ'            Femeni : Mascul =     19.4 : 1.0\n",
            "               last_word = 'c'            Mascul : Femeni =     18.6 : 1.0\n",
            "               last_word = 'k'            Mascul : Femeni =     10.4 : 1.0\n",
            "               last_word = 'o'            Mascul : Femeni =      8.1 : 1.0\n",
            "               last_word = 'f'            Mascul : Femeni =      7.7 : 1.0\n",
            "               last_word = 'x'            Mascul : Femeni =      6.6 : 1.0\n",
            "        penultimate_word = 'g'            Mascul : Femeni =      6.2 : 1.0\n",
            "               last_word = 'p'            Mascul : Femeni =      5.9 : 1.0\n"
          ],
          "name": "stdout"
        }
      ]
    },
    {
      "cell_type": "code",
      "metadata": {
        "id": "8owO8cCiOKOR",
        "outputId": "d3aae2a8-6d4a-4249-86b9-38be44bb103b",
        "colab": {
          "base_uri": "https://localhost:8080/",
          "height": 85
        }
      },
      "source": [
        "print(model.classify(atributos('alex')))\n",
        "print(model.classify(atributos('maria jose'))) # femenino\n",
        "print(model.classify(atributos('jose maria'))) # masculino\n",
        "print(nltk.classify.accuracy(model, test))"
      ],
      "execution_count": null,
      "outputs": [
        {
          "output_type": "stream",
          "text": [
            "Masculino\n",
            "Femenino\n",
            "Femenino\n",
            "0.7894203486015403\n"
          ],
          "name": "stdout"
        }
      ]
    },
    {
      "cell_type": "markdown",
      "metadata": {
        "id": "f4a2jv85GXA_"
      },
      "source": [
        "3. **Mejores atributos:** Define una función como `atributos2()` donde puedas extraer mejores atributos con los cuales entrenar una mejor version del clasificador. Haz un segundo entrenamiento y verifica como mejora el performance de tu modelo. ¿Se te ocurren mejores maneras de definir atributos para esta tarea particular?"
      ]
    },
    {
      "cell_type": "code",
      "metadata": {
        "id": "9G-E5_CXIQiO",
        "outputId": "160c6b9d-d63a-4c75-a91f-5f5608f7f0ff",
        "colab": {
          "base_uri": "https://localhost:8080/",
          "height": 493
        }
      },
      "source": [
        "def atributos2(name):\n",
        "  attribute = {}\n",
        "  name = name.lower()\n",
        "  attribute['last_word'] = name[-1]\n",
        "  attribute['4_last_words'] = name[-4:] # name[-1:-5:-1] =  name[-4:]\n",
        "  #attribute['penultimate_word'] = name[-2]\n",
        "  for w in string.ascii_lowercase:\n",
        "    attribute[f'has({w})'] = w in name\n",
        "  return attribute\n",
        "\n",
        "atributos2('paolo')"
      ],
      "execution_count": null,
      "outputs": [
        {
          "output_type": "execute_result",
          "data": {
            "text/plain": [
              "{'4_last_words': 'aolo',\n",
              " 'has(a)': True,\n",
              " 'has(b)': False,\n",
              " 'has(c)': False,\n",
              " 'has(d)': False,\n",
              " 'has(e)': False,\n",
              " 'has(f)': False,\n",
              " 'has(g)': False,\n",
              " 'has(h)': False,\n",
              " 'has(i)': False,\n",
              " 'has(j)': False,\n",
              " 'has(k)': False,\n",
              " 'has(l)': True,\n",
              " 'has(m)': False,\n",
              " 'has(n)': False,\n",
              " 'has(o)': True,\n",
              " 'has(p)': True,\n",
              " 'has(q)': False,\n",
              " 'has(r)': False,\n",
              " 'has(s)': False,\n",
              " 'has(t)': False,\n",
              " 'has(u)': False,\n",
              " 'has(v)': False,\n",
              " 'has(w)': False,\n",
              " 'has(x)': False,\n",
              " 'has(y)': False,\n",
              " 'has(z)': False,\n",
              " 'last_word': 'o'}"
            ]
          },
          "metadata": {
            "tags": []
          },
          "execution_count": 77
        }
      ]
    },
    {
      "cell_type": "code",
      "metadata": {
        "id": "HPSK31JiRp-F"
      },
      "source": [
        "tagset = np.array([(atributos2(n), g) for (n,g) in tagset])\n",
        "#train, test = train_test_split(tagset, train_size=0.9, random_state=42)"
      ],
      "execution_count": null,
      "outputs": []
    },
    {
      "cell_type": "code",
      "metadata": {
        "id": "Ahl3AZ5mLnH7",
        "outputId": "0c7d193b-343e-4166-a059-55d45ab8e349",
        "colab": {
          "base_uri": "https://localhost:8080/",
          "height": 173
        }
      },
      "source": [
        "l = [1,2,3,4]\n",
        "tagset[l]"
      ],
      "execution_count": null,
      "outputs": [
        {
          "output_type": "execute_result",
          "data": {
            "text/plain": [
              "array([[{'last_word': 'a', '4_last_words': 'mona', 'has(a)': True, 'has(b)': False, 'has(c)': False, 'has(d)': False, 'has(e)': True, 'has(f)': False, 'has(g)': False, 'has(h)': False, 'has(i)': False, 'has(j)': False, 'has(k)': False, 'has(l)': False, 'has(m)': True, 'has(n)': True, 'has(o)': True, 'has(p)': False, 'has(q)': False, 'has(r)': True, 'has(s)': True, 'has(t)': True, 'has(u)': False, 'has(v)': False, 'has(w)': False, 'has(x)': False, 'has(y)': False, 'has(z)': False},\n",
              "        'Femenino'],\n",
              "       [{'last_word': 'n', '4_last_words': 'rmen', 'has(a)': True, 'has(b)': False, 'has(c)': True, 'has(d)': False, 'has(e)': True, 'has(f)': False, 'has(g)': False, 'has(h)': False, 'has(i)': True, 'has(j)': False, 'has(k)': False, 'has(l)': True, 'has(m)': True, 'has(n)': True, 'has(o)': True, 'has(p)': False, 'has(q)': False, 'has(r)': True, 'has(s)': False, 'has(t)': True, 'has(u)': False, 'has(v)': False, 'has(w)': False, 'has(x)': False, 'has(y)': False, 'has(z)': False},\n",
              "        'Femenino'],\n",
              "       [{'last_word': 'e', '4_last_words': 'jose', 'has(a)': True, 'has(b)': True, 'has(c)': False, 'has(d)': False, 'has(e)': True, 'has(f)': False, 'has(g)': False, 'has(h)': False, 'has(i)': True, 'has(j)': True, 'has(k)': False, 'has(l)': False, 'has(m)': False, 'has(n)': False, 'has(o)': True, 'has(p)': False, 'has(q)': False, 'has(r)': False, 'has(s)': True, 'has(t)': True, 'has(u)': True, 'has(v)': False, 'has(w)': False, 'has(x)': False, 'has(y)': False, 'has(z)': False},\n",
              "        'Masculino'],\n",
              "       [{'last_word': 'a', '4_last_words': 'rena', 'has(a)': True, 'has(b)': False, 'has(c)': False, 'has(d)': False, 'has(e)': True, 'has(f)': False, 'has(g)': False, 'has(h)': False, 'has(i)': False, 'has(j)': False, 'has(k)': False, 'has(l)': False, 'has(m)': False, 'has(n)': True, 'has(o)': False, 'has(p)': False, 'has(q)': False, 'has(r)': True, 'has(s)': False, 'has(t)': False, 'has(u)': False, 'has(v)': False, 'has(w)': False, 'has(x)': False, 'has(y)': False, 'has(z)': True},\n",
              "        'Femenino']], dtype=object)"
            ]
          },
          "metadata": {
            "tags": []
          },
          "execution_count": 79
        }
      ]
    },
    {
      "cell_type": "code",
      "metadata": {
        "id": "rfJ-KqhoIRzf",
        "outputId": "277993e1-4672-4ba0-ea78-0fb6de200d33",
        "colab": {
          "base_uri": "https://localhost:8080/",
          "height": 102
        }
      },
      "source": [
        "list_acc = []\n",
        "acc = 0\n",
        "kf = ShuffleSplit(n_splits=5, train_size=0.9, random_state=0) # use of KFolds\n",
        "for train, test in kf.split(tagset):\n",
        "  model2 = nltk.NaiveBayesClassifier.train(tagset[train])\n",
        "  aux_acc = nltk.classify.accuracy(model2, tagset[test])\n",
        "  if aux_acc > acc:\n",
        "    acc = aux_acc\n",
        "    np.save('train.npy', tagset[train])\n",
        "    np.save('test.npy', tagset[test])\n",
        "  list_acc.append(aux_acc)\n",
        "\n",
        "list_acc"
      ],
      "execution_count": null,
      "outputs": [
        {
          "output_type": "execute_result",
          "data": {
            "text/plain": [
              "[0.9063640048642075,\n",
              " 0.906769355492501,\n",
              " 0.8982569922983381,\n",
              " 0.9110255370895824,\n",
              " 0.9079854073773814]"
            ]
          },
          "metadata": {
            "tags": []
          },
          "execution_count": 82
        }
      ]
    },
    {
      "cell_type": "code",
      "metadata": {
        "id": "Fl3tINUjMgHK",
        "outputId": "37fe9ebe-9453-4fb0-b408-740cb34ec0fa",
        "colab": {
          "base_uri": "https://localhost:8080/",
          "height": 105
        }
      },
      "source": [
        "train = np.load('train.npy', allow_pickle='TRUE')\n",
        "test = np.load('test.npy', allow_pickle='TRUE')\n",
        "train[0], test[0]"
      ],
      "execution_count": null,
      "outputs": [
        {
          "output_type": "execute_result",
          "data": {
            "text/plain": [
              "(array([{'last_word': 'n', '4_last_words': 'rmen', 'has(a)': True, 'has(b)': False, 'has(c)': True, 'has(d)': False, 'has(e)': True, 'has(f)': False, 'has(g)': False, 'has(h)': False, 'has(i)': False, 'has(j)': False, 'has(k)': False, 'has(l)': False, 'has(m)': True, 'has(n)': True, 'has(o)': False, 'has(p)': False, 'has(q)': False, 'has(r)': True, 'has(s)': False, 'has(t)': False, 'has(u)': True, 'has(v)': False, 'has(w)': False, 'has(x)': False, 'has(y)': True, 'has(z)': False},\n",
              "        'Femenino'], dtype=object),\n",
              " array([{'last_word': 'o', '4_last_words': 'tano', 'has(a)': True, 'has(b)': False, 'has(c)': True, 'has(d)': False, 'has(e)': True, 'has(f)': False, 'has(g)': False, 'has(h)': False, 'has(i)': False, 'has(j)': True, 'has(k)': False, 'has(l)': False, 'has(m)': False, 'has(n)': True, 'has(o)': True, 'has(p)': False, 'has(q)': False, 'has(r)': False, 'has(s)': True, 'has(t)': True, 'has(u)': False, 'has(v)': False, 'has(w)': False, 'has(x)': False, 'has(y)': True, 'has(z)': False},\n",
              "        'Masculino'], dtype=object))"
            ]
          },
          "metadata": {
            "tags": []
          },
          "execution_count": 83
        }
      ]
    },
    {
      "cell_type": "code",
      "metadata": {
        "id": "_CgC4GPzOg0q",
        "outputId": "26063035-8b20-455e-b3cf-a65675350e22",
        "colab": {
          "base_uri": "https://localhost:8080/",
          "height": 34
        }
      },
      "source": [
        "len(train), len(test)"
      ],
      "execution_count": null,
      "outputs": [
        {
          "output_type": "execute_result",
          "data": {
            "text/plain": [
              "(44405, 4934)"
            ]
          },
          "metadata": {
            "tags": []
          },
          "execution_count": 84
        }
      ]
    },
    {
      "cell_type": "code",
      "metadata": {
        "id": "bo7wx8pJQXje",
        "outputId": "4b8739e4-8c4d-4c1e-e378-79b6f4b23a13",
        "colab": {
          "base_uri": "https://localhost:8080/",
          "height": 204
        }
      },
      "source": [
        "model2 = nltk.NaiveBayesClassifier.train(train)\n",
        "model2.show_most_informative_features()"
      ],
      "execution_count": null,
      "outputs": [
        {
          "output_type": "stream",
          "text": [
            "Most Informative Features\n",
            "            4_last_words = 'ndra'         Femeni : Mascul =    222.2 : 1.0\n",
            "            4_last_words = 'vier'         Mascul : Femeni =    200.4 : 1.0\n",
            "            4_last_words = 'tian'         Mascul : Femeni =    137.3 : 1.0\n",
            "            4_last_words = 'erto'         Mascul : Femeni =    131.1 : 1.0\n",
            "            4_last_words = 'oria'         Femeni : Mascul =    129.5 : 1.0\n",
            "            4_last_words = 'ilia'         Femeni : Mascul =    123.5 : 1.0\n",
            "            4_last_words = 'guel'         Mascul : Femeni =    120.5 : 1.0\n",
            "            4_last_words = 'elia'         Femeni : Mascul =    108.9 : 1.0\n",
            "            4_last_words = 'anda'         Femeni : Mascul =    102.3 : 1.0\n",
            "            4_last_words = 'rosa'         Femeni : Mascul =     92.4 : 1.0\n"
          ],
          "name": "stdout"
        }
      ]
    },
    {
      "cell_type": "code",
      "metadata": {
        "id": "eaitIBTwQ9iw",
        "outputId": "0c2284ce-2039-42dd-a9e4-5feefa8d8562",
        "colab": {
          "base_uri": "https://localhost:8080/",
          "height": 85
        }
      },
      "source": [
        "print(model2.classify(atributos2('alexander')))\n",
        "print(model2.classify(atributos2('maria jose'))) # femenino\n",
        "print(model2.classify(atributos2('jose maria'))) # masculino\n",
        "print(nltk.classify.accuracy(model2, test))"
      ],
      "execution_count": null,
      "outputs": [
        {
          "output_type": "stream",
          "text": [
            "Masculino\n",
            "Masculino\n",
            "Femenino\n",
            "0.9110255370895824\n"
          ],
          "name": "stdout"
        }
      ]
    },
    {
      "cell_type": "markdown",
      "metadata": {
        "id": "-mWVtxPXXxrZ"
      },
      "source": [
        "<h1>NOTA</h1>\n",
        "\n",
        "Vi un Colab que representa este ejemplo de una forma muy interesante, Con data augmentation, varios metodos de extracion de atributos, explicaciones, etc. [Github del colab ](https://github.com/lesanpi/clasificacion-de-genero-por-nombres/blob/master/Reto_Clasificacion_Nombres_lesanpi.ipynb)"
      ]
    },
    {
      "cell_type": "markdown",
      "metadata": {
        "id": "IqeR3SaF1vZj"
      },
      "source": [
        "## Clasificación de documentos (email spam o no spam)"
      ]
    },
    {
      "cell_type": "code",
      "metadata": {
        "id": "bvN3fVJ5Gzb4"
      },
      "source": [
        "!git clone https://github.com/pachocamacho1990/datasets"
      ],
      "execution_count": null,
      "outputs": []
    },
    {
      "cell_type": "code",
      "metadata": {
        "id": "cNFSYB5CG0Z9"
      },
      "source": [
        "import pandas as pd\n",
        "import numpy as np\n",
        "import nltk\n",
        "nltk.download('punkt')\n",
        "nltk.download('averaged_perceptron_tagger')\n",
        "from nltk import word_tokenize\n",
        "import random"
      ],
      "execution_count": null,
      "outputs": []
    },
    {
      "cell_type": "code",
      "metadata": {
        "id": "h6Qwf80fHSCx",
        "outputId": "fb20b81d-4913-4ec8-a0dc-56c3b3e68ffc",
        "colab": {
          "base_uri": "https://localhost:8080/",
          "height": 204
        }
      },
      "source": [
        "df = pd.read_csv('datasets/email/csv/spam-apache.csv', names = ['clase','contenido'])\n",
        "df['tokens'] = df['contenido'].apply(lambda x: word_tokenize(x))\n",
        "df.head()"
      ],
      "execution_count": null,
      "outputs": [
        {
          "output_type": "execute_result",
          "data": {
            "text/html": [
              "<div>\n",
              "<style scoped>\n",
              "    .dataframe tbody tr th:only-of-type {\n",
              "        vertical-align: middle;\n",
              "    }\n",
              "\n",
              "    .dataframe tbody tr th {\n",
              "        vertical-align: top;\n",
              "    }\n",
              "\n",
              "    .dataframe thead th {\n",
              "        text-align: right;\n",
              "    }\n",
              "</style>\n",
              "<table border=\"1\" class=\"dataframe\">\n",
              "  <thead>\n",
              "    <tr style=\"text-align: right;\">\n",
              "      <th></th>\n",
              "      <th>clase</th>\n",
              "      <th>contenido</th>\n",
              "      <th>tokens</th>\n",
              "    </tr>\n",
              "  </thead>\n",
              "  <tbody>\n",
              "    <tr>\n",
              "      <th>0</th>\n",
              "      <td>-1</td>\n",
              "      <td>&lt;!DOCTYPE HTML PUBLIC \"-//W3C//DTD HTML 4.0 Tr...</td>\n",
              "      <td>[&lt;, !, DOCTYPE, HTML, PUBLIC, ``, -//W3C//DTD,...</td>\n",
              "    </tr>\n",
              "    <tr>\n",
              "      <th>1</th>\n",
              "      <td>1</td>\n",
              "      <td>&gt; Russell Turpin:\\n&gt; &gt; That depends on how the...</td>\n",
              "      <td>[&gt;, Russell, Turpin, :, &gt;, &gt;, That, depends, o...</td>\n",
              "    </tr>\n",
              "    <tr>\n",
              "      <th>2</th>\n",
              "      <td>-1</td>\n",
              "      <td>Help wanted.  We are a 14 year old fortune 500...</td>\n",
              "      <td>[Help, wanted, ., We, are, a, 14, year, old, f...</td>\n",
              "    </tr>\n",
              "    <tr>\n",
              "      <th>3</th>\n",
              "      <td>-1</td>\n",
              "      <td>Request A Free No Obligation Consultation!\\nAc...</td>\n",
              "      <td>[Request, A, Free, No, Obligation, Consultatio...</td>\n",
              "    </tr>\n",
              "    <tr>\n",
              "      <th>4</th>\n",
              "      <td>1</td>\n",
              "      <td>Is there a way to look for a particular file o...</td>\n",
              "      <td>[Is, there, a, way, to, look, for, a, particul...</td>\n",
              "    </tr>\n",
              "  </tbody>\n",
              "</table>\n",
              "</div>"
            ],
            "text/plain": [
              "   clase  ...                                             tokens\n",
              "0     -1  ...  [<, !, DOCTYPE, HTML, PUBLIC, ``, -//W3C//DTD,...\n",
              "1      1  ...  [>, Russell, Turpin, :, >, >, That, depends, o...\n",
              "2     -1  ...  [Help, wanted, ., We, are, a, 14, year, old, f...\n",
              "3     -1  ...  [Request, A, Free, No, Obligation, Consultatio...\n",
              "4      1  ...  [Is, there, a, way, to, look, for, a, particul...\n",
              "\n",
              "[5 rows x 3 columns]"
            ]
          },
          "metadata": {
            "tags": []
          },
          "execution_count": 111
        }
      ]
    },
    {
      "cell_type": "code",
      "metadata": {
        "id": "CY7pmguIKm_P",
        "outputId": "b00acedb-6514-4692-852a-1ac4121beb58",
        "colab": {
          "base_uri": "https://localhost:8080/",
          "height": 34
        }
      },
      "source": [
        "df.shape"
      ],
      "execution_count": null,
      "outputs": [
        {
          "output_type": "execute_result",
          "data": {
            "text/plain": [
              "(250, 3)"
            ]
          },
          "metadata": {
            "tags": []
          },
          "execution_count": 112
        }
      ]
    },
    {
      "cell_type": "code",
      "metadata": {
        "id": "9ZLJWGg8Hmid",
        "outputId": "9cbd8bf4-18a6-4af3-8f3c-1613c61cef1c",
        "colab": {
          "base_uri": "https://localhost:8080/",
          "height": 34
        }
      },
      "source": [
        "df.clase.unique()  # [spam, no_spam]"
      ],
      "execution_count": null,
      "outputs": [
        {
          "output_type": "execute_result",
          "data": {
            "text/plain": [
              "array([-1,  1])"
            ]
          },
          "metadata": {
            "tags": []
          },
          "execution_count": 113
        }
      ]
    },
    {
      "cell_type": "code",
      "metadata": {
        "id": "VbcHwJolIpOj"
      },
      "source": [
        "df['tokens'].values[0]"
      ],
      "execution_count": null,
      "outputs": []
    },
    {
      "cell_type": "code",
      "metadata": {
        "id": "PZw7Ghe1Iobk"
      },
      "source": [
        "all_words = nltk.FreqDist([w for tokenlist in df['tokens'].values for w in tokenlist])\n",
        "top_words = all_words.most_common(200)\n",
        "\n",
        "def document_features(document, top_words = top_words):\n",
        "    document_words = set(document)\n",
        "    features = {}\n",
        "    for word in top_words:\n",
        "        features['contains({})'.format(word)] = (word[0] in document_words)\n",
        "    return features\n",
        "# top_words"
      ],
      "execution_count": null,
      "outputs": []
    },
    {
      "cell_type": "code",
      "metadata": {
        "id": "p36zbG2qKFxW"
      },
      "source": [
        "document_features(df['tokens'].values[0])"
      ],
      "execution_count": null,
      "outputs": []
    },
    {
      "cell_type": "code",
      "metadata": {
        "id": "1Ls7Q72MK_fG"
      },
      "source": [
        "# for i in zip(df['tokens'].values, df['clase'].values):\n",
        "#   print(i)  # (tokens, clase)"
      ],
      "execution_count": null,
      "outputs": []
    },
    {
      "cell_type": "code",
      "metadata": {
        "id": "VXXPqaa8KTLr"
      },
      "source": [
        "fset = [(document_features(texto), clase) for texto, clase in zip(df['tokens'].values, df['clase'].values)]\n",
        "random.shuffle(fset)\n",
        "train, test = fset[:200], fset[200:]"
      ],
      "execution_count": null,
      "outputs": []
    },
    {
      "cell_type": "code",
      "metadata": {
        "id": "fQiVHUlxMEol"
      },
      "source": [
        "classifier = nltk.NaiveBayesClassifier.train(train)"
      ],
      "execution_count": null,
      "outputs": []
    },
    {
      "cell_type": "code",
      "metadata": {
        "id": "jIh9_tI8MHKb",
        "outputId": "c22a3ecb-79fc-4d44-f7f8-bbf80830aaf3",
        "colab": {
          "base_uri": "https://localhost:8080/",
          "height": 34
        }
      },
      "source": [
        "print(nltk.classify.accuracy(classifier, test))"
      ],
      "execution_count": null,
      "outputs": [
        {
          "output_type": "stream",
          "text": [
            "0.92\n"
          ],
          "name": "stdout"
        }
      ]
    },
    {
      "cell_type": "code",
      "metadata": {
        "id": "0fhzEcGsMR52",
        "outputId": "677c9cca-2485-4c9d-ee14-81034b9fb9e4",
        "colab": {
          "base_uri": "https://localhost:8080/",
          "height": 119
        }
      },
      "source": [
        "classifier.show_most_informative_features(5)"
      ],
      "execution_count": null,
      "outputs": [
        {
          "output_type": "stream",
          "text": [
            "Most Informative Features\n",
            "contains(('Please', 47)) = True               -1 : 1      =     12.9 : 1.0\n",
            "     contains((']', 81)) = True                1 : -1     =     11.2 : 1.0\n",
            "     contains(('[', 71)) = True                1 : -1     =     11.2 : 1.0\n",
            "contains(('please', 53)) = True               -1 : 1      =     11.2 : 1.0\n",
            "  contains(('YOUR', 63)) = True               -1 : 1      =     10.9 : 1.0\n"
          ],
          "name": "stdout"
        }
      ]
    },
    {
      "cell_type": "code",
      "metadata": {
        "id": "aVmkyy-iMRXi"
      },
      "source": [
        "df[df['clase']==-1]['contenido']"
      ],
      "execution_count": null,
      "outputs": []
    },
    {
      "cell_type": "markdown",
      "metadata": {
        "id": "YeBvifrnr3GY"
      },
      "source": [
        "### Ejercicio de práctica\n"
      ]
    },
    {
      "cell_type": "markdown",
      "metadata": {
        "id": "AR53vedlvd1O"
      },
      "source": [
        "¿Como podrías construir un mejor clasificador de documentos?\n",
        "\n",
        "0. **Dataset más grande:** El conjunto de datos que usamos fue muy pequeño, considera usar los archivos corpus que estan ubicados en la ruta: `datasets/email/plaintext/` \n",
        "\n",
        "1. **Limpieza:** como te diste cuenta no hicimos ningun tipo de limpieza de texto en los correos electrónicos. Considera usar expresiones regulares, filtros por categorias gramaticales, etc ... . \n",
        "\n",
        "---\n",
        "\n",
        "Con base en eso construye un dataset más grande y con un tokenizado más pulido. "
      ]
    },
    {
      "cell_type": "code",
      "metadata": {
        "id": "Q_H5kgEaho8K"
      },
      "source": [
        "import zipfile\n",
        "import os\n",
        "import random\n",
        "import numpy as np\n",
        "import pandas as pd\n",
        "import nltk\n",
        "nltk.download('punkt')\n",
        "from nltk import word_tokenize\n",
        "from sklearn.model_selection import train_test_split\n",
        "from nltk.corpus import stopwords\n",
        "nltk.download('stopwords')\n",
        "from nltk.util import ngrams\n",
        "from sklearn.model_selection import ShuffleSplit"
      ],
      "execution_count": null,
      "outputs": []
    },
    {
      "cell_type": "code",
      "metadata": {
        "id": "v2ZO0aJyrTLx"
      },
      "source": [
        "# escribe tu código aquí:\n",
        "unzip = zipfile.ZipFile('/content/datasets/email/plaintext/corpus1.zip') # https://docs.python.org/3/library/zipfile.html\n",
        "# unzip.namelist()\n",
        "unzip.extractall('/content/') # extrahemos todos los miembros desde corpus1.zip\n",
        "unzip.close()"
      ],
      "execution_count": null,
      "outputs": []
    },
    {
      "cell_type": "code",
      "metadata": {
        "id": "kx46pLbKYwtZ"
      },
      "source": [
        "# filter o un filtro de las cosas que queramos\n",
        "pattern = r'''(?x)                  # Flag para iniciar el modo verbose\n",
        "              (?:[A-Z]\\.)+            # Hace match con abreviaciones como U.S.A. # ? [0,1] desde 0 hasta el final\n",
        "              | \\w+(?:-\\w+)*         # Hace match con palabras que pueden tener un guión interno\n",
        "              | \\$?\\d+(?:\\.\\d+)?%?  # Hace match con dinero o porcentajes como $15.5 o 100%\n",
        "              | \\.\\.\\.              # Hace match con puntos suspensivos\n",
        "              | [][.,;\"'?():-_`]    # Hace match con signos de puntuación\n",
        "'''"
      ],
      "execution_count": null,
      "outputs": []
    },
    {
      "cell_type": "code",
      "metadata": {
        "id": "EcqdsXH5kv6s"
      },
      "source": [
        "path = '/content/corpus1/'\n",
        "def get_data(path, goal, pattern = pattern):\n",
        "  dir = path + goal + '/'\n",
        "  all_path =[dir+p for p in os.listdir(path+goal) if p.endswith('.txt')]\n",
        "  data = []\n",
        "  for f in all_path:\n",
        "    with open(f,'r',errors='ignore') as f2:\n",
        "      d = list(nltk.regexp_tokenize(f2.read(), pattern))\n",
        "      d = d[3:]\n",
        "      data += [(d, goal)]\n",
        "  return data"
      ],
      "execution_count": null,
      "outputs": []
    },
    {
      "cell_type": "code",
      "metadata": {
        "id": "hoAGCTTvrzS6"
      },
      "source": [
        "ham = get_data(path,'ham')\n",
        "# ham"
      ],
      "execution_count": null,
      "outputs": []
    },
    {
      "cell_type": "code",
      "metadata": {
        "id": "Nh2WWtTHtcqi"
      },
      "source": [
        "spam = get_data(path, 'spam')\n",
        "# spam"
      ],
      "execution_count": null,
      "outputs": []
    },
    {
      "cell_type": "code",
      "metadata": {
        "id": "Vv6TKrLTupP2",
        "outputId": "6b105b39-fa6a-440b-aaab-1187f96973f4",
        "colab": {
          "base_uri": "https://localhost:8080/",
          "height": 204
        }
      },
      "source": [
        "data = ham + spam\n",
        "random.shuffle(data)\n",
        "df = pd.DataFrame(data, columns = ['tokenize', 'class'])\n",
        "df.head()"
      ],
      "execution_count": null,
      "outputs": [
        {
          "output_type": "execute_result",
          "data": {
            "text/html": [
              "<div>\n",
              "<style scoped>\n",
              "    .dataframe tbody tr th:only-of-type {\n",
              "        vertical-align: middle;\n",
              "    }\n",
              "\n",
              "    .dataframe tbody tr th {\n",
              "        vertical-align: top;\n",
              "    }\n",
              "\n",
              "    .dataframe thead th {\n",
              "        text-align: right;\n",
              "    }\n",
              "</style>\n",
              "<table border=\"1\" class=\"dataframe\">\n",
              "  <thead>\n",
              "    <tr style=\"text-align: right;\">\n",
              "      <th></th>\n",
              "      <th>tokenize</th>\n",
              "      <th>class</th>\n",
              "    </tr>\n",
              "  </thead>\n",
              "  <tbody>\n",
              "    <tr>\n",
              "      <th>0</th>\n",
              "      <td>[trip, the, july, customer, trip, is, right, a...</td>\n",
              "      <td>ham</td>\n",
              "    </tr>\n",
              "    <tr>\n",
              "      <th>1</th>\n",
              "      <td>[2000, iferc, nom, ., attached, is, the, july,...</td>\n",
              "      <td>ham</td>\n",
              "    </tr>\n",
              "    <tr>\n",
              "      <th>2</th>\n",
              "      <td>[:, under, attack, if, you, don, ', t, have, p...</td>\n",
              "      <td>ham</td>\n",
              "    </tr>\n",
              "    <tr>\n",
              "      <th>3</th>\n",
              "      <td>[geeeeeneriic, viiiagraa, hi, lynne, ,, unreee...</td>\n",
              "      <td>spam</td>\n",
              "    </tr>\n",
              "    <tr>\n",
              "      <th>4</th>\n",
              "      <td>[day, change, revision, 1, enron, nom, for, fe...</td>\n",
              "      <td>ham</td>\n",
              "    </tr>\n",
              "  </tbody>\n",
              "</table>\n",
              "</div>"
            ],
            "text/plain": [
              "                                            tokenize class\n",
              "0  [trip, the, july, customer, trip, is, right, a...   ham\n",
              "1  [2000, iferc, nom, ., attached, is, the, july,...   ham\n",
              "2  [:, under, attack, if, you, don, ', t, have, p...   ham\n",
              "3  [geeeeeneriic, viiiagraa, hi, lynne, ,, unreee...  spam\n",
              "4  [day, change, revision, 1, enron, nom, for, fe...   ham"
            ]
          },
          "metadata": {
            "tags": []
          },
          "execution_count": 128
        }
      ]
    },
    {
      "cell_type": "code",
      "metadata": {
        "id": "x8nwD4jDvOiJ",
        "outputId": "8ef40d4b-5085-4a23-c829-067a15cb847b",
        "colab": {
          "base_uri": "https://localhost:8080/",
          "height": 34
        }
      },
      "source": [
        "df.shape"
      ],
      "execution_count": null,
      "outputs": [
        {
          "output_type": "execute_result",
          "data": {
            "text/plain": [
              "(5172, 2)"
            ]
          },
          "metadata": {
            "tags": []
          },
          "execution_count": 129
        }
      ]
    },
    {
      "cell_type": "code",
      "metadata": {
        "id": "kJW_0BdZwGLV"
      },
      "source": [
        "all_words = nltk.FreqDist([w for tokenlist in df['tokenize'].values for w in tokenlist])\n",
        "top_words = all_words.most_common(200)\n",
        "\n",
        "def document_features(document, top_words = top_words):\n",
        "    document_words = set(document)\n",
        "    features = {}\n",
        "    for word in top_words:\n",
        "        features['contains({})'.format(word)] = (word[0] in document_words)\n",
        "    return features\n",
        "\n",
        "# top_words"
      ],
      "execution_count": null,
      "outputs": []
    },
    {
      "cell_type": "code",
      "metadata": {
        "id": "jA0xHnXOxQ9U"
      },
      "source": [
        "# for i,j in df.values:\n",
        "#   print(i,j)"
      ],
      "execution_count": null,
      "outputs": []
    },
    {
      "cell_type": "code",
      "metadata": {
        "id": "4Cr0VaKvwwPd",
        "outputId": "e046bbae-cf8c-444b-ee68-ee0a94042d27",
        "colab": {
          "base_uri": "https://localhost:8080/",
          "height": 34
        }
      },
      "source": [
        "fset = [(document_features(texto), clase) for texto, clase in df.values]\n",
        "random.shuffle(fset)\n",
        "train, test = train_test_split(fset, train_size = 0.80, random_state = 42)\n",
        "len(train), len(test)"
      ],
      "execution_count": null,
      "outputs": [
        {
          "output_type": "execute_result",
          "data": {
            "text/plain": [
              "(4137, 1035)"
            ]
          },
          "metadata": {
            "tags": []
          },
          "execution_count": 131
        }
      ]
    },
    {
      "cell_type": "markdown",
      "metadata": {
        "id": "9V_KmDBHwiy8"
      },
      "source": [
        "2. **Validación del modelo anterior:**  \n",
        "---\n",
        "\n",
        "una vez tengas el nuevo conjunto de datos más pulido y de mayor tamaño, considera el mismo entrenamiento con el mismo tipo de atributos del ejemplo anterior, ¿mejora el accuracy del modelo resultante?"
      ]
    },
    {
      "cell_type": "code",
      "metadata": {
        "id": "AM6Vhy-Fw8oj"
      },
      "source": [
        "classifier = nltk.NaiveBayesClassifier.train(train)"
      ],
      "execution_count": null,
      "outputs": []
    },
    {
      "cell_type": "code",
      "metadata": {
        "id": "wazzPIrkyYDI",
        "outputId": "bae81e3d-a585-4e86-c5a4-a56e65554de6",
        "colab": {
          "base_uri": "https://localhost:8080/",
          "height": 34
        }
      },
      "source": [
        "print(nltk.classify.accuracy(classifier, test))"
      ],
      "execution_count": null,
      "outputs": [
        {
          "output_type": "stream",
          "text": [
            "0.8801932367149758\n"
          ],
          "name": "stdout"
        }
      ]
    },
    {
      "cell_type": "markdown",
      "metadata": {
        "id": "2lC72_CbxAoJ"
      },
      "source": [
        "3. **Construye mejores atributos**: A veces no solo se trata de las palabras más frecuentes sino de el contexto, y capturar contexto no es posible solo viendo los tokens de forma individual, ¿que tal si consideramos bi-gramas, tri-gramas ...?, ¿las secuencias de palabras podrián funcionar como mejores atributos para el modelo?. Para ver si es así,  podemos extraer n-gramas de nuestro corpus y obtener sus frecuencias de aparición con `FreqDist()`, desarrolla tu propia manera de hacerlo y entrena un modelo con esos nuevos atributos, no olvides compartir tus resultados en la sección de comentarios. "
      ]
    },
    {
      "cell_type": "code",
      "metadata": {
        "id": "wtMkQWpfxoy3"
      },
      "source": [
        "list_values = df['tokenize'].values\n",
        "stopwd = stopwords.words(\"english\")\n",
        "\n",
        "general_data = [w for word in list_values for w in word if w.lower() not in stopwd]\n",
        "bi_g = list (nltk.bigrams(general_data))\n",
        "# tri_g = list (ngrams(general_data,3))\n",
        "\n",
        "words = nltk.FreqDist(general_data)\n",
        "top_words = [w for w,n in words.most_common(300)]\n",
        "\n",
        "bi_words = nltk.FreqDist(bi_g)\n",
        "top_bi_words = [w for w,n in bi_words.most_common(300)]\n",
        "\n",
        "# tri_words = nltk.FreqDist(tri_g)\n",
        "# top_tri_words = [w for w,n in tri_words.most_common(250)]\n",
        "\n",
        "# top_words"
      ],
      "execution_count": null,
      "outputs": []
    },
    {
      "cell_type": "code",
      "metadata": {
        "id": "wpCjJ2LIbhHN"
      },
      "source": [
        "def document_features2(document, top_words = top_words, bi = top_bi_words): #, tri = top_tri_words):\n",
        "    document_words = set(document)\n",
        "    document_bi = set (list (nltk.bigrams(document)))\n",
        "    # document_tri = set (list (ngrams(document, 3)))\n",
        "    features = {}\n",
        "    for word in top_words:\n",
        "        features['contains({})'.format(word)] = (word in document_words)\n",
        "    for word in bi:\n",
        "        features['contains({})'.format(word)] = (word in document_bi)\n",
        "    # for word in tri:\n",
        "    #     features['contains({})'.format(word)] = (word in document_tri)\n",
        "    return features"
      ],
      "execution_count": null,
      "outputs": []
    },
    {
      "cell_type": "code",
      "metadata": {
        "id": "XfNtNrUyRLMD"
      },
      "source": [
        "fset = np.array([(document_features2(texto), clase) for texto, clase in df.values])\n",
        "random.shuffle(fset)\n",
        "# train, test = train_test_split(fset, train_size = 0.80, random_state = 42)\n",
        "# len(train), len(test)"
      ],
      "execution_count": null,
      "outputs": []
    },
    {
      "cell_type": "code",
      "metadata": {
        "id": "cBWQK6XJgveP"
      },
      "source": [
        "list_acc = []\n",
        "acc = 0\n",
        "kf = ShuffleSplit(n_splits=5, train_size=0.9, random_state=0) # use of KFolds shuffle\n",
        "for train, test in kf.split(fset):\n",
        "  model2 = nltk.NaiveBayesClassifier.train(fset[train])\n",
        "  aux_acc = nltk.classify.accuracy(model2, fset[test])\n",
        "  if aux_acc > acc:\n",
        "    acc = aux_acc\n",
        "    np.save('train.npy', fset[train])\n",
        "    np.save('test.npy', fset[test])\n",
        "  list_acc.append(aux_acc)"
      ],
      "execution_count": null,
      "outputs": []
    },
    {
      "cell_type": "code",
      "metadata": {
        "id": "kW-R-v8shigB",
        "outputId": "0242d9ef-2134-42d5-bd56-42ca224edfb8",
        "colab": {
          "base_uri": "https://localhost:8080/",
          "height": 102
        }
      },
      "source": [
        "list_acc"
      ],
      "execution_count": null,
      "outputs": [
        {
          "output_type": "execute_result",
          "data": {
            "text/plain": [
              "[0.8996138996138996,\n",
              " 0.9208494208494209,\n",
              " 0.8667953667953668,\n",
              " 0.8861003861003861,\n",
              " 0.8996138996138996]"
            ]
          },
          "metadata": {
            "tags": []
          },
          "execution_count": 176
        }
      ]
    },
    {
      "cell_type": "code",
      "metadata": {
        "id": "YzQv6pfPgy_2",
        "outputId": "6de53e72-fcf6-4a94-a148-20e27f3a9a52",
        "colab": {
          "base_uri": "https://localhost:8080/",
          "height": 105
        }
      },
      "source": [
        "train = np.load('train.npy', allow_pickle='TRUE')\n",
        "test = np.load('test.npy', allow_pickle='TRUE')\n",
        "train[0], test[0]"
      ],
      "execution_count": null,
      "outputs": [
        {
          "output_type": "execute_result",
          "data": {
            "text/plain": [
              "(array([{'contains(.)': True, 'contains(,)': False, 'contains(:)': True, 'contains(ect)': False, 'contains(@)': False, \"contains(')\": False, 'contains(hou)': True, 'contains(?)': False, 'contains(enron)': False, 'contains())': False, 'contains(()': False, 'contains(>)': False, 'contains(=)': False, 'contains(;)': False, 'contains(2000)': False, 'contains(com)': False, 'contains(\")': False, 'contains(please)': False, 'contains(gas)': True, 'contains(_)': False, 'contains(3)': True, 'contains(subject)': False, 'contains(deal)': False, 'contains(1)': False, 'contains(00)': False, 'contains(cc)': False, 'contains(2)': False, 'contains(meter)': False, 'contains(pm)': False, 'contains(000)': False, 'contains(10)': False, 'contains(hpl)': False, 'contains(2001)': False, 'contains(e)': True, 'contains(daren)': False, 'contains(thanks)': False, 'contains(01)': False, 'contains(corp)': False, 'contains(know)': False, 'contains(0)': False, 'contains(4)': False, 'contains(5)': False, 'contains(need)': False, 'contains(11)': False, 'contains(new)': False, 'contains(may)': False, 'contains(mmbtu)': False, 'contains(12)': False, 'contains(j)': False, 'contains(forwarded)': False, 'contains(get)': False, 'contains(http)': False, 'contains(03)': False, 'contains(price)': False, 'contains(see)': False, 'contains(company)': False, 'contains(let)': False, 'contains(information)': False, 'contains(farmer)': False, 'contains(l)': True, 'contains(attached)': False, 'contains(7)': False, 'contains(would)': False, 'contains(99)': False, 'contains(02)': False, 'contains(6)': False, 'contains(xls)': False, 'contains(us)': False, 'contains(day)': False, 'contains(time)': False, 'contains(message)': False, 'contains(9)': False, 'contains(04)': False, 'contains(30)': False, 'contains(one)': False, 'contains(contract)': False, 'contains(20)': False, 'contains(th)': True, 'contains(volume)': False, 'contains(8)': False, 'contains(mail)': False, 'contains(robert)': False, 'contains(05)': False, 'contains(month)': False, 'contains(09)': False, 'contains(sitara)': False, 'contains(p)': False, 'contains(08)': False, 'contains(email)': False, 'contains(texas)': False, 'contains(deals)': False, 'contains(energy)': False, 'contains(nom)': False, 'contains(volumes)': False, 'contains(questions)': False, 'contains(15)': False, 'contains(sent)': False, 'contains(also)': False, 'contains(www)': False, 'contains(pec)': False, 'contains(change)': False, 'contains(ena)': False, 'contains(bob)': False, 'contains(production)': False, 'contains(x)': False, 'contains(call)': False, 'contains(flow)': False, 'contains(file)': False, 'contains(b)': False, 'contains(like)': False, 'contains(net)': False, 'contains(25)': False, 'contains(following)': False, 'contains(06)': False, 'contains(c)': False, 'contains(31)': False, 'contains(07)': False, 'contains(21)': False, 'contains(report)': False, 'contains(contact)': False, 'contains(back)': False, 'contains(want)': False, 'contains(daily)': False, 'contains(could)': False, 'contains(ticket)': False, 'contains(per)': False, 'contains(16)': False, 'contains(24)': True, 'contains(nomination)': False, 'contains(gary)': False, 'contains(make)': False, 'contains(713)': False, 'contains(original)': False, 'contains(mary)': False, 'contains(list)': False, 'contains(days)': False, 'contains(business)': False, 'contains(])': True, 'contains(march)': False, 'contains(number)': False, 'contains([)': True, 'contains(100)': True, 'contains(system)': False, 'contains(inc)': True, 'contains(font)': False, 'contains(14)': False, 'contains(july)': False, 'contains(today)': False, 'contains(r)': True, 'contains(sale)': False, 'contains(april)': False, 'contains(first)': False, 'contains(effective)': False, 'contains(forward)': False, 'contains(free)': False, 'contains(td)': False, 'contains(28)': False, 'contains(order)': False, 'contains(statements)': False, 'contains(plant)': False, 'contains(help)': False, 'contains(use)': False, 'contains(22)': False, 'contains(sales)': False, 'contains(well)': False, 'contains(go)': False, 'contains(23)': False, 'contains(melissa)': False, 'contains(take)': False, 'contains(18)': False, 'contains(set)': False, 'contains(houston)': False, 'contains(line)': False, 'contains(27)': False, 'contains(purchase)': False, 'contains(17)': False, 'contains(19)': False, 'contains(teco)': False, 'contains(oil)': False, 'contains(vance)': False, 'contains(13)': False, 'contains(26)': False, 'contains(w)': False, 'contains(click)': False, 'contains(50)': False, 'contains(within)': False, 'contains(agreement)': False, 'contains(service)': False, 'contains(29)': False, 'contains(next)': False, 'contains(nbsp)': False, 'contains(george)': False, 'contains(june)': False, 'contains(north)': False, 'contains(changes)': False, 'contains(january)': False, 'contains(america)': False, 'contains(name)': False, 'contains(week)': False, 'contains(ami)': False, 'contains(management)': False, 'contains(office)': False, 'contains(pat)': False, 'contains(thank)': False, 'contains(smith)': False, 'contains(julie)': False, 'contains(available)': False, 'contains(transport)': False, 'contains(two)': False, 'contains(less)': False, 'contains(last)': False, 'contains(f)': False, 'contains(based)': False, 'contains(send)': False, 'contains(group)': False, 'contains(services)': False, 'contains(k)': False, 'contains(work)': False, 'contains(jackie)': False, 'contains(stock)': False, 'contains(year)': False, 'contains(h)': False, 'contains(due)': False, 'contains(think)': False, 'contains(tenaska)': False, 'contains(needs)': False, 'contains(request)': False, 'contains(height)': False, 'contains(made)': False, 'contains(high)': False, 'contains(looking)': False, 'contains(date)': False, 'contains(aimee)': False, 'contains(40)': False, 'contains(best)': False, 'contains(money)': False, 'contains(lisa)': False, 'contains(delivery)': False, 'contains(product)': False, 'contains(desk)': False, 'contains(noms)': False, 'contains(tap)': False, 'contains(total)': False, 'contains(michael)': False, 'contains(u)': False, 'contains(products)': False, 'contains(online)': False, 'contains(n)': False, 'contains(60)': False, 'contains(fax)': False, 'contains(mark)': False, 'contains(phone)': False, 'contains(look)': False, 'contains(david)': False, 'contains(friday)': False, 'contains(co)': False, 'contains(future)': False, 'contains(susan)': False, 'contains(pipeline)': False, 'contains(october)': False, 'contains(hsc)': False, 'contains(actuals)': False, 'contains(point)': False, 'contains(address)': False, 'contains(market)': False, 'contains(august)': False, 'contains(cotten)': False, 'contains(size)': False, 'contains(taylor)': False, 'contains(iv)': False, 'contains(john)': False, 'contains(currently)': False, 'contains(account)': False, 'contains(process)': False, 'contains(find)': False, 'contains(prices)': False, 'contains(megan)': False, 'contains(pills)': False, 'contains(many)': False, 'contains(give)': False, 'contains(home)': False, 'contains(steve)': False, 'contains(internet)': False, 'contains(chokshi)': False, 'contains(investment)': False, 'contains(width)': False, 'contains(sure)': False, 'contains(still)': False, 'contains(people)': False, 'contains(team)': False, 'contains(2004)': False, 'contains(september)': False, 'contains(45)': False, 'contains(receive)': False, 'contains(link)': False, 'contains(tom)': False, 'contains(actual)': False, 'contains(g)': True, 'contains(said)': False, 'contains(rate)': False, \"contains(('hou', 'ect'))\": False, \"contains(('@', 'ect'))\": False, \"contains(('ect', '@'))\": False, \"contains(('.', '.'))\": False, \"contains(('ect', ','))\": False, \"contains(('>', '>'))\": False, \"contains(('.', 'com'))\": False, \"contains(('?', '?'))\": False, \"contains(('subject', ':'))\": False, \"contains(('@', 'enron'))\": False, \"contains(('cc', ':'))\": False, \"contains(('=', '='))\": False, \"contains(('_', '_'))\": False, \"contains(('enron', '@'))\": False, \"contains(('pm', ':'))\": False, \"contains((',', '000'))\": False, \"contains(('ect', 'cc'))\": False, \"contains(('.', 'thanks'))\": False, \"contains(('http', ':'))\": False, \"contains(('corp', 'enron'))\": False, \"contains(('.', 'please'))\": False, \"contains((':', 'subject'))\": False, 'contains((\\';\\', \"\\'\"))': False, 'contains((\"\\'\", \\';\\'))': False, \"contains(('.', 'xls'))\": False, \"contains(('enron', ','))\": False, \"contains(('let', 'know'))\": False, \"contains(('daren', 'j'))\": False, \"contains(('enron', '.'))\": False, \"contains((',', 'please'))\": False, \"contains((':', ':'))\": False, \"contains((',', '2000'))\": False, \"contains(('j', 'farmer'))\": False, 'contains((\\'com\\', \"\\'\"))': False, \"contains(('thanks', ','))\": False, \"contains(('www', '.'))\": False, \"contains((',', '2001'))\": False, \"contains(('ect', 'subject'))\": False, 'contains((\\'.\\', \"\\'\"))': False, \"contains((')', '.'))\": False, \"contains(('.', '000'))\": False, \"contains(('.', '00'))\": False, \"contains(('e', 'mail'))\": False, \"contains(('.', ':'))\": False, \"contains(('10', ':'))\": False, \"contains((':', '00'))\": False, \"contains(('see', 'attached'))\": False, \"contains(('farmer', 'hou'))\": False, \"contains((':', 'www'))\": False, \"contains(('1', '.'))\": False, \"contains(('com', ','))\": False, 'contains((\\',\\', \"\\'\"))': False, \"contains(('.', 'net'))\": False, \"contains(('attached', 'file'))\": False, \"contains(('.', ','))\": False, \"contains(('sent', ':'))\": False, \"contains(('0', '.'))\": False, \"contains(('corp', '.'))\": False, \"contains(('(', 'see'))\": False, \"contains(('file', ':'))\": False, \"contains(('=', '3'))\": False, \"contains(('11', ':'))\": False, \"contains(('please', 'let'))\": False, \"contains(('original', 'message'))\": False, \"contains(('2', '.'))\": False, \"contains(('message', ':'))\": False, \"contains(('inc', '.'))\": False, \"contains(('000', 'mmbtu'))\": False, \"contains(('xls', ')'))\": False, \"contains(('03', ':'))\": False, \"contains(('02', ':'))\": False, \"contains(('1', ','))\": False, \"contains((',', 'daren'))\": False, \"contains(('09', ':'))\": False, \"contains(('000', 'enron'))\": False, \"contains(('nbsp', ';'))\": False, \"contains((':', 'daren'))\": False, \"contains((':', 'http'))\": False, \"contains((':', 'robert'))\": False, \"contains(('.', '('))\": False, \"contains(('2000', '10'))\": False, \"contains(('daren', ','))\": False, \"contains(('pec', '@'))\": False, \"contains(('@', 'pec'))\": False, \"contains(('thanks', '.'))\": False, \"contains(('08', ':'))\": False, \"contains(('01', ':'))\": False, \"contains(('.', '0'))\": False, \"contains(('12', ':'))\": False, \"contains(('=', 'http'))\": False, \"contains(('teco', 'tap'))\": False, \"contains(('04', ':'))\": False, \"contains(('north', 'america'))\": False, \"contains(('3', '.'))\": False, \"contains((':', 'meter'))\": False, \"contains((',', 'inc'))\": False, \"contains(('.', '99'))\": False, \"contains((')', ','))\": False, \"contains(('enron', 'cc'))\": False, \"contains(('pec', ','))\": False, \"contains(('gas', 'daily'))\": False, \"contains(('width', '='))\": False, \"contains(('.', 'let'))\": False, 'contains((\\',\\', \\'\"\\'))': False, \"contains(('.', 'deal'))\": False, \"contains(('height', '='))\": False, \"contains((',', 'melissa'))\": False, \"contains(('.', 'also'))\": False, \"contains(('.', '?'))\": False, \"contains(('enron', 'north'))\": False, \"contains((';', 'nbsp'))\": False, \"contains(('robert', 'cotten'))\": False, \"contains(('vance', 'l'))\": False, \"contains((',', 'robert'))\": False, \"contains(('j', '.'))\": False, \"contains(('@', 'tu'))\": False, \"contains(('2000', '02'))\": False, \"contains(('would', 'like'))\": False, \"contains(('l', 'taylor'))\": False, \"contains(('2000', '.'))\": False, \"contains(('2000', '03'))\": False, \"contains(('5', '.'))\": False, \"contains(('.', 'forwarded'))\": False, \"contains(('pat', 'clynes'))\": False, \"contains((':', 'fw'))\": False, \"contains(('fw', ':'))\": False, \"contains(('.', '>'))\": False, \"contains(('2000', '09'))\": False, \"contains(('robert', 'e'))\": False, \"contains(('ami', 'chokshi'))\": False, \"contains(('tu', ','))\": False, \"contains(('2000', '11'))\": False, \"contains(('e', 'lloyd'))\": False, \"contains(('america', 'corp'))\": False, \"contains(('melissa', 'graves'))\": False, \"contains((',', 'mary'))\": False, \"contains(('cotten', 'hou'))\": False, \"contains(('.', 'enron'))\": False, \"contains(('tenaska', 'iv'))\": False, \"contains(('na', 'enron'))\": False, \"contains(('10', ','))\": False, \"contains(('2000', 'teco'))\": False, \"contains(('.', 'need'))\": False, \"contains(('price', ':'))\": False, \"contains(('.', 'thank'))\": False, \"contains(('e', '.'))\": False, \"contains(('.', 'bob'))\": False, 'contains((\\'net\\', \"\\'\"))': False, \"contains(('3', ','))\": False, \"contains(('u', '.'))\": False, 'contains((\\'.\\', \\'\"\\'))': False, \"contains(('clynes', 'corp'))\": False, \"contains(('align', '='))\": False, \"contains(('(', 'e'))\": False, \"contains(('2000', '08'))\": False, 'contains((\\':\\', \\'\"\\'))': False, \"contains((',', 'pat'))\": False, \"contains(('4', '.'))\": False, \"contains(('aol', '.'))\": False, \"contains(('.', 'questions'))\": False, \"contains(('pg', 'e'))\": False, \"contains(('questions', '.'))\": False, \"contains(('2', ','))\": False, \"contains(('know', '.'))\": False, \"contains(('5', ','))\": False, \"contains((',', ','))\": False, \"contains(('x', '3'))\": False, \"contains(('chokshi', 'corp'))\": False, \"contains(('.', 'would'))\": False, \"contains(('smith', 'hou'))\": False, \"contains(('=', '0'))\": False, \"contains((':', '1'))\": False, \"contains(('please', 'call'))\": False, \"contains(('aimee', 'lannou'))\": False, \"contains(('enron', ';'))\": False, \"contains(('co', '.'))\": False, \"contains(('texas', 'utilities'))\": False, \"contains(('@', 'aol'))\": False, 'contains((\\'\"\\', \\',\\'))': False, \"contains(('julie', 'meyers'))\": False, \"contains(('less', '0'))\": False, \"contains(('deal', '.'))\": False, \"contains(('computron', '.'))\": False, \"contains(('00', '.'))\": False, \"contains((',', 'tx'))\": False, \"contains(('pefs', 'pec'))\": False, \"contains(('@', 'enronxgate'))\": False, \"contains(('graves', 'hou'))\": False, \"contains(('gcs', 'cec'))\": False, \"contains(('cec', 'pec'))\": False, \"contains((',', 'susan'))\": False, \"contains((':', '30'))\": False, \"contains(('2000', '01'))\": False, \"contains(('.', '2'))\": False, \"contains((',', 'lisa'))\": False, \"contains((',', 'michael'))\": False, \"contains((']', '['))\": False, \"contains(('69', '.'))\": False, \"contains(('com', 'cc'))\": False, \"contains(('00', 'pm'))\": False, \"contains(('jackie', 'young'))\": False, \"contains(('(', ')'))\": False, \"contains(('href', '='))\": False, \"contains(('hpl', 'actuals'))\": False, \"contains(('color', '='))\": False, \"contains(('friday', ','))\": False, \"contains(('.', 'doc'))\": False, \"contains(('.', '5'))\": False, \"contains(('gary', 'hanks'))\": False, \"contains((',', 'may'))\": False, \"contains((',', 'gary'))\": False, \"contains(('2000', '04'))\": False, \"contains(('?', 'thanks'))\": False, \"contains(('4', ','))\": False, \"contains(('7', ','))\": False, \"contains(('enron', 'subject'))\": False, \"contains(('lloyd', 'hou'))\": False, \"contains(('r', '.'))\": False, \"contains(('mail', ')'))\": False, \"contains(('natural', 'gas'))\": False, \"contains(('.', 'e'))\": False, \"contains(('.', '95'))\": False, \"contains(('1', '00'))\": False, \"contains((',', 'need'))\": False, \"contains(('05', ':'))\": False, \"contains(('farmer', ','))\": False, \"contains(('questions', ','))\": False, \"contains(('george', 'weissman'))\": False, \"contains((',', 'deal'))\": False, \"contains(('also', ','))\": False, \"contains(('utilities', '@'))\": False, \"contains(('border', '='))\": False, \"contains((';', 'font'))\": False, \"contains(('oil', 'gas'))\": False, \"contains(('face', '='))\": False, \"contains(('000', 'hpl'))\": False, \"contains((',', 'would'))\": False, \"contains(('month', '.'))\": False, \"contains(('however', ','))\": False, \"contains(('looking', 'statements'))\": False, \"contains(('l', '.'))\": False, \"contains(('2001', '10'))\": False, \"contains(('deal', 'ticket'))\": False, \"contains(('contract', '.'))\": False, \"contains((':', '69'))\": False, \"contains((')', '('))\": False, \"contains(('howard', 'b'))\": False, \"contains(('b', 'camp'))\": False, \"contains(('day', '.'))\": False, \"contains(('7', '.'))\": False, \"contains(('30', '.'))\": False, \"contains(('30', ','))\": False, \"contains((')', ';'))\": False, \"contains(('hpl', 'iferc'))\": False, \"contains(('src', '='))\": False, \"contains(('meyers', 'hou'))\": False, \"contains(('th', '.'))\": False, \"contains(('know', 'questions'))\": False, \"contains(('2000', '12'))\": False, \"contains(('.', '3'))\": False, \"contains(('.', ';'))\": False, \"contains(('susan', 'smith'))\": False, \"contains(('taylor', 'hou'))\": False, \"contains(('20', '.'))\": False, \"contains(('time', '.'))\": False, \"contains(('camp', 'hou'))\": False, \"contains(('c', '.'))\": False, \"contains(('.', 'computron'))\": False, \"contains((',', 'mark'))\": False, \"contains(('tuesday', ','))\": False, \"contains(('ect', '03'))\": False, \"contains(('rita', 'wynne'))\": False, \"contains(('ls', 'hpl'))\": False, \"contains(('thursday', ','))\": False, \"contains(('2000', '('))\": False, \"contains(('gas', 'nomination'))\": False, \"contains(('forwarded', 'ami'))\": False, \"contains(('gco', 'enron'))\": False, \"contains(('00', ':'))\": False, \"contains((':', '15'))\": False, \"contains(('07', ':'))\": False, \"contains(('.', '63'))\": False, \"contains((',', 'john'))\": False, \"contains(('15', ','))\": False, \"contains(('meter', '.'))\": False, \"contains(('63', '.'))\": False, \"contains(('lannou', 'hou'))\": False, \"contains(('hpl', 'gas'))\": False, \"contains(('cotton', 'valley'))\": False, \"contains(('size', '='))\": False, \"contains(('fuels', 'cotton'))\": False, \"contains(('.', 'company'))\": False, \"contains(('forward', 'looking'))\": False, \"contains((',', 'rita'))\": False, \"contains(('phone', ':'))\": False, \"contains((':', 'hpl'))\": False, 'contains((\\'company\\', \"\\'\"))': False, \"contains(('161', '.'))\": False, \"contains(('20', ','))\": False, \"contains((':', 'gary'))\": False},\n",
              "        'spam'], dtype=object),\n",
              " array([{'contains(.)': True, 'contains(,)': True, 'contains(:)': True, 'contains(ect)': True, 'contains(@)': True, \"contains(')\": False, 'contains(hou)': True, 'contains(?)': False, 'contains(enron)': False, 'contains())': True, 'contains(()': True, 'contains(>)': True, 'contains(=)': False, 'contains(;)': False, 'contains(2000)': False, 'contains(com)': True, 'contains(\")': True, 'contains(please)': True, 'contains(gas)': True, 'contains(_)': False, 'contains(3)': False, 'contains(subject)': True, 'contains(deal)': False, 'contains(1)': False, 'contains(00)': False, 'contains(cc)': True, 'contains(2)': False, 'contains(meter)': False, 'contains(pm)': True, 'contains(000)': True, 'contains(10)': True, 'contains(hpl)': True, 'contains(2001)': True, 'contains(e)': True, 'contains(daren)': False, 'contains(thanks)': False, 'contains(01)': False, 'contains(corp)': False, 'contains(know)': True, 'contains(0)': True, 'contains(4)': False, 'contains(5)': False, 'contains(need)': False, 'contains(11)': True, 'contains(new)': False, 'contains(may)': True, 'contains(mmbtu)': True, 'contains(12)': False, 'contains(j)': True, 'contains(forwarded)': True, 'contains(get)': False, 'contains(http)': False, 'contains(03)': True, 'contains(price)': False, 'contains(see)': False, 'contains(company)': False, 'contains(let)': True, 'contains(information)': False, 'contains(farmer)': False, 'contains(l)': False, 'contains(attached)': False, 'contains(7)': False, 'contains(would)': False, 'contains(99)': False, 'contains(02)': False, 'contains(6)': False, 'contains(xls)': False, 'contains(us)': False, 'contains(day)': False, 'contains(time)': False, 'contains(message)': False, 'contains(9)': False, 'contains(04)': False, 'contains(30)': False, 'contains(one)': False, 'contains(contract)': True, 'contains(20)': False, 'contains(th)': False, 'contains(volume)': False, 'contains(8)': False, 'contains(mail)': True, 'contains(robert)': False, 'contains(05)': False, 'contains(month)': False, 'contains(09)': True, 'contains(sitara)': False, 'contains(p)': False, 'contains(08)': False, 'contains(email)': False, 'contains(texas)': False, 'contains(deals)': False, 'contains(energy)': True, 'contains(nom)': False, 'contains(volumes)': False, 'contains(questions)': True, 'contains(15)': False, 'contains(sent)': False, 'contains(also)': False, 'contains(www)': False, 'contains(pec)': False, 'contains(change)': False, 'contains(ena)': False, 'contains(bob)': False, 'contains(production)': False, 'contains(x)': False, 'contains(call)': False, 'contains(flow)': False, 'contains(file)': False, 'contains(b)': False, 'contains(like)': False, 'contains(net)': False, 'contains(25)': True, 'contains(following)': False, 'contains(06)': False, 'contains(c)': False, 'contains(31)': False, 'contains(07)': False, 'contains(21)': False, 'contains(report)': False, 'contains(contact)': False, 'contains(back)': False, 'contains(want)': False, 'contains(daily)': False, 'contains(could)': False, 'contains(ticket)': False, 'contains(per)': False, 'contains(16)': False, 'contains(24)': True, 'contains(nomination)': True, 'contains(gary)': True, 'contains(make)': False, 'contains(713)': True, 'contains(original)': False, 'contains(mary)': False, 'contains(list)': False, 'contains(days)': False, 'contains(business)': False, 'contains(])': False, 'contains(march)': False, 'contains(number)': False, 'contains([)': False, 'contains(100)': False, 'contains(system)': False, 'contains(inc)': False, 'contains(font)': False, 'contains(14)': False, 'contains(july)': False, 'contains(today)': False, 'contains(r)': False, 'contains(sale)': False, 'contains(april)': True, 'contains(first)': False, 'contains(effective)': False, 'contains(forward)': False, 'contains(free)': False, 'contains(td)': False, 'contains(28)': False, 'contains(order)': False, 'contains(statements)': False, 'contains(plant)': True, 'contains(help)': False, 'contains(use)': False, 'contains(22)': False, 'contains(sales)': False, 'contains(well)': False, 'contains(go)': False, 'contains(23)': False, 'contains(melissa)': False, 'contains(take)': False, 'contains(18)': False, 'contains(set)': False, 'contains(houston)': False, 'contains(line)': False, 'contains(27)': False, 'contains(purchase)': False, 'contains(17)': False, 'contains(19)': False, 'contains(teco)': False, 'contains(oil)': False, 'contains(vance)': False, 'contains(13)': False, 'contains(26)': True, 'contains(w)': True, 'contains(click)': False, 'contains(50)': False, 'contains(within)': False, 'contains(agreement)': False, 'contains(service)': False, 'contains(29)': False, 'contains(next)': False, 'contains(nbsp)': False, 'contains(george)': False, 'contains(june)': False, 'contains(north)': False, 'contains(changes)': False, 'contains(january)': True, 'contains(america)': False, 'contains(name)': False, 'contains(week)': False, 'contains(ami)': False, 'contains(management)': False, 'contains(office)': False, 'contains(pat)': False, 'contains(thank)': False, 'contains(smith)': False, 'contains(julie)': False, 'contains(available)': False, 'contains(transport)': False, 'contains(two)': False, 'contains(less)': False, 'contains(last)': False, 'contains(f)': False, 'contains(based)': False, 'contains(send)': False, 'contains(group)': False, 'contains(services)': False, 'contains(k)': False, 'contains(work)': True, 'contains(jackie)': False, 'contains(stock)': False, 'contains(year)': False, 'contains(h)': False, 'contains(due)': False, 'contains(think)': False, 'contains(tenaska)': False, 'contains(needs)': False, 'contains(request)': False, 'contains(height)': False, 'contains(made)': False, 'contains(high)': False, 'contains(looking)': False, 'contains(date)': False, 'contains(aimee)': False, 'contains(40)': False, 'contains(best)': False, 'contains(money)': False, 'contains(lisa)': False, 'contains(delivery)': True, 'contains(product)': False, 'contains(desk)': False, 'contains(noms)': False, 'contains(tap)': False, 'contains(total)': False, 'contains(michael)': False, 'contains(u)': False, 'contains(products)': False, 'contains(online)': False, 'contains(n)': False, 'contains(60)': True, 'contains(fax)': True, 'contains(mark)': False, 'contains(phone)': True, 'contains(look)': False, 'contains(david)': False, 'contains(friday)': False, 'contains(co)': False, 'contains(future)': False, 'contains(susan)': False, 'contains(pipeline)': False, 'contains(october)': False, 'contains(hsc)': False, 'contains(actuals)': False, 'contains(point)': False, 'contains(address)': False, 'contains(market)': False, 'contains(august)': False, 'contains(cotten)': False, 'contains(size)': False, 'contains(taylor)': False, 'contains(iv)': False, 'contains(john)': True, 'contains(currently)': False, 'contains(account)': False, 'contains(process)': False, 'contains(find)': False, 'contains(prices)': False, 'contains(megan)': False, 'contains(pills)': False, 'contains(many)': False, 'contains(give)': False, 'contains(home)': False, 'contains(steve)': False, 'contains(internet)': False, 'contains(chokshi)': False, 'contains(investment)': False, 'contains(width)': False, 'contains(sure)': False, 'contains(still)': False, 'contains(people)': False, 'contains(team)': False, 'contains(2004)': False, 'contains(september)': False, 'contains(45)': False, 'contains(receive)': False, 'contains(link)': False, 'contains(tom)': False, 'contains(actual)': False, 'contains(g)': False, 'contains(said)': False, 'contains(rate)': False, \"contains(('hou', 'ect'))\": True, \"contains(('@', 'ect'))\": False, \"contains(('ect', '@'))\": False, \"contains(('.', '.'))\": False, \"contains(('ect', ','))\": False, \"contains(('>', '>'))\": False, \"contains(('.', 'com'))\": True, \"contains(('?', '?'))\": False, \"contains(('subject', ':'))\": True, \"contains(('@', 'enron'))\": False, \"contains(('cc', ':'))\": True, \"contains(('=', '='))\": False, \"contains(('_', '_'))\": False, \"contains(('enron', '@'))\": False, \"contains(('pm', ':'))\": False, \"contains((',', '000'))\": True, \"contains(('ect', 'cc'))\": False, \"contains(('.', 'thanks'))\": False, \"contains(('http', ':'))\": False, \"contains(('corp', 'enron'))\": False, \"contains(('.', 'please'))\": True, \"contains((':', 'subject'))\": False, 'contains((\\';\\', \"\\'\"))': False, 'contains((\"\\'\", \\';\\'))': False, \"contains(('.', 'xls'))\": False, \"contains(('enron', ','))\": False, \"contains(('let', 'know'))\": False, \"contains(('daren', 'j'))\": False, \"contains(('enron', '.'))\": False, \"contains((',', 'please'))\": False, \"contains((':', ':'))\": False, \"contains((',', '2000'))\": False, \"contains(('j', 'farmer'))\": False, 'contains((\\'com\\', \"\\'\"))': False, \"contains(('thanks', ','))\": False, \"contains(('www', '.'))\": False, \"contains((',', '2001'))\": False, \"contains(('ect', 'subject'))\": False, 'contains((\\'.\\', \"\\'\"))': False, \"contains((')', '.'))\": False, \"contains(('.', '000'))\": False, \"contains(('.', '00'))\": False, \"contains(('e', 'mail'))\": True, \"contains(('.', ':'))\": False, \"contains(('10', ':'))\": True, \"contains((':', '00'))\": False, \"contains(('see', 'attached'))\": False, \"contains(('farmer', 'hou'))\": False, \"contains((':', 'www'))\": False, \"contains(('1', '.'))\": False, \"contains(('com', ','))\": False, 'contains((\\',\\', \"\\'\"))': False, \"contains(('.', 'net'))\": False, \"contains(('attached', 'file'))\": False, \"contains(('.', ','))\": False, \"contains(('sent', ':'))\": False, \"contains(('0', '.'))\": False, \"contains(('corp', '.'))\": False, \"contains(('(', 'see'))\": False, \"contains(('file', ':'))\": False, \"contains(('=', '3'))\": False, \"contains(('11', ':'))\": False, \"contains(('please', 'let'))\": True, \"contains(('original', 'message'))\": False, \"contains(('2', '.'))\": False, \"contains(('message', ':'))\": False, \"contains(('inc', '.'))\": False, \"contains(('000', 'mmbtu'))\": True, \"contains(('xls', ')'))\": False, \"contains(('03', ':'))\": False, \"contains(('02', ':'))\": False, \"contains(('1', ','))\": False, \"contains((',', 'daren'))\": False, \"contains(('09', ':'))\": True, \"contains(('000', 'enron'))\": False, \"contains(('nbsp', ';'))\": False, \"contains((':', 'daren'))\": False, \"contains((':', 'http'))\": False, \"contains((':', 'robert'))\": False, \"contains(('.', '('))\": False, \"contains(('2000', '10'))\": False, \"contains(('daren', ','))\": False, \"contains(('pec', '@'))\": False, \"contains(('@', 'pec'))\": False, \"contains(('thanks', '.'))\": False, \"contains(('08', ':'))\": False, \"contains(('01', ':'))\": False, \"contains(('.', '0'))\": False, \"contains(('12', ':'))\": False, \"contains(('=', 'http'))\": False, \"contains(('teco', 'tap'))\": False, \"contains(('04', ':'))\": False, \"contains(('north', 'america'))\": False, \"contains(('3', '.'))\": False, \"contains((':', 'meter'))\": False, \"contains((',', 'inc'))\": False, \"contains(('.', '99'))\": False, \"contains((')', ','))\": False, \"contains(('enron', 'cc'))\": False, \"contains(('pec', ','))\": False, \"contains(('gas', 'daily'))\": False, \"contains(('width', '='))\": False, \"contains(('.', 'let'))\": False, 'contains((\\',\\', \\'\"\\'))': True, \"contains(('.', 'deal'))\": False, \"contains(('height', '='))\": False, \"contains((',', 'melissa'))\": False, \"contains(('.', 'also'))\": False, \"contains(('.', '?'))\": False, \"contains(('enron', 'north'))\": False, \"contains((';', 'nbsp'))\": False, \"contains(('robert', 'cotten'))\": False, \"contains(('vance', 'l'))\": False, \"contains((',', 'robert'))\": False, \"contains(('j', '.'))\": True, \"contains(('@', 'tu'))\": False, \"contains(('2000', '02'))\": False, \"contains(('would', 'like'))\": False, \"contains(('l', 'taylor'))\": False, \"contains(('2000', '.'))\": False, \"contains(('2000', '03'))\": False, \"contains(('5', '.'))\": False, \"contains(('.', 'forwarded'))\": False, \"contains(('pat', 'clynes'))\": False, \"contains((':', 'fw'))\": False, \"contains(('fw', ':'))\": False, \"contains(('.', '>'))\": False, \"contains(('2000', '09'))\": False, \"contains(('robert', 'e'))\": False, \"contains(('ami', 'chokshi'))\": False, \"contains(('tu', ','))\": False, \"contains(('2000', '11'))\": False, \"contains(('e', 'lloyd'))\": False, \"contains(('america', 'corp'))\": False, \"contains(('melissa', 'graves'))\": False, \"contains((',', 'mary'))\": False, \"contains(('cotten', 'hou'))\": False, \"contains(('.', 'enron'))\": False, \"contains(('tenaska', 'iv'))\": False, \"contains(('na', 'enron'))\": False, \"contains(('10', ','))\": False, \"contains(('2000', 'teco'))\": False, \"contains(('.', 'need'))\": False, \"contains(('price', ':'))\": False, \"contains(('.', 'thank'))\": False, \"contains(('e', '.'))\": False, \"contains(('.', 'bob'))\": False, 'contains((\\'net\\', \"\\'\"))': False, \"contains(('3', ','))\": False, \"contains(('u', '.'))\": False, 'contains((\\'.\\', \\'\"\\'))': False, \"contains(('clynes', 'corp'))\": False, \"contains(('align', '='))\": False, \"contains(('(', 'e'))\": False, \"contains(('2000', '08'))\": False, 'contains((\\':\\', \\'\"\\'))': True, \"contains((',', 'pat'))\": False, \"contains(('4', '.'))\": False, \"contains(('aol', '.'))\": False, \"contains(('.', 'questions'))\": False, \"contains(('pg', 'e'))\": False, \"contains(('questions', '.'))\": False, \"contains(('2', ','))\": False, \"contains(('know', '.'))\": False, \"contains(('5', ','))\": False, \"contains((',', ','))\": False, \"contains(('x', '3'))\": False, \"contains(('chokshi', 'corp'))\": False, \"contains(('.', 'would'))\": False, \"contains(('smith', 'hou'))\": False, \"contains(('=', '0'))\": False, \"contains((':', '1'))\": False, \"contains(('please', 'call'))\": False, \"contains(('aimee', 'lannou'))\": False, \"contains(('enron', ';'))\": False, \"contains(('co', '.'))\": False, \"contains(('texas', 'utilities'))\": False, \"contains(('@', 'aol'))\": False, 'contains((\\'\"\\', \\',\\'))': True, \"contains(('julie', 'meyers'))\": False, \"contains(('less', '0'))\": False, \"contains(('deal', '.'))\": False, \"contains(('computron', '.'))\": False, \"contains(('00', '.'))\": False, \"contains((',', 'tx'))\": False, \"contains(('pefs', 'pec'))\": False, \"contains(('@', 'enronxgate'))\": False, \"contains(('graves', 'hou'))\": False, \"contains(('gcs', 'cec'))\": False, \"contains(('cec', 'pec'))\": False, \"contains((',', 'susan'))\": False, \"contains((':', '30'))\": False, \"contains(('2000', '01'))\": False, \"contains(('.', '2'))\": False, \"contains((',', 'lisa'))\": False, \"contains((',', 'michael'))\": False, \"contains((']', '['))\": False, \"contains(('69', '.'))\": False, \"contains(('com', 'cc'))\": False, \"contains(('00', 'pm'))\": False, \"contains(('jackie', 'young'))\": False, \"contains(('(', ')'))\": False, \"contains(('href', '='))\": False, \"contains(('hpl', 'actuals'))\": False, \"contains(('color', '='))\": False, \"contains(('friday', ','))\": False, \"contains(('.', 'doc'))\": False, \"contains(('.', '5'))\": False, \"contains(('gary', 'hanks'))\": False, \"contains((',', 'may'))\": False, \"contains((',', 'gary'))\": True, \"contains(('2000', '04'))\": False, \"contains(('?', 'thanks'))\": False, \"contains(('4', ','))\": False, \"contains(('7', ','))\": False, \"contains(('enron', 'subject'))\": False, \"contains(('lloyd', 'hou'))\": False, \"contains(('r', '.'))\": False, \"contains(('mail', ')'))\": False, \"contains(('natural', 'gas'))\": False, \"contains(('.', 'e'))\": False, \"contains(('.', '95'))\": False, \"contains(('1', '00'))\": False, \"contains((',', 'need'))\": False, \"contains(('05', ':'))\": False, \"contains(('farmer', ','))\": False, \"contains(('questions', ','))\": False, \"contains(('george', 'weissman'))\": False, \"contains((',', 'deal'))\": False, \"contains(('also', ','))\": False, \"contains(('utilities', '@'))\": False, \"contains(('border', '='))\": False, \"contains((';', 'font'))\": False, \"contains(('oil', 'gas'))\": False, \"contains(('face', '='))\": False, \"contains(('000', 'hpl'))\": False, \"contains((',', 'would'))\": False, \"contains(('month', '.'))\": False, \"contains(('however', ','))\": False, \"contains(('looking', 'statements'))\": False, \"contains(('l', '.'))\": False, \"contains(('2001', '10'))\": True, \"contains(('deal', 'ticket'))\": False, \"contains(('contract', '.'))\": False, \"contains((':', '69'))\": False, \"contains((')', '('))\": False, \"contains(('howard', 'b'))\": False, \"contains(('b', 'camp'))\": False, \"contains(('day', '.'))\": False, \"contains(('7', '.'))\": False, \"contains(('30', '.'))\": False, \"contains(('30', ','))\": False, \"contains((')', ';'))\": False, \"contains(('hpl', 'iferc'))\": False, \"contains(('src', '='))\": False, \"contains(('meyers', 'hou'))\": False, \"contains(('th', '.'))\": False, \"contains(('know', 'questions'))\": False, \"contains(('2000', '12'))\": False, \"contains(('.', '3'))\": False, \"contains(('.', ';'))\": False, \"contains(('susan', 'smith'))\": False, \"contains(('taylor', 'hou'))\": False, \"contains(('20', '.'))\": False, \"contains(('time', '.'))\": False, \"contains(('camp', 'hou'))\": False, \"contains(('c', '.'))\": False, \"contains(('.', 'computron'))\": False, \"contains((',', 'mark'))\": False, \"contains(('tuesday', ','))\": False, \"contains(('ect', '03'))\": False, \"contains(('rita', 'wynne'))\": False, \"contains(('ls', 'hpl'))\": False, \"contains(('thursday', ','))\": False, \"contains(('2000', '('))\": False, \"contains(('gas', 'nomination'))\": False, \"contains(('forwarded', 'ami'))\": False, \"contains(('gco', 'enron'))\": False, \"contains(('00', ':'))\": False, \"contains((':', '15'))\": False, \"contains(('07', ':'))\": False, \"contains(('.', '63'))\": False, \"contains((',', 'john'))\": True, \"contains(('15', ','))\": False, \"contains(('meter', '.'))\": False, \"contains(('63', '.'))\": False, \"contains(('lannou', 'hou'))\": False, \"contains(('hpl', 'gas'))\": False, \"contains(('cotton', 'valley'))\": False, \"contains(('size', '='))\": False, \"contains(('fuels', 'cotton'))\": False, \"contains(('.', 'company'))\": False, \"contains(('forward', 'looking'))\": False, \"contains((',', 'rita'))\": False, \"contains(('phone', ':'))\": True, \"contains((':', 'hpl'))\": True, 'contains((\\'company\\', \"\\'\"))': False, \"contains(('161', '.'))\": False, \"contains(('20', ','))\": False, \"contains((':', 'gary'))\": False},\n",
              "        'ham'], dtype=object))"
            ]
          },
          "metadata": {
            "tags": []
          },
          "execution_count": 177
        }
      ]
    },
    {
      "cell_type": "code",
      "metadata": {
        "id": "_9a2fFj1RTLv",
        "outputId": "3942b546-3fd3-4003-a1bf-9e037fd0ed32",
        "colab": {
          "base_uri": "https://localhost:8080/",
          "height": 204
        }
      },
      "source": [
        "model = nltk.NaiveBayesClassifier.train(train)\n",
        "model.show_most_informative_features()"
      ],
      "execution_count": null,
      "outputs": [
        {
          "output_type": "stream",
          "text": [
            "Most Informative Features\n",
            "           contains(ect) = True              ham : spam   =    218.7 : 1.0\n",
            "   contains(('cc', ':')) = True              ham : spam   =    182.4 : 1.0\n",
            "          contains(2004) = True             spam : ham    =    162.1 : 1.0\n",
            "contains(('thanks', ',')) = True              ham : spam   =    160.0 : 1.0\n",
            "  contains(('(', 'see')) = True              ham : spam   =    104.4 : 1.0\n",
            "           contains(713) = True              ham : spam   =     68.4 : 1.0\n",
            "          contains(2001) = True              ham : spam   =     66.6 : 1.0\n",
            "contains(('.', 'thanks')) = True              ham : spam   =     65.9 : 1.0\n",
            "           contains(hou) = True              ham : spam   =     57.8 : 1.0\n",
            "      contains(attached) = True              ham : spam   =     55.5 : 1.0\n"
          ],
          "name": "stdout"
        }
      ]
    },
    {
      "cell_type": "code",
      "metadata": {
        "id": "1laFwQTdRk3s",
        "outputId": "788edffd-a164-4b0b-eed8-3ee1c9d8d0b7",
        "colab": {
          "base_uri": "https://localhost:8080/",
          "height": 34
        }
      },
      "source": [
        "print(nltk.classify.accuracy(model, test))"
      ],
      "execution_count": null,
      "outputs": [
        {
          "output_type": "stream",
          "text": [
            "0.9208494208494209\n"
          ],
          "name": "stdout"
        }
      ]
    },
    {
      "cell_type": "markdown",
      "metadata": {
        "id": "W4WiXXya1ovd"
      },
      "source": [
        "# 6. Implementación de un modelo de clasificación de texto"
      ]
    },
    {
      "cell_type": "markdown",
      "metadata": {
        "id": "czQgfpQV2mHV"
      },
      "source": [
        "## Naive Bayes"
      ]
    },
    {
      "cell_type": "markdown",
      "metadata": {
        "id": "k8N4OuKN5Nh8"
      },
      "source": [
        "[Naive Bayes Spam|Ham guie](https://pythonmachinelearning.pro/text-classification-tutorial-with-naive-bayes/)\n",
        "\n",
        "<img src = \"https://miro.medium.com/max/6190/1*39U1Ln3tSdFqsfQy6ndxOA.png\" witdh = \"400px\" height = \"400px\">\n",
        "\n",
        "<img src = \"https://miro.medium.com/max/1000/1*aoKlzTs3w5tomWWxZGr81g.png\" witdh = \"300px\" height = \"300px\">\n",
        "\n",
        "![](https://github.com/dretcm/Natural-Language-Processing-ACM/blob/main/NL%20images/Naive_Bayes_classifier.png?raw=true)"
      ]
    },
    {
      "cell_type": "markdown",
      "metadata": {
        "id": "_l3DNzY7aDIG"
      },
      "source": [
        "![](https://github.com/dretcm/Natural-Language-Processing-ACM/blob/main/NL%20images/Naive_Bayes_part1.png?raw=true)\n",
        "\n",
        "![](https://github.com/dretcm/Natural-Language-Processing-ACM/blob/main/NL%20images/Naive_Bayes_part2.png?raw=true)\n",
        "\n",
        "![](https://github.com/dretcm/Natural-Language-Processing-ACM/blob/main/NL%20images/metricas%20de%20presicion.png?raw=true)"
      ]
    },
    {
      "cell_type": "markdown",
      "metadata": {
        "id": "JpBGJkZVSF6d"
      },
      "source": [
        "* **Accuracy**, in multilabel classification, this function computes subset accuracy: the set of labels predicted for a sample must exactly match the corresponding set of labels in y_true.\n",
        "\n",
        "* **The recall** is the ratio tp / (tp + fn) where tp is the number of true positives and fn the number of false negatives. The recall is intuitively the ability of the classifier to find all the positive samples.The best value is 1 and the worst value is 0.\n",
        "\n",
        "* **The precision** is the ratio tp / (tp + fp) where tp is the number of true positives and fp the number of false positives. The precision is intuitively the ability of the classifier not to label as positive a sample that is negative. The best value is 1 and the worst value is 0.\n",
        "\n",
        "* **The F1** score can be interpreted as a weighted average of the precision and recall, where an F1 score reaches its best value at 1 and worst score at 0. The relative contribution of precision and recall to the F1 score are equal.\n"
      ]
    },
    {
      "cell_type": "markdown",
      "metadata": {
        "id": "fSHovwBR1ZfA"
      },
      "source": [
        "## Preparación del corpus de emails"
      ]
    },
    {
      "cell_type": "code",
      "metadata": {
        "id": "ZhKnaZ5jOEXz"
      },
      "source": [
        "import math\n",
        "import os"
      ],
      "execution_count": 1,
      "outputs": []
    },
    {
      "cell_type": "code",
      "metadata": {
        "id": "w8P_ve0L0Gyu"
      },
      "source": [
        "!git clone https://github.com/pachocamacho1990/datasets"
      ],
      "execution_count": null,
      "outputs": []
    },
    {
      "cell_type": "code",
      "metadata": {
        "id": "MFrqDzfu04pJ"
      },
      "source": [
        "! unzip datasets/email/plaintext/corpus1.zip"
      ],
      "execution_count": null,
      "outputs": []
    },
    {
      "cell_type": "code",
      "metadata": {
        "id": "OMqPozoxOGXC"
      },
      "source": [
        "os.listdir('corpus1/spam')"
      ],
      "execution_count": null,
      "outputs": []
    },
    {
      "cell_type": "code",
      "metadata": {
        "id": "dJTtSZto1jC1",
        "outputId": "22b2721f-4821-44f7-dcc2-00625818c264",
        "colab": {
          "base_uri": "https://localhost:8080/",
          "height": 34
        }
      },
      "source": [
        "data = []\n",
        "clases = []\n",
        "#lectura de spam data\n",
        "for file in os.listdir('corpus1/spam'):\n",
        "  with open('corpus1/spam/'+file, encoding='latin-1') as f:\n",
        "    data.append(f.read())\n",
        "    clases.append('spam')\n",
        "#lectura de ham data\n",
        "for file in os.listdir('corpus1/ham'):\n",
        "  with open('corpus1/ham/'+file, encoding='latin-1') as f:\n",
        "    data.append(f.read())\n",
        "    clases.append('ham')\n",
        "len(data)"
      ],
      "execution_count": 5,
      "outputs": [
        {
          "output_type": "execute_result",
          "data": {
            "text/plain": [
              "5172"
            ]
          },
          "metadata": {
            "tags": []
          },
          "execution_count": 5
        }
      ]
    },
    {
      "cell_type": "code",
      "metadata": {
        "id": "tsltBg7mWd2L",
        "outputId": "64f831fc-8504-4731-ebfc-1e14ef0076e7",
        "colab": {
          "base_uri": "https://localhost:8080/",
          "height": 71
        }
      },
      "source": [
        "data[0], clases[0]"
      ],
      "execution_count": 6,
      "outputs": [
        {
          "output_type": "execute_result",
          "data": {
            "text/plain": [
              "(\"Subject: fw : win - dows xp + office xp = 80 dol lars .\\nyou can get oem software including microsoft / microsoft office , adobe , macromedia , corel , even titles for the macintosh up to 80 % off . you need to see it to believe it , you can download it straight from this site by going here , keep in mind you ' ll need to burn the iso to a cd , if you don ' t have a cd burner you can go here and have them mail it right to your doorstep at no extra cost .\",\n",
              " 'spam')"
            ]
          },
          "metadata": {
            "tags": []
          },
          "execution_count": 6
        }
      ]
    },
    {
      "cell_type": "markdown",
      "metadata": {
        "id": "0NOb61Ik7MI-"
      },
      "source": [
        "## Construcción de modelo Naive Bayes"
      ]
    },
    {
      "cell_type": "markdown",
      "metadata": {
        "id": "IXXlUjrJ7DjR"
      },
      "source": [
        "### Tokenizador de Spacy\n",
        "\n",
        "* Documentación: https://spacy.io/api/tokenizer\n",
        "* ¿Cómo funciona el tokenizador? https://spacy.io/usage/linguistic-features#how-tokenizer-works"
      ]
    },
    {
      "cell_type": "code",
      "metadata": {
        "id": "ePmKCQpw4cqK"
      },
      "source": [
        "from spacy.tokenizer import Tokenizer\n",
        "from spacy.lang.en import English\n",
        "\n",
        "nlp = English()\n",
        "tokenizer = Tokenizer(nlp.vocab) # va a tokenizar basado en las reglas del vocabulario ya preconstruido \"English()\"."
      ],
      "execution_count": 7,
      "outputs": []
    },
    {
      "cell_type": "code",
      "metadata": {
        "id": "oF1cGmZ293OA",
        "outputId": "293cb36d-8d8e-452b-ca77-949e24558573",
        "colab": {
          "base_uri": "https://localhost:8080/",
          "height": 54
        }
      },
      "source": [
        "print([t.text for t in tokenizer(data[0])])"
      ],
      "execution_count": 8,
      "outputs": [
        {
          "output_type": "stream",
          "text": [
            "['Subject:', 'fw', ':', 'win', '-', 'dows', 'xp', '+', 'office', 'xp', '=', '80', 'dol', 'lars', '.', '\\n', 'you', 'can', 'get', 'oem', 'software', 'including', 'microsoft', '/', 'microsoft', 'office', ',', 'adobe', ',', 'macromedia', ',', 'corel', ',', 'even', 'titles', 'for', 'the', 'macintosh', 'up', 'to', '80', '%', 'off', '.', 'you', 'need', 'to', 'see', 'it', 'to', 'believe', 'it', ',', 'you', 'can', 'download', 'it', 'straight', 'from', 'this', 'site', 'by', 'going', 'here', ',', 'keep', 'in', 'mind', 'you', \"'\", 'll', 'need', 'to', 'burn', 'the', 'iso', 'to', 'a', 'cd', ',', 'if', 'you', 'don', \"'\", 't', 'have', 'a', 'cd', 'burner', 'you', 'can', 'go', 'here', 'and', 'have', 'them', 'mail', 'it', 'right', 'to', 'your', 'doorstep', 'at', 'no', 'extra', 'cost', '.']\n"
          ],
          "name": "stdout"
        }
      ]
    },
    {
      "cell_type": "code",
      "metadata": {
        "id": "BJsPBiH7VaVl",
        "outputId": "d120867e-9b13-4fb9-dada-134c24c57e39",
        "colab": {
          "base_uri": "https://localhost:8080/",
          "height": 71
        }
      },
      "source": [
        "tokenizer(data[0])"
      ],
      "execution_count": 9,
      "outputs": [
        {
          "output_type": "execute_result",
          "data": {
            "text/plain": [
              "Subject: fw : win - dows xp + office xp = 80 dol lars .\n",
              "you can get oem software including microsoft / microsoft office , adobe , macromedia , corel , even titles for the macintosh up to 80 % off . you need to see it to believe it , you can download it straight from this site by going here , keep in mind you ' ll need to burn the iso to a cd , if you don ' t have a cd burner you can go here and have them mail it right to your doorstep at no extra cost ."
            ]
          },
          "metadata": {
            "tags": []
          },
          "execution_count": 9
        }
      ]
    },
    {
      "cell_type": "code",
      "metadata": {
        "id": "jZXjNF0PWDhc",
        "outputId": "55ee2891-de9a-4477-b4e2-d7b78a7d3e3b",
        "colab": {
          "base_uri": "https://localhost:8080/",
          "height": 34
        }
      },
      "source": [
        "tokenizer(data[0])[0]"
      ],
      "execution_count": 10,
      "outputs": [
        {
          "output_type": "execute_result",
          "data": {
            "text/plain": [
              "Subject:"
            ]
          },
          "metadata": {
            "tags": []
          },
          "execution_count": 10
        }
      ]
    },
    {
      "cell_type": "code",
      "metadata": {
        "id": "DMUG66g4WFsg",
        "outputId": "5afa0d63-c185-4326-a691-396497094811",
        "colab": {
          "base_uri": "https://localhost:8080/",
          "height": 35
        }
      },
      "source": [
        "tokenizer(data[0])[0].text"
      ],
      "execution_count": 11,
      "outputs": [
        {
          "output_type": "execute_result",
          "data": {
            "application/vnd.google.colaboratory.intrinsic+json": {
              "type": "string"
            },
            "text/plain": [
              "'Subject:'"
            ]
          },
          "metadata": {
            "tags": []
          },
          "execution_count": 11
        }
      ]
    },
    {
      "cell_type": "markdown",
      "metadata": {
        "id": "m4i6IQGx7Tul"
      },
      "source": [
        "### Clase principal para el algoritmo\n",
        "\n",
        "Recuerda que la clase más probable viene dada por (en espacio de cómputo logarítmico): \n",
        "\n",
        "\n",
        "$$\\hat{c} = {\\arg \\max}_{(c)}\\log{P(c)}\n",
        " +\\sum_{i=1}^n\n",
        "\\log{ P(f_i \\vert c)}\n",
        "$$\n",
        "\n",
        "Donde, para evitar casos atípicos, usaremos el suavizado de Laplace así:\n",
        "\n",
        "$$\n",
        "P(f_i \\vert c) = \\frac{C(f_i, c)+1}{C(c) + \\vert V \\vert}\n",
        "$$\n",
        "\n",
        "Este es un proceso de normalización muy estandar para evitar los problemas de tener un Log(0) en el espacio Logaritmico, principalmente para Evitar probabilidades nulas y denominadores iguales a cero.\n",
        "\n",
        "siendo $\\vert V \\vert$ la longitud del vocabulario de nuestro conjunto de entrenamiento. "
      ]
    },
    {
      "cell_type": "code",
      "metadata": {
        "id": "nTgbTusfyPHW"
      },
      "source": [
        "import numpy as np\n",
        "\n",
        "class NaiveBayesClassifier():\n",
        "  nlp = English()\n",
        "  tokenizer = Tokenizer(nlp.vocab)\n",
        "  \n",
        "  def tokenize(self, doc):\n",
        "    return  [t.text.lower() for t in tokenizer(doc)]\n",
        "\n",
        "  def word_counts(self, words):\n",
        "    wordCount = {}\n",
        "    for w in words: \n",
        "      if w in wordCount.keys():\n",
        "        wordCount[w] += 1\n",
        "      else:\n",
        "        wordCount[w] = 1\n",
        "    return wordCount\n",
        "\n",
        "  def fit(self, data, clases):   # X, y\n",
        "    n = len(data)\n",
        "    self.unique_clases = set(clases)\n",
        "    self.vocab = set() # |V|\n",
        "    self.classCount = {} # C(c)  # Contador\n",
        "    self.log_classPriorProb = {} # P(c)  # Probabilidad\n",
        "    self.wordConditionalCounts = {} # C(w|c)\n",
        "    # conteos de clases\n",
        "    for c in clases:\n",
        "      if c in self.classCount.keys():\n",
        "        self.classCount[c] += 1\n",
        "      else:\n",
        "        self.classCount[c] = 1\n",
        "    # calculo de P(c)\n",
        "    for c in self.classCount.keys():\n",
        "      self.log_classPriorProb[c] = math.log(self.classCount[c]/n)\n",
        "      self.wordConditionalCounts[c] = {}   # {'juego': {}, 'deporte': {}, ....}\n",
        "    # calculo de C(w|c)\n",
        "    for text, c in zip(data, clases):\n",
        "      counts = self.word_counts(self.tokenize(text))\n",
        "      for word, count in counts.items():\n",
        "        if word not in self.vocab:\n",
        "          self.vocab.add(word)\n",
        "        if word not in self.wordConditionalCounts[c]:\n",
        "          self.wordConditionalCounts[c][word] = 0.0\n",
        "        self.wordConditionalCounts[c][word] += count   # {'juego':{'play':313, 'palo': 23, ...}, 'deporte': {'futboll':275, ...}, ....}\n",
        "\n",
        "  def predict(self, data):\n",
        "    results = []\n",
        "    for text in data:\n",
        "      words = set(self.tokenize(text))\n",
        "      scoreProb = {}\n",
        "      for word in words: \n",
        "        if word not in self.vocab: continue # ignoramos palabras nuevas\n",
        "        # suavizado Laplaciano para P(w|c)\n",
        "        for c in self.unique_clases:\n",
        "          log_wordClassProb = math.log(\n",
        "              (self.wordConditionalCounts[c].get(word, 0.0)+1)/(self.classCount[c]+len(self.vocab))  # (P(f_i,c) + 1)/(P(c) + |V|)\n",
        "              )\n",
        "          scoreProb[c] = scoreProb.get(c, self.log_classPriorProb[c]) + log_wordClassProb  # actualiza la probabilidad de la clase: Log(P(c)) + sum(log(P(f_i,c)))\n",
        "      arg_maxprob = np.argmax(np.array(list(scoreProb.values())))\n",
        "      results.append(list(scoreProb.keys())[arg_maxprob])\n",
        "    return results\n"
      ],
      "execution_count": 12,
      "outputs": []
    },
    {
      "cell_type": "code",
      "metadata": {
        "id": "tpthGmgIlCXf",
        "outputId": "30e1f945-143c-451f-db0c-eb7a6e5fbf28",
        "colab": {
          "base_uri": "https://localhost:8080/",
          "height": 35
        }
      },
      "source": [
        "d = {'a':3, 'b':20}\n",
        "d.get('c', 'no existe elemento')  # get.(valor, caso contrario no exista)"
      ],
      "execution_count": 13,
      "outputs": [
        {
          "output_type": "execute_result",
          "data": {
            "application/vnd.google.colaboratory.intrinsic+json": {
              "type": "string"
            },
            "text/plain": [
              "'no existe elemento'"
            ]
          },
          "metadata": {
            "tags": []
          },
          "execution_count": 13
        }
      ]
    },
    {
      "cell_type": "markdown",
      "metadata": {
        "id": "EE9Aus71bdUx"
      },
      "source": [
        "### Utilidades de Scikit Learn\n",
        "* `train_test_split`: https://scikit-learn.org/stable/modules/generated/sklearn.model_selection.train_test_split.html\n",
        "\n",
        "* `accuracy_score`: https://scikit-learn.org/stable/modules/generated/sklearn.metrics.accuracy_score.html\n",
        "\n",
        "* `precision_score`: https://scikit-learn.org/stable/modules/generated/sklearn.metrics.precision_score.html\n",
        "\n",
        "* `recall_score`: https://scikit-learn.org/stable/modules/generated/sklearn.metrics.recall_score.html\n",
        "\n",
        "* `f1_score`: https://scikit-learn.org/stable/modules/generated/sklearn.metrics.f1_score.html"
      ]
    },
    {
      "cell_type": "code",
      "metadata": {
        "id": "m95539uQZaDZ"
      },
      "source": [
        "from sklearn.model_selection import train_test_split\n",
        "from sklearn.metrics import accuracy_score, precision_score, recall_score\n",
        "data_train, data_test, clases_train, clases_test = train_test_split(data, clases, test_size=0.10, random_state=42)"
      ],
      "execution_count": 14,
      "outputs": []
    },
    {
      "cell_type": "code",
      "metadata": {
        "id": "1Qrb-42APpHM"
      },
      "source": [
        "classifier = NaiveBayesClassifier()\n",
        "classifier.fit(data_train, clases_train)"
      ],
      "execution_count": 15,
      "outputs": []
    },
    {
      "cell_type": "code",
      "metadata": {
        "id": "fdzx7-5xXJfD"
      },
      "source": [
        "clases_predict = classifier.predict(data_test)"
      ],
      "execution_count": 16,
      "outputs": []
    },
    {
      "cell_type": "code",
      "metadata": {
        "id": "0whDaiFwayf5",
        "outputId": "84314bbb-87d0-4952-e35a-04f409dc1968",
        "colab": {
          "base_uri": "https://localhost:8080/",
          "height": 34
        }
      },
      "source": [
        "accuracy_score(clases_test, clases_predict)"
      ],
      "execution_count": 17,
      "outputs": [
        {
          "output_type": "execute_result",
          "data": {
            "text/plain": [
              "0.8552123552123552"
            ]
          },
          "metadata": {
            "tags": []
          },
          "execution_count": 17
        }
      ]
    },
    {
      "cell_type": "code",
      "metadata": {
        "id": "FQM3QjN1dlIu",
        "outputId": "d9cc956f-0872-42a7-8905-28b53c435de2",
        "colab": {
          "base_uri": "https://localhost:8080/",
          "height": 68
        }
      },
      "source": [
        "values = precision_score(clases_test, clases_predict, average=None, zero_division=1)\n",
        "print(values)\n",
        "print('ham correctamente predecido: ', values[0])\n",
        "print('spam correctamente predecido: ', values[1])"
      ],
      "execution_count": 21,
      "outputs": [
        {
          "output_type": "stream",
          "text": [
            "[0.82876712 1.        ]\n",
            "ham correctamente predecido:  0.8287671232876712\n",
            "spam correctamente predecido:  1.0\n"
          ],
          "name": "stdout"
        }
      ]
    },
    {
      "cell_type": "code",
      "metadata": {
        "id": "KiWQMX0Jdmnt",
        "outputId": "e663f6fc-26b8-473e-85ad-2fc7e8419bd6",
        "colab": {
          "base_uri": "https://localhost:8080/",
          "height": 68
        }
      },
      "source": [
        "values = recall_score(clases_test, clases_predict, average=None, zero_division=1)\n",
        "print(values)\n",
        "print('ham correctamente predecido: ', values[0])\n",
        "print('spam correctamente predecido: ', values[1])"
      ],
      "execution_count": 22,
      "outputs": [
        {
          "output_type": "stream",
          "text": [
            "[1.         0.51612903]\n",
            "ham correctamente predecido:  1.0\n",
            "spam correctamente predecido:  0.5161290322580645\n"
          ],
          "name": "stdout"
        }
      ]
    },
    {
      "cell_type": "code",
      "metadata": {
        "id": "wMc6OMi5Qqi3",
        "outputId": "63fa127a-568a-49de-845d-42879b653799",
        "colab": {
          "base_uri": "https://localhost:8080/",
          "height": 68
        }
      },
      "source": [
        "from sklearn.metrics import f1_score\n",
        "values = f1_score(clases_test, clases_predict, average = None, zero_division=1)\n",
        "print(values)\n",
        "print('ham correctamente predecido: ', values[0])\n",
        "print('spam correctamente predecido: ', values[1])"
      ],
      "execution_count": 24,
      "outputs": [
        {
          "output_type": "stream",
          "text": [
            "[0.90636704 0.68085106]\n",
            "ham correctamente predecido:  0.9063670411985019\n",
            "spam correctamente predecido:  0.6808510638297872\n"
          ],
          "name": "stdout"
        }
      ]
    },
    {
      "cell_type": "markdown",
      "metadata": {
        "id": "N9snZcC8g6fn"
      },
      "source": [
        "# 7. Construye un modelo de sentimiento \n"
      ]
    },
    {
      "cell_type": "markdown",
      "metadata": {
        "id": "boF6XSP1lWFH"
      },
      "source": [
        "## Preparando la Data"
      ]
    },
    {
      "cell_type": "code",
      "metadata": {
        "id": "FD2OfnB9l5QW"
      },
      "source": [
        "import nltk\n",
        "from nltk.corpus import movie_reviews as mr\n",
        "nltk.download('movie_reviews')\n",
        "import random\n",
        "import numpy as np\n",
        "import pandas as pd\n",
        "from sklearn.model_selection import train_test_split\n",
        "from sklearn.model_selection import ShuffleSplit\n",
        "from nltk.corpus import stopwords\n",
        "nltk.download('stopwords')"
      ],
      "execution_count": null,
      "outputs": []
    },
    {
      "cell_type": "code",
      "metadata": {
        "id": "_xGQOQXPFcAw",
        "outputId": "b7eeb086-7b33-44bc-c74f-3f4e2a8b769f",
        "colab": {
          "base_uri": "https://localhost:8080/",
          "height": 34
        }
      },
      "source": [
        "mr.categories()"
      ],
      "execution_count": 21,
      "outputs": [
        {
          "output_type": "execute_result",
          "data": {
            "text/plain": [
              "['neg', 'pos']"
            ]
          },
          "metadata": {
            "tags": []
          },
          "execution_count": 21
        }
      ]
    },
    {
      "cell_type": "code",
      "metadata": {
        "id": "iaArJOqqHVkq",
        "outputId": "5c8c6535-4bf6-4c74-c7c0-86b628b2fa3c",
        "colab": {
          "base_uri": "https://localhost:8080/",
          "height": 102
        }
      },
      "source": [
        "mr.fileids('pos')[:5]"
      ],
      "execution_count": 22,
      "outputs": [
        {
          "output_type": "execute_result",
          "data": {
            "text/plain": [
              "['pos/cv000_29590.txt',\n",
              " 'pos/cv001_18431.txt',\n",
              " 'pos/cv002_15918.txt',\n",
              " 'pos/cv003_11664.txt',\n",
              " 'pos/cv004_11636.txt']"
            ]
          },
          "metadata": {
            "tags": []
          },
          "execution_count": 22
        }
      ]
    },
    {
      "cell_type": "code",
      "metadata": {
        "id": "zd6YnZ6wI9xS",
        "outputId": "3b843db9-ad29-414a-a403-348fde8ebbc6",
        "colab": {
          "base_uri": "https://localhost:8080/",
          "height": 187
        }
      },
      "source": [
        "mr.words(mr.fileids('pos')[0])[:10]"
      ],
      "execution_count": 46,
      "outputs": [
        {
          "output_type": "execute_result",
          "data": {
            "text/plain": [
              "['films',\n",
              " 'adapted',\n",
              " 'from',\n",
              " 'comic',\n",
              " 'books',\n",
              " 'have',\n",
              " 'had',\n",
              " 'plenty',\n",
              " 'of',\n",
              " 'success']"
            ]
          },
          "metadata": {
            "tags": []
          },
          "execution_count": 46
        }
      ]
    },
    {
      "cell_type": "code",
      "metadata": {
        "id": "YmEgIwMdG1oO",
        "outputId": "2be73edb-f7cd-4150-959c-3d5dc18dd43a",
        "colab": {
          "base_uri": "https://localhost:8080/",
          "height": 34
        }
      },
      "source": [
        "import os\n",
        "os.listdir('/root/nltk_data/corpora/movie_reviews/')"
      ],
      "execution_count": 124,
      "outputs": [
        {
          "output_type": "execute_result",
          "data": {
            "text/plain": [
              "['pos', 'neg', 'README']"
            ]
          },
          "metadata": {
            "tags": []
          },
          "execution_count": 124
        }
      ]
    },
    {
      "cell_type": "code",
      "metadata": {
        "id": "_CCvf4DTFrh6"
      },
      "source": [
        "# with open('/root/nltk_data/corpora/movie_reviews/'+mr.fileids('pos')[0], 'r') as f:\n",
        "#   print(f.read())"
      ],
      "execution_count": null,
      "outputs": []
    },
    {
      "cell_type": "code",
      "metadata": {
        "id": "lqFfKhBtl2tW",
        "outputId": "4c241ad0-40b7-41e2-d8ae-07b5f9d4624f",
        "colab": {
          "base_uri": "https://localhost:8080/",
          "height": 34
        }
      },
      "source": [
        "docs =[(list(mr.words(fileid)), category) for category in mr.categories() for fileid in mr.fileids(category)]\n",
        "random.shuffle(docs)\n",
        "len(docs)"
      ],
      "execution_count": 125,
      "outputs": [
        {
          "output_type": "execute_result",
          "data": {
            "text/plain": [
              "2000"
            ]
          },
          "metadata": {
            "tags": []
          },
          "execution_count": 125
        }
      ]
    },
    {
      "cell_type": "code",
      "metadata": {
        "id": "00d8AwM4JVoW",
        "outputId": "841c43d2-c6d9-4922-d170-586c18794e1e",
        "colab": {
          "base_uri": "https://localhost:8080/",
          "height": 204
        }
      },
      "source": [
        "df = pd.DataFrame(docs, columns= ['tokenize_text', 'review'])\n",
        "df['length_text'] = df['tokenize_text'].apply(lambda x: len(x))\n",
        "df.head()"
      ],
      "execution_count": 126,
      "outputs": [
        {
          "output_type": "execute_result",
          "data": {
            "text/html": [
              "<div>\n",
              "<style scoped>\n",
              "    .dataframe tbody tr th:only-of-type {\n",
              "        vertical-align: middle;\n",
              "    }\n",
              "\n",
              "    .dataframe tbody tr th {\n",
              "        vertical-align: top;\n",
              "    }\n",
              "\n",
              "    .dataframe thead th {\n",
              "        text-align: right;\n",
              "    }\n",
              "</style>\n",
              "<table border=\"1\" class=\"dataframe\">\n",
              "  <thead>\n",
              "    <tr style=\"text-align: right;\">\n",
              "      <th></th>\n",
              "      <th>tokenize_text</th>\n",
              "      <th>review</th>\n",
              "      <th>length_text</th>\n",
              "    </tr>\n",
              "  </thead>\n",
              "  <tbody>\n",
              "    <tr>\n",
              "      <th>0</th>\n",
              "      <td>[\", from, the, director, of, \", the, nightmare...</td>\n",
              "      <td>neg</td>\n",
              "      <td>684</td>\n",
              "    </tr>\n",
              "    <tr>\n",
              "      <th>1</th>\n",
              "      <td>[`, run, lola, run, ', ,, a, german, import, t...</td>\n",
              "      <td>pos</td>\n",
              "      <td>745</td>\n",
              "    </tr>\n",
              "    <tr>\n",
              "      <th>2</th>\n",
              "      <td>[the, happy, bastard, ', s, quick, movie, revi...</td>\n",
              "      <td>neg</td>\n",
              "      <td>904</td>\n",
              "    </tr>\n",
              "    <tr>\n",
              "      <th>3</th>\n",
              "      <td>[robert, benton, has, assembled, a, stellar, ,...</td>\n",
              "      <td>pos</td>\n",
              "      <td>448</td>\n",
              "    </tr>\n",
              "    <tr>\n",
              "      <th>4</th>\n",
              "      <td>[long, ago, ,, films, were, constructed, of, s...</td>\n",
              "      <td>neg</td>\n",
              "      <td>507</td>\n",
              "    </tr>\n",
              "  </tbody>\n",
              "</table>\n",
              "</div>"
            ],
            "text/plain": [
              "                                       tokenize_text review  length_text\n",
              "0  [\", from, the, director, of, \", the, nightmare...    neg          684\n",
              "1  [`, run, lola, run, ', ,, a, german, import, t...    pos          745\n",
              "2  [the, happy, bastard, ', s, quick, movie, revi...    neg          904\n",
              "3  [robert, benton, has, assembled, a, stellar, ,...    pos          448\n",
              "4  [long, ago, ,, films, were, constructed, of, s...    neg          507"
            ]
          },
          "metadata": {
            "tags": []
          },
          "execution_count": 126
        }
      ]
    },
    {
      "cell_type": "code",
      "metadata": {
        "id": "Jel97BHoO060",
        "outputId": "ed829e61-cea6-4ef6-df9f-dc4797d679ca",
        "colab": {
          "base_uri": "https://localhost:8080/",
          "height": 34
        }
      },
      "source": [
        "stopw = stopwords.words('english')\n",
        "signos = ['.',',',';',':','_','-','--','\\\"','\\'','/','(',')','[',']','{','}','!','¡','*','+','$','%']\n",
        "stopw[:5]"
      ],
      "execution_count": 127,
      "outputs": [
        {
          "output_type": "execute_result",
          "data": {
            "text/plain": [
              "['i', 'me', 'my', 'myself', 'we']"
            ]
          },
          "metadata": {
            "tags": []
          },
          "execution_count": 127
        }
      ]
    },
    {
      "cell_type": "code",
      "metadata": {
        "id": "BTnZ2uf5RqjC"
      },
      "source": [
        "def extract_words(text, stopw = stopw, signos = signos):\n",
        "    res = [w for w in text if w.lower() not in stopw and w not in signos]\n",
        "    freq = nltk.FreqDist(res)\n",
        "    return [w for w, c in freq.most_common(25)]"
      ],
      "execution_count": 128,
      "outputs": []
    },
    {
      "cell_type": "code",
      "metadata": {
        "id": "WLy_IpRjNt9I",
        "outputId": "3f087cb2-5f99-4d35-b931-e88340b4ef9f",
        "colab": {
          "base_uri": "https://localhost:8080/",
          "height": 204
        }
      },
      "source": [
        "df['representative_words'] = df['tokenize_text'].apply(extract_words)\n",
        "df.head()"
      ],
      "execution_count": 129,
      "outputs": [
        {
          "output_type": "execute_result",
          "data": {
            "text/html": [
              "<div>\n",
              "<style scoped>\n",
              "    .dataframe tbody tr th:only-of-type {\n",
              "        vertical-align: middle;\n",
              "    }\n",
              "\n",
              "    .dataframe tbody tr th {\n",
              "        vertical-align: top;\n",
              "    }\n",
              "\n",
              "    .dataframe thead th {\n",
              "        text-align: right;\n",
              "    }\n",
              "</style>\n",
              "<table border=\"1\" class=\"dataframe\">\n",
              "  <thead>\n",
              "    <tr style=\"text-align: right;\">\n",
              "      <th></th>\n",
              "      <th>tokenize_text</th>\n",
              "      <th>review</th>\n",
              "      <th>length_text</th>\n",
              "      <th>representative_words</th>\n",
              "    </tr>\n",
              "  </thead>\n",
              "  <tbody>\n",
              "    <tr>\n",
              "      <th>0</th>\n",
              "      <td>[\", from, the, director, of, \", the, nightmare...</td>\n",
              "      <td>neg</td>\n",
              "      <td>684</td>\n",
              "      <td>[monkey, bone, stu, really, get, movie, well, ...</td>\n",
              "    </tr>\n",
              "    <tr>\n",
              "      <th>1</th>\n",
              "      <td>[`, run, lola, run, ', ,, a, german, import, t...</td>\n",
              "      <td>pos</td>\n",
              "      <td>745</td>\n",
              "      <td>[lola, run, `, film, visual, fate, minutes, ti...</td>\n",
              "    </tr>\n",
              "    <tr>\n",
              "      <th>2</th>\n",
              "      <td>[the, happy, bastard, ', s, quick, movie, revi...</td>\n",
              "      <td>neg</td>\n",
              "      <td>904</td>\n",
              "      <td>[wild, west, story, movie, smith, better, big,...</td>\n",
              "    </tr>\n",
              "    <tr>\n",
              "      <th>3</th>\n",
              "      <td>[robert, benton, has, assembled, a, stellar, ,...</td>\n",
              "      <td>pos</td>\n",
              "      <td>448</td>\n",
              "      <td>[harry, cast, twilight, film, newman, hackman,...</td>\n",
              "    </tr>\n",
              "    <tr>\n",
              "      <th>4</th>\n",
              "      <td>[long, ago, ,, films, were, constructed, of, s...</td>\n",
              "      <td>neg</td>\n",
              "      <td>507</td>\n",
              "      <td>[novalee, one, film, heart, boyfriend, wal, ma...</td>\n",
              "    </tr>\n",
              "  </tbody>\n",
              "</table>\n",
              "</div>"
            ],
            "text/plain": [
              "                                       tokenize_text  ...                               representative_words\n",
              "0  [\", from, the, director, of, \", the, nightmare...  ...  [monkey, bone, stu, really, get, movie, well, ...\n",
              "1  [`, run, lola, run, ', ,, a, german, import, t...  ...  [lola, run, `, film, visual, fate, minutes, ti...\n",
              "2  [the, happy, bastard, ', s, quick, movie, revi...  ...  [wild, west, story, movie, smith, better, big,...\n",
              "3  [robert, benton, has, assembled, a, stellar, ,...  ...  [harry, cast, twilight, film, newman, hackman,...\n",
              "4  [long, ago, ,, films, were, constructed, of, s...  ...  [novalee, one, film, heart, boyfriend, wal, ma...\n",
              "\n",
              "[5 rows x 4 columns]"
            ]
          },
          "metadata": {
            "tags": []
          },
          "execution_count": 129
        }
      ]
    },
    {
      "cell_type": "code",
      "metadata": {
        "id": "VfXb53YTZOBE"
      },
      "source": [
        "unique = set ([w for words in df['representative_words'] for w in words])\n",
        "\n",
        "def atributos(words, vocab = unique):\n",
        "  categories = {}\n",
        "  for word in words:\n",
        "    categories[f'has({word})'] = word in vocab\n",
        "  return categories"
      ],
      "execution_count": 131,
      "outputs": []
    },
    {
      "cell_type": "code",
      "metadata": {
        "id": "LkFCE9CWTu3K"
      },
      "source": [
        "df = df[['representative_words','review']]\n",
        "x = np.array([(atributos(w), c) for w,c in df.values])"
      ],
      "execution_count": 134,
      "outputs": []
    },
    {
      "cell_type": "code",
      "metadata": {
        "id": "8-wgmU5Okk5h",
        "outputId": "c9d7d8de-5b1b-4b6d-f499-38c33103413f",
        "colab": {
          "base_uri": "https://localhost:8080/",
          "height": 34
        }
      },
      "source": [
        "list_acc = []\n",
        "acc = 0\n",
        "kf = ShuffleSplit(n_splits=5, train_size=0.9, random_state=42)\n",
        "for train, test in kf.split(x):\n",
        "  model2 = nltk.NaiveBayesClassifier.train(x[train])\n",
        "  aux_acc = nltk.classify.accuracy(model2, x[test])\n",
        "  if aux_acc > acc:\n",
        "    acc = aux_acc\n",
        "    np.save('train.npy', x[train])\n",
        "    np.save('test.npy', x[test])\n",
        "  list_acc.append(aux_acc)\n",
        "\n",
        "list_acc"
      ],
      "execution_count": 135,
      "outputs": [
        {
          "output_type": "execute_result",
          "data": {
            "text/plain": [
              "[0.725, 0.65, 0.695, 0.655, 0.745]"
            ]
          },
          "metadata": {
            "tags": []
          },
          "execution_count": 135
        }
      ]
    },
    {
      "cell_type": "markdown",
      "metadata": {
        "id": "pePYtCTsU1KX"
      },
      "source": [
        "## Entrenando el Modelo"
      ]
    },
    {
      "cell_type": "code",
      "metadata": {
        "id": "_xNe7A2gU49G"
      },
      "source": [
        "import nltk\n",
        "from sklearn.metrics import accuracy_score, precision_score, recall_score, f1_score\n",
        "from sklearn.ensemble import RandomForestClassifier"
      ],
      "execution_count": 136,
      "outputs": []
    },
    {
      "cell_type": "code",
      "metadata": {
        "id": "q5L5xF6LlFlF"
      },
      "source": [
        "train_data = np.load('train.npy', allow_pickle='TRUE')\n",
        "test_data = np.load('test.npy', allow_pickle='TRUE')"
      ],
      "execution_count": 137,
      "outputs": []
    },
    {
      "cell_type": "code",
      "metadata": {
        "id": "hdA1kJKHZGbh",
        "outputId": "9301fbc7-0e07-4e89-ec83-7d776f69df3c",
        "colab": {
          "base_uri": "https://localhost:8080/",
          "height": 0
        }
      },
      "source": [
        "model = nltk.NaiveBayesClassifier.train(train_data)\n",
        "model.show_most_informative_features()"
      ],
      "execution_count": 138,
      "outputs": [
        {
          "output_type": "stream",
          "text": [
            "Most Informative Features\n",
            "             has(stupid) = True              neg : pos    =     12.2 : 1.0\n",
            "           has(supposed) = True              neg : pos    =     11.6 : 1.0\n",
            "             has(batman) = True              neg : pos    =     11.6 : 1.0\n",
            "          has(spielberg) = True              pos : neg    =     10.4 : 1.0\n",
            "             has(career) = True              neg : pos    =      8.3 : 1.0\n",
            "            has(cameron) = True              pos : neg    =      7.9 : 1.0\n",
            "            has(history) = True              pos : neg    =      7.1 : 1.0\n",
            "               has(rose) = True              pos : neg    =      7.1 : 1.0\n",
            "             has(truman) = True              pos : neg    =      7.1 : 1.0\n",
            "               has(jedi) = True              pos : neg    =      7.1 : 1.0\n"
          ],
          "name": "stdout"
        }
      ]
    },
    {
      "cell_type": "code",
      "metadata": {
        "id": "Nh9Kv5IVbpoy",
        "outputId": "a7c94043-b820-44ae-e9b3-c018702ce51c",
        "colab": {
          "base_uri": "https://localhost:8080/",
          "height": 0
        }
      },
      "source": [
        "print(nltk.classify.accuracy(model, test_data))"
      ],
      "execution_count": 139,
      "outputs": [
        {
          "output_type": "stream",
          "text": [
            "0.745\n"
          ],
          "name": "stdout"
        }
      ]
    },
    {
      "cell_type": "markdown",
      "metadata": {
        "id": "Lxt_JQdXNobW"
      },
      "source": [
        "## Vectorización de texto como una generalización de los feature_sets\n",
        "---\n",
        "En el reto anterior vimos que la noción de modelos de máxima entropía implica la consideración de varios features que quedaban codificados en funciones que  escribiamos como $f_a(t, o)$. Donde para el caso particular de un modelo de máxima entropia considerabamos el cálculo de las probabilidades como combinaciones lineales entre los features y sus respectivos pesos $\\theta_i$, de manera que: \n",
        "\n",
        "$$\n",
        "\\theta_1 f_1(t, o) + \\theta_2 f_2(t, o) + \\dots\n",
        "$$\n",
        "\n",
        "Si en general consideramos $n$ features o atributos por cada documento de texto, tenemos un conjunto de parámetros que se pueden escribir como componentes de un vector $[\\theta_1,  \\dots, \\theta_n]$ y lo mismo para los features así: $[f_1,  \\dots, f_n]$, como sabemos que estos features toman valores entre cero y uno tenemos que un vector de features podría verse algo como: \n",
        "\n",
        "$$\n",
        "[1, 1, 0, \\dots, 0, 0, 1]\n",
        "$$\n",
        "\n",
        "de manera que la combinacion lineal de features y parámetros se puede escribir como el producto de vectores: \n",
        "\n",
        "$$\n",
        "\\theta_1 f_1(t, o) + \\theta_2 f_2(t, o) + \\dots = [\\theta_1,  \\dots, \\theta_n] \\cdot [f_1,  \\dots, f_n] \n",
        "$$\n",
        "\n",
        "Y es así como decimos que hemos vectorizado un texto en términos de sus features. Esta noción general de representación de texto resultará más cómoda para el reto que resolveremos en este notebook. "
      ]
    },
    {
      "cell_type": "markdown",
      "metadata": {
        "id": "6SH5pP5yaQr7"
      },
      "source": [
        "### Trabajando con un dataset pre-procesado (modelo multicategoria 1-5)\n",
        "\n",
        "Aquí trabajaremos con el dataset: **processed_stars** , el cual ya tiene pre-procesados los atributos de los textos junto con la etiqueta de sentimiento de cada uno, que ahora en este caso toma valores en una escala numérica de 1 a 5. \n",
        "\n",
        "---"
      ]
    },
    {
      "cell_type": "code",
      "metadata": {
        "id": "06npFoeulNmH"
      },
      "source": [
        "!pip install stanza"
      ],
      "execution_count": null,
      "outputs": []
    },
    {
      "cell_type": "code",
      "metadata": {
        "id": "bAoYOvBAaV5m"
      },
      "source": [
        "f = open('/content/drive/My Drive/Data_repository/processed_stars/books/all_balanced.review', 'r')\n",
        "text = f.read()\n",
        "f.close()\n",
        "text\n",
        "text.split('\\n')[0]"
      ],
      "execution_count": null,
      "outputs": []
    },
    {
      "cell_type": "markdown",
      "metadata": {
        "id": "LUzZLsLZkQoV"
      },
      "source": [
        "---\n",
        "Ahora en este caso, cada línea del dataset es un string tipo diccionario con el feature y el numero de veces que aparece en el texto, al final la categoria aparece como `#label#:` y el valor numérico, seguún el caso:\n",
        "\n",
        "```\n",
        "feature1: 1 feature2: 2, ... #label#: 2.0\n",
        "\n",
        "```\n",
        "\n",
        "Aquí consideraremos el mismo tipo de vectorización usado en el caso anterior con el dataset **processed_stars**\n",
        "\n",
        "---"
      ]
    },
    {
      "cell_type": "code",
      "metadata": {
        "id": "MYOOiGP8UCmr",
        "outputId": "abbe9111-dc91-4b82-c5bb-d8269e22c682",
        "colab": {
          "base_uri": "https://localhost:8080/",
          "height": 34
        }
      },
      "source": [
        "import nltk\n",
        "bag_of_words = []\n",
        "for line in text.split('\\n'):\n",
        "  seq = line.split('#label#:')\n",
        "  if len(seq)==2:\n",
        "    for key_value in seq[0].split(' '):\n",
        "      bag_of_words.append(key_value.split(':')[0]) \n",
        "fdist = nltk.FreqDist(bag_of_words)\n",
        "print('considerando todo el BOW tendríamos: {} features posibles'.format(len(fdist)))"
      ],
      "execution_count": null,
      "outputs": [
        {
          "output_type": "stream",
          "text": [
            "considerando todo el BOW tendríamos: 401727 features posibles\n"
          ],
          "name": "stdout"
        }
      ]
    },
    {
      "cell_type": "code",
      "metadata": {
        "id": "guyF26i6b7_9",
        "outputId": "8c47b536-dd4d-45c9-d0a9-63a16f8e17d0",
        "colab": {
          "base_uri": "https://localhost:8080/",
          "height": 317
        }
      },
      "source": [
        "# la distribucion de frecuencias es diferente por que el corpus que tenenmos \n",
        "# es más grande y más general.\n",
        "fdist.plot(50)"
      ],
      "execution_count": null,
      "outputs": [
        {
          "output_type": "display_data",
          "data": {
            "image/png": "[encoded data removed]",
            "text/plain": [
              "<Figure size 432x288 with 1 Axes>"
            ]
          },
          "metadata": {
            "tags": [],
            "needs_background": "light"
          }
        }
      ]
    },
    {
      "cell_type": "code",
      "metadata": {
        "id": "dXsbY0f9dbGi",
        "outputId": "2d78226c-d4cb-4624-f15f-2e9fd9c8f5db",
        "colab": {
          "base_uri": "https://localhost:8080/",
          "height": 34
        }
      },
      "source": [
        "reduced_bow = [w for w in set(bag_of_words) if fdist[w]>100]\n",
        "len(reduced_bow)"
      ],
      "execution_count": null,
      "outputs": [
        {
          "output_type": "execute_result",
          "data": {
            "text/plain": [
              "1214"
            ]
          },
          "metadata": {
            "tags": []
          },
          "execution_count": 18
        }
      ]
    },
    {
      "cell_type": "code",
      "metadata": {
        "id": "3mwpTukydiS2"
      },
      "source": [
        "import numpy as np\n",
        "\n",
        "vectors = []\n",
        "labels = []\n",
        "for line in text.split('\\n'):\n",
        "  seq = line.split('#label#:')\n",
        "  if len(seq)==2:\n",
        "    line_dict = {keyval.split(':')[0]: int(keyval.split(':')[1]) for keyval in seq[0].split(' ') if len(keyval.split(':'))==2}\n",
        "    line_vector = []\n",
        "    for word in reduced_bow:\n",
        "      if word in line_dict.keys():\n",
        "        line_vector.append(line_dict[word])\n",
        "      else:\n",
        "        line_vector.append(0)\n",
        "    vectors.append(line_vector)\n",
        "    labels.append(float(seq[1]))\n",
        "\n",
        "vectors = np.array(vectors)"
      ],
      "execution_count": null,
      "outputs": []
    },
    {
      "cell_type": "code",
      "metadata": {
        "id": "l3_C8Qp1eO7g",
        "outputId": "a5c5af4c-5565-4971-cf55-2eddf5d222c0",
        "colab": {
          "base_uri": "https://localhost:8080/",
          "height": 136
        }
      },
      "source": [
        "vectors"
      ],
      "execution_count": null,
      "outputs": [
        {
          "output_type": "execute_result",
          "data": {
            "text/plain": [
              "array([[0, 0, 0, ..., 0, 0, 0],\n",
              "       [0, 0, 0, ..., 0, 0, 0],\n",
              "       [0, 0, 0, ..., 0, 0, 1],\n",
              "       ...,\n",
              "       [0, 0, 0, ..., 0, 0, 0],\n",
              "       [0, 0, 0, ..., 0, 0, 0],\n",
              "       [0, 0, 0, ..., 0, 0, 0]])"
            ]
          },
          "metadata": {
            "tags": []
          },
          "execution_count": 20
        }
      ]
    },
    {
      "cell_type": "code",
      "metadata": {
        "id": "Nd1IOVYSho_E",
        "outputId": "5d2a41b3-cee9-4059-deaa-9caa1f7db78f",
        "colab": {
          "base_uri": "https://localhost:8080/",
          "height": 34
        }
      },
      "source": [
        "set(labels).                                                "
      ],
      "execution_count": null,
      "outputs": [
        {
          "output_type": "execute_result",
          "data": {
            "text/plain": [
              "{1.0, 2.0, 4.0, 5.0}"
            ]
          },
          "metadata": {
            "tags": []
          },
          "execution_count": 21
        }
      ]
    },
    {
      "cell_type": "code",
      "metadata": {
        "id": "2wcgcdxFefHz",
        "outputId": "a467ce85-b4f2-42e4-eb06-cdfa58806a9b",
        "colab": {
          "base_uri": "https://localhost:8080/",
          "height": 68
        }
      },
      "source": [
        "from sklearn.model_selection import train_test_split\n",
        "\n",
        "train_vectors, test_vectors, train_labels, test_labels = train_test_split(vectors, labels, test_size=0.1, random_state=42)\n",
        "print('longitud dataset de entrenamiento: {}'.format(len(train_vectors)))\n",
        "print('longitud dataset de evaluación: {}'.format(len(test_vectors)))\n",
        "\n",
        "from sklearn.naive_bayes import MultinomialNB\n",
        "\n",
        "clf = MultinomialNB().fit(train_vectors, train_labels)\n",
        "clf.score(test_vectors, test_labels)"
      ],
      "execution_count": null,
      "outputs": [
        {
          "output_type": "stream",
          "text": [
            "longitud dataset de entrenamiento: 4950\n",
            "longitud dataset de evaluación: 551\n"
          ],
          "name": "stdout"
        },
        {
          "output_type": "execute_result",
          "data": {
            "text/plain": [
              "0.5081669691470054"
            ]
          },
          "metadata": {
            "tags": []
          },
          "execution_count": 22
        }
      ]
    },
    {
      "cell_type": "code",
      "metadata": {
        "id": "Ofgv9wGoeqEK",
        "outputId": "f9481675-5c3a-4b16-a00f-35ccf18f1b5a",
        "colab": {
          "base_uri": "https://localhost:8080/",
          "height": 282
        }
      },
      "source": [
        "cm = confusion_matrix(test_labels, clf.predict(test_vectors))\n",
        "\n",
        "group_counts = [\"{0:0.0f}\".format(value) for value in\n",
        "                cm.flatten()]\n",
        "group_percentages = [\"{0:.2%}\".format(value) for value in\n",
        "                     cm.flatten()/np.sum(cm)]\n",
        "\n",
        "annot = [f'{v1}\\n{v2}' for v1, v2 in zip(group_counts,group_percentages)]\n",
        "annot = np.asarray(annot).reshape(4,4)\n",
        "sns.heatmap(cm, annot=annot, fmt='', cmap='Blues')"
      ],
      "execution_count": null,
      "outputs": [
        {
          "output_type": "execute_result",
          "data": {
            "text/plain": [
              "<matplotlib.axes._subplots.AxesSubplot at 0x7f8d456eee80>"
            ]
          },
          "metadata": {
            "tags": []
          },
          "execution_count": 23
        },
        {
          "output_type": "display_data",
          "data": {
            "image/png": "[encoded data removed]",
            "text/plain": [
              "<Figure size 432x288 with 2 Axes>"
            ]
          },
          "metadata": {
            "tags": [],
            "needs_background": "light"
          }
        }
      ]
    },
    {
      "cell_type": "markdown",
      "metadata": {
        "id": "AYUxdxmzyvKO"
      },
      "source": [
        "---\n",
        "Como caso curioso, en la siguiente celda consideramos el entrenamiento de otros modelos de clasificación implementados en scikit. Con los conocimientos que ahora tienes, puedes explorar con total libertad el zoologico de modelos de clasificación que existen !! \n",
        "\n",
        "---"
      ]
    },
    {
      "cell_type": "code",
      "metadata": {
        "id": "6_xv-qyYiXUk",
        "outputId": "67f29b24-7dae-4114-b359-ce196b20723a",
        "colab": {
          "base_uri": "https://localhost:8080/",
          "height": 68
        }
      },
      "source": [
        "from sklearn.ensemble import RandomForestClassifier\n",
        "from sklearn.naive_bayes import BernoulliNB, ComplementNB, MultinomialNB\n",
        "\n",
        "clf = RandomForestClassifier().fit(train_vectors, train_labels)\n",
        "print('Score for RandomForestClassifier = {}'.format(clf.score(test_vectors, test_labels)))\n",
        "\n",
        "clf = BernoulliNB().fit(train_vectors, train_labels)\n",
        "print('Score for Naive Bayes Bernoulli = {}'.format(clf.score(test_vectors, test_labels)))\n",
        "\n",
        "clf = ComplementNB().fit(train_vectors, train_labels)\n",
        "print('Score for Naive Bayes Complement = {}'.format(clf.score(test_vectors, test_labels)))"
      ],
      "execution_count": null,
      "outputs": [
        {
          "output_type": "stream",
          "text": [
            "Score for RandomForestClassifier = 0.4809437386569873\n",
            "Score for Naive Bayes Bernoulli = 0.43920145190562615\n",
            "Score for Naive Bayes Complement = 0.49909255898366606\n"
          ],
          "name": "stdout"
        }
      ]
    },
    {
      "cell_type": "markdown",
      "metadata": {
        "id": "DKeOILCMT7rr"
      },
      "source": [
        "### Trabajando con un dataset pre-procesado (modelo binario +/-)\n",
        "\n",
        "Ahora trabajaremos con el dataset: **processed_acl** de la fuente: http://www.cs.jhu.edu/~mdredze/datasets/sentiment/ que se presento en la clase de presentación del reto, el cual ya tiene pre-procesados los atributos de los textos junto con la etiqueta de sentimiento de cada uno, que puede ser `positiva` o `negativa`.  \n",
        "\n",
        "---"
      ]
    },
    {
      "cell_type": "code",
      "metadata": {
        "id": "81YNS6rvE4b1",
        "outputId": "beb0d015-2edf-4440-b11f-9c5e995ecdcb",
        "colab": {
          "base_uri": "https://localhost:8080/",
          "height": 54
        }
      },
      "source": [
        "# el dataset lo tengo guardado en mi Drive, asi que \n",
        "# tu deberás hacer algo similar para poder ejecutar este notebook\n",
        "from google.colab import drive\n",
        "drive.mount('/content/drive')"
      ],
      "execution_count": null,
      "outputs": [
        {
          "output_type": "stream",
          "text": [
            "Drive already mounted at /content/drive; to attempt to forcibly remount, call drive.mount(\"/content/drive\", force_remount=True).\n"
          ],
          "name": "stdout"
        }
      ]
    },
    {
      "cell_type": "markdown",
      "metadata": {
        "id": "Be7JreJXSl6y"
      },
      "source": [
        "Ahora exploramos la estructura del dataset, **considerando solamente la categoría books**:"
      ]
    },
    {
      "cell_type": "code",
      "metadata": {
        "id": "u7MJF9K0DadK"
      },
      "source": [
        "# aqui modificas tus rutas, segun lo que tengas en tu Drive personal\n",
        "f = open('/content/drive/My Drive/Data_repository/processed_acl/books/negative.review', 'r')\n",
        "text_negative = f.read()\n",
        "f.close()\n",
        "f = open('/content/drive/My Drive/Data_repository/processed_acl/books/positive.review', 'r')\n",
        "text_positive = f.read()\n",
        "f.close()"
      ],
      "execution_count": null,
      "outputs": []
    },
    {
      "cell_type": "code",
      "metadata": {
        "id": "vWKvMkEUKIEH"
      },
      "source": [
        "# ejemplo de un texto pre-procesado\n",
        "text_negative.split('\\n')[0]"
      ],
      "execution_count": null,
      "outputs": []
    },
    {
      "cell_type": "markdown",
      "metadata": {
        "id": "_8K-yVwkTRRD"
      },
      "source": [
        "---\n",
        "Cada línea del dataset es un string tipo diccionario (donde cada llave-valor son el feature y el numero de veces que aparece en el texto), al final la categoria aparece como `#label#:` y el valor negative o positive, según el caso:\n",
        "\n",
        "```\n",
        "feature1: 1 feature2: 2, ... #label#: negative\n",
        "\n",
        "```\n",
        "\n",
        "Así, de esta estructura podemos considerar un tipo de vectorización no-binaria donde cada elemento del vector de texto, es el número de veces que un feature es observado en el documento, si los features los consideramos como diferentes palabras clave entonces a este proceso se le denomina vectorizacion por bolsa de palabras o **Bag of Words (BOW)**\n",
        "\n",
        "|       | word_1 | word_2 | ... | word_n |\n",
        "|-------|--------|--------|-----|--------|\n",
        "| doc_1 | 1      | 2      |     | 0      |\n",
        "| doc_2 | 0      | 2      |     | 1      |\n",
        "| doc_3 | 3      | 1      |     | 1      |\n",
        "\n",
        "por ejemplo, el vector del documento `doc_1` sería :\n",
        "\n",
        "$$\n",
        "[1, 2, \\dots, 0]\n",
        "$$\n",
        "\n",
        "---"
      ]
    },
    {
      "cell_type": "code",
      "metadata": {
        "id": "aEYMR32sHNcP",
        "outputId": "a9436d84-d37f-4169-ca58-f7f59e44c594",
        "colab": {
          "base_uri": "https://localhost:8080/",
          "height": 34
        }
      },
      "source": [
        "# Aquí construirmos un bag of words con su respectiva distribucion de frecuencias\n",
        "import nltk\n",
        "bag_of_words = []\n",
        "for line in text_negative.split('#label#:negative\\n'):\n",
        "  for key_value in line.split(' '):\n",
        "           bag_of_words.append(key_value.split(':')[0]) \n",
        "for line in text_positive.split('#label#:positive\\n'):\n",
        "  for key_value in line.split(' '):\n",
        "           bag_of_words.append(key_value.split(':')[0]) \n",
        "fdist = nltk.FreqDist(bag_of_words)\n",
        "print('considerando todo el BOW tendríamos: {} features posibles'.format(len(fdist)))"
      ],
      "execution_count": null,
      "outputs": [
        {
          "output_type": "stream",
          "text": [
            "considerando todo el BOW tendríamos: 195888 features posibles\n"
          ],
          "name": "stdout"
        }
      ]
    },
    {
      "cell_type": "code",
      "metadata": {
        "id": "NknOD12efzdZ",
        "outputId": "3e16f564-721d-48d0-b550-9711af1c72c0",
        "colab": {
          "base_uri": "https://localhost:8080/",
          "height": 317
        }
      },
      "source": [
        "# consideramos filtrar solo a un sub-grupo de features (los más frecuentes)\n",
        "fdist.plot(50)"
      ],
      "execution_count": null,
      "outputs": [
        {
          "output_type": "display_data",
          "data": {
            "image/png": "[encoded data removed]",
            "text/plain": [
              "<Figure size 432x288 with 1 Axes>"
            ]
          },
          "metadata": {
            "tags": [],
            "needs_background": "light"
          }
        }
      ]
    },
    {
      "cell_type": "code",
      "metadata": {
        "id": "3awNYf3QVEAq"
      },
      "source": [
        "# escogemos armar un BOW reducido solo con las palabras más frecuentes\n",
        "reduced_bow = [w for w in set(bag_of_words) if fdist[w]>50]"
      ],
      "execution_count": null,
      "outputs": []
    },
    {
      "cell_type": "code",
      "metadata": {
        "id": "zSkMLfqpoD5S",
        "outputId": "dbbf535f-dc01-4197-a5b4-a85439b2894d",
        "colab": {
          "base_uri": "https://localhost:8080/",
          "height": 34
        }
      },
      "source": [
        "#aquí tendriamos la longitud de los vectores para cada texto\n",
        "len(reduced_bow)"
      ],
      "execution_count": null,
      "outputs": [
        {
          "output_type": "execute_result",
          "data": {
            "text/plain": [
              "813"
            ]
          },
          "metadata": {
            "tags": []
          },
          "execution_count": 7
        }
      ]
    },
    {
      "cell_type": "code",
      "metadata": {
        "id": "zUG6-uBvWiVv"
      },
      "source": [
        "#ahora vamos a crear el vector por cada documento\n",
        "import numpy as np\n",
        "\n",
        "vectors = []\n",
        "labels = []\n",
        "for line in text_negative.split('#label#:negative\\n'):\n",
        "  line_dict = {keyval.split(':')[0]: int(keyval.split(':')[1]) for keyval in line.split(' ') if len(keyval.split(':'))==2}\n",
        "  line_vector = []\n",
        "  for word in reduced_bow:\n",
        "    if word in line_dict.keys():\n",
        "      line_vector.append(line_dict[word])\n",
        "    else:\n",
        "      line_vector.append(0)\n",
        "  vectors.append(line_vector)\n",
        "  labels.append('negative')\n",
        "\n",
        "for line in text_positive.split('#label#:positive\\n'):\n",
        "  line_dict = {keyval.split(':')[0]: int(keyval.split(':')[1]) for keyval in line.split(' ') if len(keyval.split(':'))==2}\n",
        "  line_vector = []\n",
        "  for word in reduced_bow:\n",
        "    if word in line_dict.keys():\n",
        "      line_vector.append(line_dict[word])\n",
        "    else:\n",
        "      line_vector.append(0)\n",
        "  vectors.append(line_vector)\n",
        "  labels.append('positive')\n",
        "\n",
        "vectors = np.array(vectors)"
      ],
      "execution_count": null,
      "outputs": []
    },
    {
      "cell_type": "code",
      "metadata": {
        "id": "nCj1gg-kXdxt",
        "outputId": "4bc4858b-a77d-40ba-a86e-7434627015d1",
        "colab": {
          "base_uri": "https://localhost:8080/",
          "height": 34
        }
      },
      "source": [
        "vectors.shape"
      ],
      "execution_count": null,
      "outputs": [
        {
          "output_type": "execute_result",
          "data": {
            "text/plain": [
              "(2002, 813)"
            ]
          },
          "metadata": {
            "tags": []
          },
          "execution_count": 9
        }
      ]
    },
    {
      "cell_type": "code",
      "metadata": {
        "id": "1fNm6T3cfrLx",
        "outputId": "ef46c1c9-9a05-458c-88fc-e62bed6f1e9f",
        "colab": {
          "base_uri": "https://localhost:8080/",
          "height": 136
        }
      },
      "source": [
        "vectors"
      ],
      "execution_count": null,
      "outputs": [
        {
          "output_type": "execute_result",
          "data": {
            "text/plain": [
              "array([[0, 0, 0, ..., 0, 0, 0],\n",
              "       [0, 0, 0, ..., 0, 0, 0],\n",
              "       [0, 0, 0, ..., 0, 0, 0],\n",
              "       ...,\n",
              "       [0, 0, 0, ..., 0, 0, 0],\n",
              "       [0, 0, 0, ..., 0, 0, 0],\n",
              "       [0, 0, 0, ..., 0, 0, 0]])"
            ]
          },
          "metadata": {
            "tags": []
          },
          "execution_count": 10
        }
      ]
    },
    {
      "cell_type": "code",
      "metadata": {
        "id": "zrIrzlAd6VHb",
        "outputId": "79b3b197-f355-49ca-80a0-9e32ef8c6a95",
        "colab": {
          "base_uri": "https://localhost:8080/",
          "height": 51
        }
      },
      "source": [
        "from sklearn.model_selection import train_test_split\n",
        "\n",
        "train_vectors, test_vectors, train_labels, test_labels = train_test_split(vectors, labels, test_size=0.2, random_state=42)\n",
        "print('longitud dataset de entrenamiento: {}'.format(len(train_vectors)))\n",
        "print('longitud dataset de evaluación: {}'.format(len(test_vectors)))"
      ],
      "execution_count": null,
      "outputs": [
        {
          "output_type": "stream",
          "text": [
            "longitud dataset de entrenamiento: 1601\n",
            "longitud dataset de evaluación: 401\n"
          ],
          "name": "stdout"
        }
      ]
    },
    {
      "cell_type": "markdown",
      "metadata": {
        "id": "9t0BJm1t7_dV"
      },
      "source": [
        "---\n",
        "Vamos a considerar para el entrenamiento la implementación de Naive Bayes de Scikit Learn, en particular el Naive Bayes multinomial que es apropiado para este caso de vectores que  representan conteos de palabras. \n",
        "\n",
        "Ver referencia:\n",
        "\n",
        "https://scikit-learn.org/stable/modules/generated/sklearn.naive_bayes.MultinomialNB.html#sklearn.naive_bayes.MultinomialNB \n",
        "\n",
        "---"
      ]
    },
    {
      "cell_type": "code",
      "metadata": {
        "id": "sbvTAe2c6NcE",
        "outputId": "b8528585-5971-4e3a-e089-5b7f24ae4c9b",
        "colab": {
          "base_uri": "https://localhost:8080/",
          "height": 34
        }
      },
      "source": [
        "from sklearn.naive_bayes import MultinomialNB\n",
        "\n",
        "clf = MultinomialNB().fit(train_vectors, train_labels)\n",
        "clf.score(test_vectors, test_labels) # este score nos devuelve el accuracy promedio. "
      ],
      "execution_count": null,
      "outputs": [
        {
          "output_type": "execute_result",
          "data": {
            "text/plain": [
              "0.7855361596009975"
            ]
          },
          "metadata": {
            "tags": []
          },
          "execution_count": 12
        }
      ]
    },
    {
      "cell_type": "markdown",
      "metadata": {
        "id": "l6WjkM8zyCe3"
      },
      "source": [
        "---\n",
        "Aquí calculamos ahora la matríz de confusión, como lo vimos en la clase de métricas de modelos donde estan cantidades como los verdaderos positivos, etc. \n",
        "\n",
        "Usamos scikit learn para calcular la matriz y la libreria Seaborn para dibujar el mapa de calor. Recuerda que en un caso ideal de clasificador perfecto, la matriz de confusion deberia tener todos los elementos por fuera de la diagonal como cero. \n",
        "\n",
        "---"
      ]
    },
    {
      "cell_type": "code",
      "metadata": {
        "id": "4DmQmcbFUFbj",
        "outputId": "3e9c74f8-106f-4f00-b92d-decd7fab769c",
        "colab": {
          "base_uri": "https://localhost:8080/",
          "height": 336
        }
      },
      "source": [
        "from sklearn.metrics import confusion_matrix\n",
        "import seaborn as sns\n",
        "\n",
        "cm = confusion_matrix(test_labels, clf.predict(test_vectors))\n",
        "group_names = ['Verdaderos Negativos','Falsos positivos','Falsos Negativos','Verdaderos positivos']\n",
        "group_counts = [\"{0:0.0f}\".format(value) for value in\n",
        "                cm.flatten()]\n",
        "group_percentages = [\"{0:.2%}\".format(value) for value in\n",
        "                     cm.flatten()/np.sum(cm)]\n",
        "\n",
        "labels = [f'{v1}\\n{v2}\\n{v3}' for v1, v2, v3 in zip(group_names,group_counts,group_percentages)]\n",
        "labels = np.asarray(labels).reshape(2,2)\n",
        "\n",
        "sns.heatmap(cm, annot=labels,fmt='', cmap='Blues')"
      ],
      "execution_count": null,
      "outputs": [
        {
          "output_type": "stream",
          "text": [
            "/usr/local/lib/python3.6/dist-packages/statsmodels/tools/_testing.py:19: FutureWarning: pandas.util.testing is deprecated. Use the functions in the public API at pandas.testing instead.\n",
            "  import pandas.util.testing as tm\n"
          ],
          "name": "stderr"
        },
        {
          "output_type": "execute_result",
          "data": {
            "text/plain": [
              "<matplotlib.axes._subplots.AxesSubplot at 0x7f8d4139a978>"
            ]
          },
          "metadata": {
            "tags": []
          },
          "execution_count": 13
        },
        {
          "output_type": "display_data",
          "data": {
            "image/png": "[encoded data removed]",
            "text/plain": [
              "<Figure size 432x288 with 2 Axes>"
            ]
          },
          "metadata": {
            "tags": [],
            "needs_background": "light"
          }
        }
      ]
    },
    {
      "cell_type": "markdown",
      "metadata": {
        "id": "qUyP1Yx8nTzY"
      },
      "source": [
        "## Ahora, para finalizar ...\n",
        "--- \n",
        "\n",
        "Como puedes ver entrenar un modelo de más de dos clases es más desafiante, el accuracy del 50% nos indica que usar features tipo Bag of words y filtrando por las palabras más comunes del corpus NO es suficiente. ¿que otros tipos de vectorizaciones y selección de features crees que pueden ayudarnos a tener un mejor algoritmo de clasificación en escala numérica discreta?\n",
        "\n",
        "También, es importante que intentes un ejercicio completo de vectorización desde cero con el dataset **sorted_data** que también encuentras en http://www.cs.jhu.edu/~mdredze/datasets/sentiment/. \n",
        "\n",
        "Una guía completa de vectorización de texto la encuentras en la documentación de Scikit: \n",
        "\n",
        "https://scikit-learn.org/stable/tutorial/text_analytics/working_with_text_data.html\n",
        "\n",
        "\n",
        "Con esto hemos terminado definitivamente el curso, ¿Verdad que aprendiste un monton de cosas?. Cuentame en los comentarios de la clase final, que te parecio el curso y que otras cosas esperas en los próximos cursos de la ruta de NLP. \n",
        "\n",
        "\n",
        "Espero que hayas disfrutado este viaje de aprendizaje. "
      ]
    }
  ]
}